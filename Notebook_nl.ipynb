{
 "cells": [
  {
   "cell_type": "markdown",
   "metadata": {},
   "source": [
    "- Summary\n",
    "- Business Understanding\n",
    "- Data Understanding\n"
   ]
  },
  {
   "cell_type": "code",
   "execution_count": 1,
   "metadata": {},
   "outputs": [],
   "source": [
    "import pandas as pd"
   ]
  },
  {
   "cell_type": "code",
   "execution_count": 2,
   "metadata": {},
   "outputs": [],
   "source": [
    "df = pd.read_csv(\"data/tweet_product_company.csv\", encoding = 'latin-1')"
   ]
  },
  {
   "cell_type": "code",
   "execution_count": 3,
   "metadata": {},
   "outputs": [
    {
     "data": {
      "text/html": [
       "<div>\n",
       "<style scoped>\n",
       "    .dataframe tbody tr th:only-of-type {\n",
       "        vertical-align: middle;\n",
       "    }\n",
       "\n",
       "    .dataframe tbody tr th {\n",
       "        vertical-align: top;\n",
       "    }\n",
       "\n",
       "    .dataframe thead th {\n",
       "        text-align: right;\n",
       "    }\n",
       "</style>\n",
       "<table border=\"1\" class=\"dataframe\">\n",
       "  <thead>\n",
       "    <tr style=\"text-align: right;\">\n",
       "      <th></th>\n",
       "      <th>tweet_text</th>\n",
       "      <th>emotion_in_tweet_is_directed_at</th>\n",
       "      <th>is_there_an_emotion_directed_at_a_brand_or_product</th>\n",
       "    </tr>\n",
       "  </thead>\n",
       "  <tbody>\n",
       "    <tr>\n",
       "      <th>0</th>\n",
       "      <td>.@wesley83 I have a 3G iPhone. After 3 hrs twe...</td>\n",
       "      <td>iPhone</td>\n",
       "      <td>Negative emotion</td>\n",
       "    </tr>\n",
       "    <tr>\n",
       "      <th>1</th>\n",
       "      <td>@jessedee Know about @fludapp ? Awesome iPad/i...</td>\n",
       "      <td>iPad or iPhone App</td>\n",
       "      <td>Positive emotion</td>\n",
       "    </tr>\n",
       "    <tr>\n",
       "      <th>2</th>\n",
       "      <td>@swonderlin Can not wait for #iPad 2 also. The...</td>\n",
       "      <td>iPad</td>\n",
       "      <td>Positive emotion</td>\n",
       "    </tr>\n",
       "    <tr>\n",
       "      <th>3</th>\n",
       "      <td>@sxsw I hope this year's festival isn't as cra...</td>\n",
       "      <td>iPad or iPhone App</td>\n",
       "      <td>Negative emotion</td>\n",
       "    </tr>\n",
       "    <tr>\n",
       "      <th>4</th>\n",
       "      <td>@sxtxstate great stuff on Fri #SXSW: Marissa M...</td>\n",
       "      <td>Google</td>\n",
       "      <td>Positive emotion</td>\n",
       "    </tr>\n",
       "  </tbody>\n",
       "</table>\n",
       "</div>"
      ],
      "text/plain": [
       "                                          tweet_text  \\\n",
       "0  .@wesley83 I have a 3G iPhone. After 3 hrs twe...   \n",
       "1  @jessedee Know about @fludapp ? Awesome iPad/i...   \n",
       "2  @swonderlin Can not wait for #iPad 2 also. The...   \n",
       "3  @sxsw I hope this year's festival isn't as cra...   \n",
       "4  @sxtxstate great stuff on Fri #SXSW: Marissa M...   \n",
       "\n",
       "  emotion_in_tweet_is_directed_at  \\\n",
       "0                          iPhone   \n",
       "1              iPad or iPhone App   \n",
       "2                            iPad   \n",
       "3              iPad or iPhone App   \n",
       "4                          Google   \n",
       "\n",
       "  is_there_an_emotion_directed_at_a_brand_or_product  \n",
       "0                                   Negative emotion  \n",
       "1                                   Positive emotion  \n",
       "2                                   Positive emotion  \n",
       "3                                   Negative emotion  \n",
       "4                                   Positive emotion  "
      ]
     },
     "execution_count": 3,
     "metadata": {},
     "output_type": "execute_result"
    }
   ],
   "source": [
    "df.head()"
   ]
  },
  {
   "cell_type": "code",
   "execution_count": 4,
   "metadata": {},
   "outputs": [
    {
     "data": {
      "text/html": [
       "<div>\n",
       "<style scoped>\n",
       "    .dataframe tbody tr th:only-of-type {\n",
       "        vertical-align: middle;\n",
       "    }\n",
       "\n",
       "    .dataframe tbody tr th {\n",
       "        vertical-align: top;\n",
       "    }\n",
       "\n",
       "    .dataframe thead th {\n",
       "        text-align: right;\n",
       "    }\n",
       "</style>\n",
       "<table border=\"1\" class=\"dataframe\">\n",
       "  <thead>\n",
       "    <tr style=\"text-align: right;\">\n",
       "      <th></th>\n",
       "      <th>tweet_text</th>\n",
       "      <th>emotion_in_tweet_is_directed_at</th>\n",
       "      <th>is_there_an_emotion_directed_at_a_brand_or_product</th>\n",
       "    </tr>\n",
       "  </thead>\n",
       "  <tbody>\n",
       "    <tr>\n",
       "      <th>count</th>\n",
       "      <td>9092</td>\n",
       "      <td>3291</td>\n",
       "      <td>9093</td>\n",
       "    </tr>\n",
       "    <tr>\n",
       "      <th>unique</th>\n",
       "      <td>9065</td>\n",
       "      <td>9</td>\n",
       "      <td>4</td>\n",
       "    </tr>\n",
       "    <tr>\n",
       "      <th>top</th>\n",
       "      <td>RT @mention Marissa Mayer: Google Will Connect...</td>\n",
       "      <td>iPad</td>\n",
       "      <td>No emotion toward brand or product</td>\n",
       "    </tr>\n",
       "    <tr>\n",
       "      <th>freq</th>\n",
       "      <td>5</td>\n",
       "      <td>946</td>\n",
       "      <td>5389</td>\n",
       "    </tr>\n",
       "  </tbody>\n",
       "</table>\n",
       "</div>"
      ],
      "text/plain": [
       "                                               tweet_text  \\\n",
       "count                                                9092   \n",
       "unique                                               9065   \n",
       "top     RT @mention Marissa Mayer: Google Will Connect...   \n",
       "freq                                                    5   \n",
       "\n",
       "       emotion_in_tweet_is_directed_at  \\\n",
       "count                             3291   \n",
       "unique                               9   \n",
       "top                               iPad   \n",
       "freq                               946   \n",
       "\n",
       "       is_there_an_emotion_directed_at_a_brand_or_product  \n",
       "count                                                9093  \n",
       "unique                                                  4  \n",
       "top                    No emotion toward brand or product  \n",
       "freq                                                 5389  "
      ]
     },
     "execution_count": 4,
     "metadata": {},
     "output_type": "execute_result"
    }
   ],
   "source": [
    "df.describe()"
   ]
  },
  {
   "cell_type": "markdown",
   "metadata": {},
   "source": [
    "# Wes"
   ]
  },
  {
   "cell_type": "markdown",
   "metadata": {},
   "source": [
    "# Namsoo"
   ]
  },
  {
   "cell_type": "markdown",
   "metadata": {},
   "source": [
    "## EDA"
   ]
  },
  {
   "cell_type": "markdown",
   "metadata": {
    "jp-MarkdownHeadingCollapsed": true
   },
   "source": [
    "### 99.87% of tweets include '#SXSW'"
   ]
  },
  {
   "cell_type": "code",
   "execution_count": 44,
   "metadata": {},
   "outputs": [
    {
     "data": {
      "text/plain": [
       "9082"
      ]
     },
     "execution_count": 44,
     "metadata": {},
     "output_type": "execute_result"
    }
   ],
   "source": [
    "# Checking number of rows containing '#SXSW'\n",
    "df['tweet_text'].str.contains('#SXSW', case = False).sum()"
   ]
  },
  {
   "cell_type": "code",
   "execution_count": 45,
   "metadata": {},
   "outputs": [
    {
     "data": {
      "text/plain": [
       "99.87902782360058"
      ]
     },
     "execution_count": 45,
     "metadata": {},
     "output_type": "execute_result"
    }
   ],
   "source": [
    "9082/9093*100"
   ]
  },
  {
   "cell_type": "markdown",
   "metadata": {},
   "source": [
    "### Missing values in 'emotion_in_tweet_is_directed_at' column\n",
    "\n",
    "- 5802 missing values"
   ]
  },
  {
   "cell_type": "code",
   "execution_count": 102,
   "metadata": {},
   "outputs": [
    {
     "name": "stdout",
     "output_type": "stream",
     "text": [
      "<class 'pandas.core.frame.DataFrame'>\n",
      "RangeIndex: 9093 entries, 0 to 9092\n",
      "Data columns (total 4 columns):\n",
      " #   Column                                              Non-Null Count  Dtype \n",
      "---  ------                                              --------------  ----- \n",
      " 0   tweet_text                                          9092 non-null   object\n",
      " 1   emotion_in_tweet_is_directed_at                     3291 non-null   object\n",
      " 2   is_there_an_emotion_directed_at_a_brand_or_product  9093 non-null   object\n",
      " 3   tweet_text_low                                      9092 non-null   object\n",
      "dtypes: object(4)\n",
      "memory usage: 284.3+ KB\n"
     ]
    }
   ],
   "source": [
    "df.info()"
   ]
  },
  {
   "cell_type": "code",
   "execution_count": 42,
   "metadata": {},
   "outputs": [
    {
     "data": {
      "text/plain": [
       "5802"
      ]
     },
     "execution_count": 42,
     "metadata": {},
     "output_type": "execute_result"
    }
   ],
   "source": [
    "9093 - 3291"
   ]
  },
  {
   "cell_type": "code",
   "execution_count": 27,
   "metadata": {},
   "outputs": [],
   "source": [
    "# Slicing rows with missing values at 'emotion_in_tweet_is_directed_at'\n",
    "df_product_none = df[df['emotion_in_tweet_is_directed_at'].isna()]"
   ]
  },
  {
   "cell_type": "markdown",
   "metadata": {
    "jp-MarkdownHeadingCollapsed": true
   },
   "source": [
    "#### Manual checking of tweets"
   ]
  },
  {
   "cell_type": "code",
   "execution_count": 53,
   "metadata": {},
   "outputs": [],
   "source": [
    "import pprint"
   ]
  },
  {
   "cell_type": "code",
   "execution_count": 61,
   "metadata": {
    "scrolled": true
   },
   "outputs": [],
   "source": [
    "pp = pprint.PrettyPrinter(width=20000)"
   ]
  },
  {
   "cell_type": "code",
   "execution_count": 65,
   "metadata": {},
   "outputs": [],
   "source": [
    "from IPython.display import display"
   ]
  },
  {
   "cell_type": "code",
   "execution_count": 69,
   "metadata": {
    "scrolled": true
   },
   "outputs": [
    {
     "name": "stdout",
     "output_type": "stream",
     "text": [
      "tweet_text                                            @teachntech00 New iPad Apps For #SpeechTherapy...\n",
      "emotion_in_tweet_is_directed_at                                                                     NaN\n",
      "is_there_an_emotion_directed_at_a_brand_or_product                   No emotion toward brand or product\n",
      "Name: 5, dtype: object\n",
      "@teachntech00 New iPad Apps For #SpeechTherapy And Communication Are Showcased At The #SXSW Conference http://ht.ly/49n4M #iear #edchat #asd\n",
      "\n",
      " \n",
      " \n",
      "\n",
      "tweet_text                                                                           NaN\n",
      "emotion_in_tweet_is_directed_at                                                      NaN\n",
      "is_there_an_emotion_directed_at_a_brand_or_product    No emotion toward brand or product\n",
      "Name: 6, dtype: object\n",
      "nan\n",
      "\n",
      " \n",
      " \n",
      "\n",
      "tweet_text                                            Holler Gram for iPad on the iTunes App Store -...\n",
      "emotion_in_tweet_is_directed_at                                                                     NaN\n",
      "is_there_an_emotion_directed_at_a_brand_or_product                   No emotion toward brand or product\n",
      "Name: 16, dtype: object\n",
      "Holler Gram for iPad on the iTunes App Store -  http://t.co/kfN3f5Q (via @marc_is_ken) #sxsw\n",
      "\n",
      " \n",
      " \n",
      "\n",
      "tweet_text                                            Attn: All  #SXSW frineds, @mention Register fo...\n",
      "emotion_in_tweet_is_directed_at                                                                     NaN\n",
      "is_there_an_emotion_directed_at_a_brand_or_product                   No emotion toward brand or product\n",
      "Name: 32, dtype: object\n",
      "Attn: All  #SXSW frineds, @mention Register for #GDGTLive  and see Cobra iRadar for Android. {link}\n",
      "\n",
      " \n",
      " \n",
      "\n",
      "tweet_text                                            Anyone at  #sxsw want to sell their old iPad?\n",
      "emotion_in_tweet_is_directed_at                                                                 NaN\n",
      "is_there_an_emotion_directed_at_a_brand_or_product               No emotion toward brand or product\n",
      "Name: 33, dtype: object\n",
      "Anyone at  #sxsw want to sell their old iPad?\n",
      "\n",
      " \n",
      " \n",
      "\n",
      "tweet_text                                            Anyone at  #SXSW who bought the new iPad want ...\n",
      "emotion_in_tweet_is_directed_at                                                                     NaN\n",
      "is_there_an_emotion_directed_at_a_brand_or_product                   No emotion toward brand or product\n",
      "Name: 34, dtype: object\n",
      "Anyone at  #SXSW who bought the new iPad want to sell their older iPad to me?\n",
      "\n",
      " \n",
      " \n",
      "\n",
      "tweet_text                                            At #sxsw.  Oooh. RT @mention Google to Launch ...\n",
      "emotion_in_tweet_is_directed_at                                                                     NaN\n",
      "is_there_an_emotion_directed_at_a_brand_or_product                   No emotion toward brand or product\n",
      "Name: 35, dtype: object\n",
      "At #sxsw.  Oooh. RT @mention Google to Launch Major New Social Network Called Circles, Possibly Today {link}\n",
      "\n",
      " \n",
      " \n",
      "\n",
      "tweet_text                                            SPIN Play - a new concept in music discovery f...\n",
      "emotion_in_tweet_is_directed_at                                                                     NaN\n",
      "is_there_an_emotion_directed_at_a_brand_or_product                   No emotion toward brand or product\n",
      "Name: 37, dtype: object\n",
      "SPIN Play - a new concept in music discovery for your iPad from @mention &amp; spin.com {link} #iTunes #sxsw @mention\n",
      "\n",
      " \n",
      " \n",
      "\n",
      "tweet_text                                            VatorNews - Google And Apple Force Print Media...\n",
      "emotion_in_tweet_is_directed_at                                                                     NaN\n",
      "is_there_an_emotion_directed_at_a_brand_or_product                   No emotion toward brand or product\n",
      "Name: 39, dtype: object\n",
      "VatorNews - Google And Apple Force Print Media to Evolve? {link} #sxsw\n",
      "\n",
      " \n",
      " \n",
      "\n",
      "tweet_text                                            HootSuite - HootSuite Mobile for #SXSW ~ Updat...\n",
      "emotion_in_tweet_is_directed_at                                                                     NaN\n",
      "is_there_an_emotion_directed_at_a_brand_or_product                   No emotion toward brand or product\n",
      "Name: 41, dtype: object\n",
      "HootSuite - HootSuite Mobile for #SXSW ~ Updates for iPhone, BlackBerry &amp; Android: Whether youÛªre getting friend... {link}\n",
      "\n",
      " \n",
      " \n",
      "\n",
      "tweet_text                                            Hey #SXSW - How long do you think it takes us ...\n",
      "emotion_in_tweet_is_directed_at                                                                     NaN\n",
      "is_there_an_emotion_directed_at_a_brand_or_product                   No emotion toward brand or product\n",
      "Name: 42, dtype: object\n",
      "Hey #SXSW - How long do you think it takes us to make an iPhone case? answer @mention using #zazzlesxsw and weÛªll make you one!\n",
      "\n",
      " \n",
      " \n",
      "\n",
      "tweet_text                                            Mashable! - The iPad 2 Takes Over SXSW [VIDEO]...\n",
      "emotion_in_tweet_is_directed_at                                                                     NaN\n",
      "is_there_an_emotion_directed_at_a_brand_or_product                   No emotion toward brand or product\n",
      "Name: 43, dtype: object\n",
      "Mashable! - The iPad 2 Takes Over SXSW [VIDEO] #ipad #sxsw #gadgets {link}\n",
      "\n",
      " \n",
      " \n",
      "\n",
      "tweet_text                                            For I-Pad ?RT @mention New #UberSocial for #iP...\n",
      "emotion_in_tweet_is_directed_at                                                                     NaN\n",
      "is_there_an_emotion_directed_at_a_brand_or_product                   No emotion toward brand or product\n",
      "Name: 44, dtype: object\n",
      "For I-Pad ?RT @mention New #UberSocial for #iPhone now in the App Store includes UberGuide to #SXSW sponsored by ... {link}\n",
      "\n",
      " \n",
      " \n",
      "\n",
      "tweet_text                                            Hand-Held Û÷HoboÛª: Drafthouse launches Û÷H...\n",
      "emotion_in_tweet_is_directed_at                                                                     NaN\n",
      "is_there_an_emotion_directed_at_a_brand_or_product                                     Positive emotion\n",
      "Name: 46, dtype: object\n",
      "Hand-Held Û÷HoboÛª: Drafthouse launches Û÷Hobo With a ShotgunÛª iPhone app #SXSW {link}\n",
      "\n",
      " \n",
      " \n",
      "\n",
      "tweet_text                                            Orly....? ÛÏ@mention Google set to launch new...\n",
      "emotion_in_tweet_is_directed_at                                                                     NaN\n",
      "is_there_an_emotion_directed_at_a_brand_or_product                   No emotion toward brand or product\n",
      "Name: 48, dtype: object\n",
      "Orly....? ÛÏ@mention Google set to launch new social network #Circles today at #sxswÛ\n",
      "\n",
      " \n",
      " \n",
      "\n",
      "tweet_text                                            Khoi Vinh (@mention says Conde Nast's headlong...\n",
      "emotion_in_tweet_is_directed_at                                                                     NaN\n",
      "is_there_an_emotion_directed_at_a_brand_or_product                   No emotion toward brand or product\n",
      "Name: 50, dtype: object\n",
      "Khoi Vinh (@mention says Conde Nast's headlong rush into iPad publishing was a &quot;fundamental misunderstanding&quot; of the platform #sxsw\n",
      "\n",
      " \n",
      " \n",
      "\n",
      "tweet_text                                            ÛÏ@mention {link} &lt;-- HELP ME FORWARD THIS...\n",
      "emotion_in_tweet_is_directed_at                                                                     NaN\n",
      "is_there_an_emotion_directed_at_a_brand_or_product                   No emotion toward brand or product\n",
      "Name: 51, dtype: object\n",
      "ÛÏ@mention {link} &lt;-- HELP ME FORWARD THIS DOC to all Anonymous accounts, techies,&amp; ppl who can help us JAM #libya #SXSW\n",
      "\n",
      " \n",
      " \n",
      "\n",
      "tweet_text                                            ÷¼ WHAT? ÷_ {link} ã_ #edchat #musedchat #s...\n",
      "emotion_in_tweet_is_directed_at                                                                     NaN\n",
      "is_there_an_emotion_directed_at_a_brand_or_product                   No emotion toward brand or product\n",
      "Name: 52, dtype: object\n",
      "÷¼ WHAT? ÷_ {link} ã_ #edchat #musedchat #sxsw #sxswi #classical #newTwitter\n",
      "\n",
      " \n",
      " \n",
      "\n",
      "tweet_text                                            .@mention @mention on the location-based 'fast...\n",
      "emotion_in_tweet_is_directed_at                                                                     NaN\n",
      "is_there_an_emotion_directed_at_a_brand_or_product                   No emotion toward brand or product\n",
      "Name: 53, dtype: object\n",
      ".@mention @mention on the location-based 'fast, fun and future' - {link} (via @mention #sxsw\n",
      "\n",
      " \n",
      " \n",
      "\n",
      "tweet_text                                            ÛÏ@mention @mention #Google Will Connect the ...\n",
      "emotion_in_tweet_is_directed_at                                                                     NaN\n",
      "is_there_an_emotion_directed_at_a_brand_or_product                   No emotion toward brand or product\n",
      "Name: 54, dtype: object\n",
      "ÛÏ@mention @mention #Google Will Connect the Digital &amp; Physical Worlds Through Mobile - {link} #sxswÛ @mention\n",
      "\n",
      " \n",
      " \n",
      "\n",
      "tweet_text                                            {link} RT @mention &quot;Google before you twe...\n",
      "emotion_in_tweet_is_directed_at                                                                     NaN\n",
      "is_there_an_emotion_directed_at_a_brand_or_product                   No emotion toward brand or product\n",
      "Name: 56, dtype: object\n",
      "{link} RT @mention &quot;Google before you tweet&quot; is the new &quot;think before you speak.&quot; - Mark Belinsky, #911tweets panel at #SXSW.\n",
      "\n",
      " \n",
      " \n",
      "\n",
      "tweet_text                                            {link} RT @mention Those at #SXSW check out th...\n",
      "emotion_in_tweet_is_directed_at                                                                     NaN\n",
      "is_there_an_emotion_directed_at_a_brand_or_product                   No emotion toward brand or product\n",
      "Name: 58, dtype: object\n",
      "{link} RT @mention Those at #SXSW check out the Holler Gram ipad app from @mention  {link}\n",
      "\n",
      " \n",
      " \n",
      "\n",
      "tweet_text                                            @mention  @mention &amp;  @mention having fun ...\n",
      "emotion_in_tweet_is_directed_at                                                                     NaN\n",
      "is_there_an_emotion_directed_at_a_brand_or_product                   No emotion toward brand or product\n",
      "Name: 59, dtype: object\n",
      "@mention  @mention &amp;  @mention having fun at #google [pic] #SXSW {link}\n",
      "\n",
      " \n",
      " \n",
      "\n",
      "tweet_text                                            &quot;via @mention : {link} Guy Kawasaki talks...\n",
      "emotion_in_tweet_is_directed_at                                                                     NaN\n",
      "is_there_an_emotion_directed_at_a_brand_or_product                   No emotion toward brand or product\n",
      "Name: 60, dtype: object\n",
      "&quot;via @mention : {link} Guy Kawasaki talks 'Enchanted' at SXSW - HE knows his stuff! #books #internet #Apple #sxsw  &quot;\n",
      "\n",
      " \n",
      " \n",
      "\n",
      "tweet_text                                            #futuremf @mention {link} spec for recipes on ...\n",
      "emotion_in_tweet_is_directed_at                                                                     NaN\n",
      "is_there_an_emotion_directed_at_a_brand_or_product                   No emotion toward brand or product\n",
      "Name: 61, dtype: object\n",
      "#futuremf @mention {link} spec for recipes on the web, now in google search: {link}  #sxsw\n",
      "\n",
      " \n",
      " \n",
      "\n",
      "tweet_text                                            Again? RT @mention Line at the Apple store is ...\n",
      "emotion_in_tweet_is_directed_at                                                                     NaN\n",
      "is_there_an_emotion_directed_at_a_brand_or_product                                     Negative emotion\n",
      "Name: 64, dtype: object\n",
      "Again? RT @mention Line at the Apple store is insane.. #sxsw\n",
      "\n",
      " \n",
      " \n",
      "\n",
      "tweet_text                                            Agree. RT @mention Wait. FIONA APPLE is in tow...\n",
      "emotion_in_tweet_is_directed_at                                                                     NaN\n",
      "is_there_an_emotion_directed_at_a_brand_or_product                   No emotion toward brand or product\n",
      "Name: 65, dtype: object\n",
      "Agree. RT @mention Wait. FIONA APPLE is in town??? Somebody kidnap her and put her in a recording studio until she records a new album. #sxsw\n",
      "\n",
      " \n",
      " \n",
      "\n",
      "tweet_text                                            At #sxsw? @mention / @mention wanna buy you a ...\n",
      "emotion_in_tweet_is_directed_at                                                                     NaN\n",
      "is_there_an_emotion_directed_at_a_brand_or_product                   No emotion toward brand or product\n",
      "Name: 66, dtype: object\n",
      "At #sxsw? @mention / @mention wanna buy you a drink. 7pm at Fado on 4th. {link} Join us!\n",
      "\n",
      " \n",
      " \n",
      "\n",
      "tweet_text                                            Boooo! RT @mention Flipboard is developing an ...\n",
      "emotion_in_tweet_is_directed_at                                                                     NaN\n",
      "is_there_an_emotion_directed_at_a_brand_or_product                                     Negative emotion\n",
      "Name: 68, dtype: object\n",
      "Boooo! RT @mention Flipboard is developing an iPhone version, not Android, says @mention #sxsw\n",
      "\n",
      " \n",
      " \n",
      "\n",
      "tweet_text                                            Check! RT @mention giving added value to locat...\n",
      "emotion_in_tweet_is_directed_at                                                                     NaN\n",
      "is_there_an_emotion_directed_at_a_brand_or_product                   No emotion toward brand or product\n",
      "Name: 70, dtype: object\n",
      "Check! RT @mention giving added value to location based services needs to battle check-in fatigue #google #pnid #sxsw\n",
      "\n",
      " \n",
      " \n",
      "\n",
      "tweet_text                                            Chilcott: @mention #SXSW stand talking with Bl...\n",
      "emotion_in_tweet_is_directed_at                                                                     NaN\n",
      "is_there_an_emotion_directed_at_a_brand_or_product                   No emotion toward brand or product\n",
      "Name: 71, dtype: object\n",
      "Chilcott: @mention #SXSW stand talking with Blogger staff. Too late to win competition for best tweet mentioning @mention So no t-shirt.\n",
      "\n",
      " \n",
      " \n",
      "\n",
      "tweet_text                                            Gowalla's @mention promises to launch Foursqua...\n",
      "emotion_in_tweet_is_directed_at                                                                     NaN\n",
      "is_there_an_emotion_directed_at_a_brand_or_product                   No emotion toward brand or product\n",
      "Name: 73, dtype: object\n",
      "Gowalla's @mention promises to launch Foursquare check-in + Groupon rewards-type service at #SXSW. Finger's crossed. {link}\n",
      "\n",
      " \n",
      " \n",
      "\n",
      "tweet_text                                            Ha.ha. RT @mention #SXSW News: Yahoo.com is lo...\n",
      "emotion_in_tweet_is_directed_at                                                                     NaN\n",
      "is_there_an_emotion_directed_at_a_brand_or_product                   No emotion toward brand or product\n",
      "Name: 74, dtype: object\n",
      "Ha.ha. RT @mention #SXSW News: Yahoo.com is loosing search traffic to new site, Google.com. Doubt it will last tho w/ that weird name.\n",
      "\n",
      " \n",
      " \n",
      "\n",
      "tweet_text                                               I worship @mention {link} #SXSW\n",
      "emotion_in_tweet_is_directed_at                                                      NaN\n",
      "is_there_an_emotion_directed_at_a_brand_or_product    No emotion toward brand or product\n",
      "Name: 77, dtype: object\n",
      "I worship @mention {link} #SXSW\n",
      "\n",
      " \n",
      " \n",
      "\n",
      "tweet_text                                            iPad2? RT @mention Droid &amp; Mac here :) RT ...\n",
      "emotion_in_tweet_is_directed_at                                                                     NaN\n",
      "is_there_an_emotion_directed_at_a_brand_or_product                   No emotion toward brand or product\n",
      "Name: 78, dtype: object\n",
      "iPad2? RT @mention Droid &amp; Mac here :) RT @mention My #agnerd confession, using laptop, iPad &amp; blackberry to follow #SXSW\n",
      "\n",
      " \n",
      " \n",
      "\n",
      "tweet_text                                            Launching @mention #SxSW? RT @mention @mention...\n",
      "emotion_in_tweet_is_directed_at                                                                     NaN\n",
      "is_there_an_emotion_directed_at_a_brand_or_product                   No emotion toward brand or product\n",
      "Name: 79, dtype: object\n",
      "Launching @mention #SxSW? RT @mention @mention Denies Social Network Called Circles Will Debut Today, Despite Report {link}\n",
      "\n",
      " \n",
      " \n",
      "\n",
      "tweet_text                                            Nice!  RT @mention Apple opening popup store f...\n",
      "emotion_in_tweet_is_directed_at                                                                     NaN\n",
      "is_there_an_emotion_directed_at_a_brand_or_product                   No emotion toward brand or product\n",
      "Name: 82, dtype: object\n",
      "Nice!  RT @mention Apple opening popup store for iPad launch in downtown Austin during #SXSW {link} via @mention\n",
      "\n",
      " \n",
      " \n",
      "\n",
      "tweet_text                                            Stay tune @mention showcase #H4ckers {link} #SXSW\n",
      "emotion_in_tweet_is_directed_at                                                                     NaN\n",
      "is_there_an_emotion_directed_at_a_brand_or_product                   No emotion toward brand or product\n",
      "Name: 85, dtype: object\n",
      "Stay tune @mention showcase #H4ckers {link} #SXSW\n",
      "\n",
      " \n",
      " \n",
      "\n",
      "tweet_text                                            Thank you @mention @mention for the #touchings...\n",
      "emotion_in_tweet_is_directed_at                                                                     NaN\n",
      "is_there_an_emotion_directed_at_a_brand_or_product                   No emotion toward brand or product\n",
      "Name: 86, dtype: object\n",
      "Thank you @mention @mention for the #touchingstories preso #SXSW . Here's their deck {link}\n",
      "\n",
      " \n",
      " \n",
      "\n",
      "tweet_text                                            Thank you @mention for an awesome #sxsw party!...\n",
      "emotion_in_tweet_is_directed_at                                                                     NaN\n",
      "is_there_an_emotion_directed_at_a_brand_or_product                   No emotion toward brand or product\n",
      "Name: 87, dtype: object\n",
      "Thank you @mention for an awesome #sxsw party! {link}\n",
      "\n",
      " \n",
      " \n",
      "\n"
     ]
    }
   ],
   "source": [
    "for i in range(40) :\n",
    "    print(df_product_none.iloc[i])\n",
    "    print(df_product_none['tweet_text'].iloc[i]) \n",
    "    print('\\n', '\\n', '\\n')"
   ]
  },
  {
   "cell_type": "code",
   "execution_count": 68,
   "metadata": {
    "scrolled": true
   },
   "outputs": [
    {
     "data": {
      "text/plain": [
       "tweet_text                                            @teachntech00 New iPad Apps For #SpeechTherapy...\n",
       "emotion_in_tweet_is_directed_at                                                                     NaN\n",
       "is_there_an_emotion_directed_at_a_brand_or_product                   No emotion toward brand or product\n",
       "Name: 5, dtype: object"
      ]
     },
     "metadata": {},
     "output_type": "display_data"
    },
    {
     "data": {
      "text/plain": [
       "'@teachntech00 New iPad Apps For #SpeechTherapy And Communication Are Showcased At The #SXSW Conference http://ht.ly/49n4M #iear #edchat #asd'"
      ]
     },
     "metadata": {},
     "output_type": "display_data"
    },
    {
     "name": "stdout",
     "output_type": "stream",
     "text": [
      "\n",
      " \n",
      " \n",
      "\n"
     ]
    },
    {
     "data": {
      "text/plain": [
       "tweet_text                                                                           NaN\n",
       "emotion_in_tweet_is_directed_at                                                      NaN\n",
       "is_there_an_emotion_directed_at_a_brand_or_product    No emotion toward brand or product\n",
       "Name: 6, dtype: object"
      ]
     },
     "metadata": {},
     "output_type": "display_data"
    },
    {
     "data": {
      "text/plain": [
       "nan"
      ]
     },
     "metadata": {},
     "output_type": "display_data"
    },
    {
     "name": "stdout",
     "output_type": "stream",
     "text": [
      "\n",
      " \n",
      " \n",
      "\n"
     ]
    },
    {
     "data": {
      "text/plain": [
       "tweet_text                                            Holler Gram for iPad on the iTunes App Store -...\n",
       "emotion_in_tweet_is_directed_at                                                                     NaN\n",
       "is_there_an_emotion_directed_at_a_brand_or_product                   No emotion toward brand or product\n",
       "Name: 16, dtype: object"
      ]
     },
     "metadata": {},
     "output_type": "display_data"
    },
    {
     "data": {
      "text/plain": [
       "'Holler Gram for iPad on the iTunes App Store -  http://t.co/kfN3f5Q (via @marc_is_ken) #sxsw'"
      ]
     },
     "metadata": {},
     "output_type": "display_data"
    },
    {
     "name": "stdout",
     "output_type": "stream",
     "text": [
      "\n",
      " \n",
      " \n",
      "\n"
     ]
    },
    {
     "data": {
      "text/plain": [
       "tweet_text                                            Attn: All  #SXSW frineds, @mention Register fo...\n",
       "emotion_in_tweet_is_directed_at                                                                     NaN\n",
       "is_there_an_emotion_directed_at_a_brand_or_product                   No emotion toward brand or product\n",
       "Name: 32, dtype: object"
      ]
     },
     "metadata": {},
     "output_type": "display_data"
    },
    {
     "data": {
      "text/plain": [
       "'Attn: All  #SXSW frineds, @mention Register for #GDGTLive  and see Cobra iRadar for Android. {link}'"
      ]
     },
     "metadata": {},
     "output_type": "display_data"
    },
    {
     "name": "stdout",
     "output_type": "stream",
     "text": [
      "\n",
      " \n",
      " \n",
      "\n"
     ]
    },
    {
     "data": {
      "text/plain": [
       "tweet_text                                            Anyone at  #sxsw want to sell their old iPad?\n",
       "emotion_in_tweet_is_directed_at                                                                 NaN\n",
       "is_there_an_emotion_directed_at_a_brand_or_product               No emotion toward brand or product\n",
       "Name: 33, dtype: object"
      ]
     },
     "metadata": {},
     "output_type": "display_data"
    },
    {
     "data": {
      "text/plain": [
       "'Anyone at  #sxsw want to sell their old iPad?'"
      ]
     },
     "metadata": {},
     "output_type": "display_data"
    },
    {
     "name": "stdout",
     "output_type": "stream",
     "text": [
      "\n",
      " \n",
      " \n",
      "\n"
     ]
    },
    {
     "data": {
      "text/plain": [
       "tweet_text                                            Anyone at  #SXSW who bought the new iPad want ...\n",
       "emotion_in_tweet_is_directed_at                                                                     NaN\n",
       "is_there_an_emotion_directed_at_a_brand_or_product                   No emotion toward brand or product\n",
       "Name: 34, dtype: object"
      ]
     },
     "metadata": {},
     "output_type": "display_data"
    },
    {
     "data": {
      "text/plain": [
       "'Anyone at  #SXSW who bought the new iPad want to sell their older iPad to me?'"
      ]
     },
     "metadata": {},
     "output_type": "display_data"
    },
    {
     "name": "stdout",
     "output_type": "stream",
     "text": [
      "\n",
      " \n",
      " \n",
      "\n"
     ]
    },
    {
     "data": {
      "text/plain": [
       "tweet_text                                            At #sxsw.  Oooh. RT @mention Google to Launch ...\n",
       "emotion_in_tweet_is_directed_at                                                                     NaN\n",
       "is_there_an_emotion_directed_at_a_brand_or_product                   No emotion toward brand or product\n",
       "Name: 35, dtype: object"
      ]
     },
     "metadata": {},
     "output_type": "display_data"
    },
    {
     "data": {
      "text/plain": [
       "'At #sxsw.  Oooh. RT @mention Google to Launch Major New Social Network Called Circles, Possibly Today {link}'"
      ]
     },
     "metadata": {},
     "output_type": "display_data"
    },
    {
     "name": "stdout",
     "output_type": "stream",
     "text": [
      "\n",
      " \n",
      " \n",
      "\n"
     ]
    },
    {
     "data": {
      "text/plain": [
       "tweet_text                                            SPIN Play - a new concept in music discovery f...\n",
       "emotion_in_tweet_is_directed_at                                                                     NaN\n",
       "is_there_an_emotion_directed_at_a_brand_or_product                   No emotion toward brand or product\n",
       "Name: 37, dtype: object"
      ]
     },
     "metadata": {},
     "output_type": "display_data"
    },
    {
     "data": {
      "text/plain": [
       "'SPIN Play - a new concept in music discovery for your iPad from @mention &amp; spin.com {link} #iTunes #sxsw @mention'"
      ]
     },
     "metadata": {},
     "output_type": "display_data"
    },
    {
     "name": "stdout",
     "output_type": "stream",
     "text": [
      "\n",
      " \n",
      " \n",
      "\n"
     ]
    },
    {
     "data": {
      "text/plain": [
       "tweet_text                                            VatorNews - Google And Apple Force Print Media...\n",
       "emotion_in_tweet_is_directed_at                                                                     NaN\n",
       "is_there_an_emotion_directed_at_a_brand_or_product                   No emotion toward brand or product\n",
       "Name: 39, dtype: object"
      ]
     },
     "metadata": {},
     "output_type": "display_data"
    },
    {
     "data": {
      "text/plain": [
       "'VatorNews - Google And Apple Force Print Media to Evolve? {link} #sxsw'"
      ]
     },
     "metadata": {},
     "output_type": "display_data"
    },
    {
     "name": "stdout",
     "output_type": "stream",
     "text": [
      "\n",
      " \n",
      " \n",
      "\n"
     ]
    },
    {
     "data": {
      "text/plain": [
       "tweet_text                                            HootSuite - HootSuite Mobile for #SXSW ~ Updat...\n",
       "emotion_in_tweet_is_directed_at                                                                     NaN\n",
       "is_there_an_emotion_directed_at_a_brand_or_product                   No emotion toward brand or product\n",
       "Name: 41, dtype: object"
      ]
     },
     "metadata": {},
     "output_type": "display_data"
    },
    {
     "data": {
      "text/plain": [
       "'HootSuite - HootSuite Mobile for #SXSW ~ Updates for iPhone, BlackBerry &amp; Android: Whether you\\x89Ûªre getting friend... {link}'"
      ]
     },
     "metadata": {},
     "output_type": "display_data"
    },
    {
     "name": "stdout",
     "output_type": "stream",
     "text": [
      "\n",
      " \n",
      " \n",
      "\n"
     ]
    },
    {
     "data": {
      "text/plain": [
       "tweet_text                                            Hey #SXSW - How long do you think it takes us ...\n",
       "emotion_in_tweet_is_directed_at                                                                     NaN\n",
       "is_there_an_emotion_directed_at_a_brand_or_product                   No emotion toward brand or product\n",
       "Name: 42, dtype: object"
      ]
     },
     "metadata": {},
     "output_type": "display_data"
    },
    {
     "data": {
      "text/plain": [
       "'Hey #SXSW - How long do you think it takes us to make an iPhone case? answer @mention using #zazzlesxsw and we\\x89Ûªll make you one!'"
      ]
     },
     "metadata": {},
     "output_type": "display_data"
    },
    {
     "name": "stdout",
     "output_type": "stream",
     "text": [
      "\n",
      " \n",
      " \n",
      "\n"
     ]
    },
    {
     "data": {
      "text/plain": [
       "tweet_text                                            Mashable! - The iPad 2 Takes Over SXSW [VIDEO]...\n",
       "emotion_in_tweet_is_directed_at                                                                     NaN\n",
       "is_there_an_emotion_directed_at_a_brand_or_product                   No emotion toward brand or product\n",
       "Name: 43, dtype: object"
      ]
     },
     "metadata": {},
     "output_type": "display_data"
    },
    {
     "data": {
      "text/plain": [
       "'Mashable! - The iPad 2 Takes Over SXSW [VIDEO] #ipad #sxsw #gadgets {link}'"
      ]
     },
     "metadata": {},
     "output_type": "display_data"
    },
    {
     "name": "stdout",
     "output_type": "stream",
     "text": [
      "\n",
      " \n",
      " \n",
      "\n"
     ]
    },
    {
     "data": {
      "text/plain": [
       "tweet_text                                            For I-Pad ?RT @mention New #UberSocial for #iP...\n",
       "emotion_in_tweet_is_directed_at                                                                     NaN\n",
       "is_there_an_emotion_directed_at_a_brand_or_product                   No emotion toward brand or product\n",
       "Name: 44, dtype: object"
      ]
     },
     "metadata": {},
     "output_type": "display_data"
    },
    {
     "data": {
      "text/plain": [
       "'For I-Pad ?RT @mention New #UberSocial for #iPhone now in the App Store includes UberGuide to #SXSW sponsored by ... {link}'"
      ]
     },
     "metadata": {},
     "output_type": "display_data"
    },
    {
     "name": "stdout",
     "output_type": "stream",
     "text": [
      "\n",
      " \n",
      " \n",
      "\n"
     ]
    },
    {
     "data": {
      "text/plain": [
       "tweet_text                                            Hand-Held Û÷HoboÛª: Drafthouse launches Û÷H...\n",
       "emotion_in_tweet_is_directed_at                                                                     NaN\n",
       "is_there_an_emotion_directed_at_a_brand_or_product                                     Positive emotion\n",
       "Name: 46, dtype: object"
      ]
     },
     "metadata": {},
     "output_type": "display_data"
    },
    {
     "data": {
      "text/plain": [
       "'Hand-Held \\x89Û÷Hobo\\x89Ûª: Drafthouse launches \\x89Û÷Hobo With a Shotgun\\x89Ûª iPhone app #SXSW {link}'"
      ]
     },
     "metadata": {},
     "output_type": "display_data"
    },
    {
     "name": "stdout",
     "output_type": "stream",
     "text": [
      "\n",
      " \n",
      " \n",
      "\n"
     ]
    },
    {
     "data": {
      "text/plain": [
       "tweet_text                                            Orly....? ÛÏ@mention Google set to launch new...\n",
       "emotion_in_tweet_is_directed_at                                                                     NaN\n",
       "is_there_an_emotion_directed_at_a_brand_or_product                   No emotion toward brand or product\n",
       "Name: 48, dtype: object"
      ]
     },
     "metadata": {},
     "output_type": "display_data"
    },
    {
     "data": {
      "text/plain": [
       "'Orly....? \\x89ÛÏ@mention Google set to launch new social network #Circles today at #sxsw\\x89Û\\x9d'"
      ]
     },
     "metadata": {},
     "output_type": "display_data"
    },
    {
     "name": "stdout",
     "output_type": "stream",
     "text": [
      "\n",
      " \n",
      " \n",
      "\n"
     ]
    },
    {
     "data": {
      "text/plain": [
       "tweet_text                                            Khoi Vinh (@mention says Conde Nast's headlong...\n",
       "emotion_in_tweet_is_directed_at                                                                     NaN\n",
       "is_there_an_emotion_directed_at_a_brand_or_product                   No emotion toward brand or product\n",
       "Name: 50, dtype: object"
      ]
     },
     "metadata": {},
     "output_type": "display_data"
    },
    {
     "data": {
      "text/plain": [
       "\"Khoi Vinh (@mention says Conde Nast's headlong rush into iPad publishing was a &quot;fundamental misunderstanding&quot; of the platform #sxsw\""
      ]
     },
     "metadata": {},
     "output_type": "display_data"
    },
    {
     "name": "stdout",
     "output_type": "stream",
     "text": [
      "\n",
      " \n",
      " \n",
      "\n"
     ]
    },
    {
     "data": {
      "text/plain": [
       "tweet_text                                            ÛÏ@mention {link} &lt;-- HELP ME FORWARD THIS...\n",
       "emotion_in_tweet_is_directed_at                                                                     NaN\n",
       "is_there_an_emotion_directed_at_a_brand_or_product                   No emotion toward brand or product\n",
       "Name: 51, dtype: object"
      ]
     },
     "metadata": {},
     "output_type": "display_data"
    },
    {
     "data": {
      "text/plain": [
       "'\\x89ÛÏ@mention {link} &lt;-- HELP ME FORWARD THIS DOC to all Anonymous accounts, techies,&amp; ppl who can help us JAM #libya #SXSW'"
      ]
     },
     "metadata": {},
     "output_type": "display_data"
    },
    {
     "name": "stdout",
     "output_type": "stream",
     "text": [
      "\n",
      " \n",
      " \n",
      "\n"
     ]
    },
    {
     "data": {
      "text/plain": [
       "tweet_text                                            ÷¼ WHAT? ÷_ {link} ã_ #edchat #musedchat #s...\n",
       "emotion_in_tweet_is_directed_at                                                                     NaN\n",
       "is_there_an_emotion_directed_at_a_brand_or_product                   No emotion toward brand or product\n",
       "Name: 52, dtype: object"
      ]
     },
     "metadata": {},
     "output_type": "display_data"
    },
    {
     "data": {
      "text/plain": [
       "'\\x89÷¼ WHAT? \\x89÷_ {link} \\x89ã_ #edchat #musedchat #sxsw #sxswi #classical #newTwitter'"
      ]
     },
     "metadata": {},
     "output_type": "display_data"
    },
    {
     "name": "stdout",
     "output_type": "stream",
     "text": [
      "\n",
      " \n",
      " \n",
      "\n"
     ]
    },
    {
     "data": {
      "text/plain": [
       "tweet_text                                            .@mention @mention on the location-based 'fast...\n",
       "emotion_in_tweet_is_directed_at                                                                     NaN\n",
       "is_there_an_emotion_directed_at_a_brand_or_product                   No emotion toward brand or product\n",
       "Name: 53, dtype: object"
      ]
     },
     "metadata": {},
     "output_type": "display_data"
    },
    {
     "data": {
      "text/plain": [
       "\".@mention @mention on the location-based 'fast, fun and future' - {link} (via @mention #sxsw\""
      ]
     },
     "metadata": {},
     "output_type": "display_data"
    },
    {
     "name": "stdout",
     "output_type": "stream",
     "text": [
      "\n",
      " \n",
      " \n",
      "\n"
     ]
    },
    {
     "data": {
      "text/plain": [
       "tweet_text                                            ÛÏ@mention @mention #Google Will Connect the ...\n",
       "emotion_in_tweet_is_directed_at                                                                     NaN\n",
       "is_there_an_emotion_directed_at_a_brand_or_product                   No emotion toward brand or product\n",
       "Name: 54, dtype: object"
      ]
     },
     "metadata": {},
     "output_type": "display_data"
    },
    {
     "data": {
      "text/plain": [
       "'\\x89ÛÏ@mention @mention #Google Will Connect the Digital &amp; Physical Worlds Through Mobile - {link} #sxsw\\x89Û\\x9d @mention'"
      ]
     },
     "metadata": {},
     "output_type": "display_data"
    },
    {
     "name": "stdout",
     "output_type": "stream",
     "text": [
      "\n",
      " \n",
      " \n",
      "\n"
     ]
    },
    {
     "data": {
      "text/plain": [
       "tweet_text                                            {link} RT @mention &quot;Google before you twe...\n",
       "emotion_in_tweet_is_directed_at                                                                     NaN\n",
       "is_there_an_emotion_directed_at_a_brand_or_product                   No emotion toward brand or product\n",
       "Name: 56, dtype: object"
      ]
     },
     "metadata": {},
     "output_type": "display_data"
    },
    {
     "data": {
      "text/plain": [
       "'{link} RT @mention &quot;Google before you tweet&quot; is the new &quot;think before you speak.&quot; - Mark Belinsky, #911tweets panel at #SXSW.'"
      ]
     },
     "metadata": {},
     "output_type": "display_data"
    },
    {
     "name": "stdout",
     "output_type": "stream",
     "text": [
      "\n",
      " \n",
      " \n",
      "\n"
     ]
    },
    {
     "data": {
      "text/plain": [
       "tweet_text                                            {link} RT @mention Those at #SXSW check out th...\n",
       "emotion_in_tweet_is_directed_at                                                                     NaN\n",
       "is_there_an_emotion_directed_at_a_brand_or_product                   No emotion toward brand or product\n",
       "Name: 58, dtype: object"
      ]
     },
     "metadata": {},
     "output_type": "display_data"
    },
    {
     "data": {
      "text/plain": [
       "'{link} RT @mention Those at #SXSW check out the Holler Gram ipad app from @mention  {link}'"
      ]
     },
     "metadata": {},
     "output_type": "display_data"
    },
    {
     "name": "stdout",
     "output_type": "stream",
     "text": [
      "\n",
      " \n",
      " \n",
      "\n"
     ]
    },
    {
     "data": {
      "text/plain": [
       "tweet_text                                            @mention  @mention &amp;  @mention having fun ...\n",
       "emotion_in_tweet_is_directed_at                                                                     NaN\n",
       "is_there_an_emotion_directed_at_a_brand_or_product                   No emotion toward brand or product\n",
       "Name: 59, dtype: object"
      ]
     },
     "metadata": {},
     "output_type": "display_data"
    },
    {
     "data": {
      "text/plain": [
       "'@mention  @mention &amp;  @mention having fun at #google [pic] #SXSW {link}'"
      ]
     },
     "metadata": {},
     "output_type": "display_data"
    },
    {
     "name": "stdout",
     "output_type": "stream",
     "text": [
      "\n",
      " \n",
      " \n",
      "\n"
     ]
    },
    {
     "data": {
      "text/plain": [
       "tweet_text                                            &quot;via @mention : {link} Guy Kawasaki talks...\n",
       "emotion_in_tweet_is_directed_at                                                                     NaN\n",
       "is_there_an_emotion_directed_at_a_brand_or_product                   No emotion toward brand or product\n",
       "Name: 60, dtype: object"
      ]
     },
     "metadata": {},
     "output_type": "display_data"
    },
    {
     "data": {
      "text/plain": [
       "\"&quot;via @mention : {link} Guy Kawasaki talks 'Enchanted' at SXSW - HE knows his stuff! #books #internet #Apple #sxsw  &quot;\""
      ]
     },
     "metadata": {},
     "output_type": "display_data"
    },
    {
     "name": "stdout",
     "output_type": "stream",
     "text": [
      "\n",
      " \n",
      " \n",
      "\n"
     ]
    },
    {
     "data": {
      "text/plain": [
       "tweet_text                                            #futuremf @mention {link} spec for recipes on ...\n",
       "emotion_in_tweet_is_directed_at                                                                     NaN\n",
       "is_there_an_emotion_directed_at_a_brand_or_product                   No emotion toward brand or product\n",
       "Name: 61, dtype: object"
      ]
     },
     "metadata": {},
     "output_type": "display_data"
    },
    {
     "data": {
      "text/plain": [
       "'#futuremf @mention {link} spec for recipes on the web, now in google search: {link}  #sxsw'"
      ]
     },
     "metadata": {},
     "output_type": "display_data"
    },
    {
     "name": "stdout",
     "output_type": "stream",
     "text": [
      "\n",
      " \n",
      " \n",
      "\n"
     ]
    },
    {
     "data": {
      "text/plain": [
       "tweet_text                                            Again? RT @mention Line at the Apple store is ...\n",
       "emotion_in_tweet_is_directed_at                                                                     NaN\n",
       "is_there_an_emotion_directed_at_a_brand_or_product                                     Negative emotion\n",
       "Name: 64, dtype: object"
      ]
     },
     "metadata": {},
     "output_type": "display_data"
    },
    {
     "data": {
      "text/plain": [
       "'Again? RT @mention Line at the Apple store is insane.. #sxsw'"
      ]
     },
     "metadata": {},
     "output_type": "display_data"
    },
    {
     "name": "stdout",
     "output_type": "stream",
     "text": [
      "\n",
      " \n",
      " \n",
      "\n"
     ]
    },
    {
     "data": {
      "text/plain": [
       "tweet_text                                            Agree. RT @mention Wait. FIONA APPLE is in tow...\n",
       "emotion_in_tweet_is_directed_at                                                                     NaN\n",
       "is_there_an_emotion_directed_at_a_brand_or_product                   No emotion toward brand or product\n",
       "Name: 65, dtype: object"
      ]
     },
     "metadata": {},
     "output_type": "display_data"
    },
    {
     "data": {
      "text/plain": [
       "'Agree. RT @mention Wait. FIONA APPLE is in town??? Somebody kidnap her and put her in a recording studio until she records a new album. #sxsw'"
      ]
     },
     "metadata": {},
     "output_type": "display_data"
    },
    {
     "name": "stdout",
     "output_type": "stream",
     "text": [
      "\n",
      " \n",
      " \n",
      "\n"
     ]
    },
    {
     "data": {
      "text/plain": [
       "tweet_text                                            At #sxsw? @mention / @mention wanna buy you a ...\n",
       "emotion_in_tweet_is_directed_at                                                                     NaN\n",
       "is_there_an_emotion_directed_at_a_brand_or_product                   No emotion toward brand or product\n",
       "Name: 66, dtype: object"
      ]
     },
     "metadata": {},
     "output_type": "display_data"
    },
    {
     "data": {
      "text/plain": [
       "'At #sxsw? @mention / @mention wanna buy you a drink. 7pm at Fado on 4th. {link} Join us!'"
      ]
     },
     "metadata": {},
     "output_type": "display_data"
    },
    {
     "name": "stdout",
     "output_type": "stream",
     "text": [
      "\n",
      " \n",
      " \n",
      "\n"
     ]
    },
    {
     "data": {
      "text/plain": [
       "tweet_text                                            Boooo! RT @mention Flipboard is developing an ...\n",
       "emotion_in_tweet_is_directed_at                                                                     NaN\n",
       "is_there_an_emotion_directed_at_a_brand_or_product                                     Negative emotion\n",
       "Name: 68, dtype: object"
      ]
     },
     "metadata": {},
     "output_type": "display_data"
    },
    {
     "data": {
      "text/plain": [
       "'Boooo! RT @mention Flipboard is developing an iPhone version, not Android, says @mention #sxsw'"
      ]
     },
     "metadata": {},
     "output_type": "display_data"
    },
    {
     "name": "stdout",
     "output_type": "stream",
     "text": [
      "\n",
      " \n",
      " \n",
      "\n"
     ]
    },
    {
     "data": {
      "text/plain": [
       "tweet_text                                            Check! RT @mention giving added value to locat...\n",
       "emotion_in_tweet_is_directed_at                                                                     NaN\n",
       "is_there_an_emotion_directed_at_a_brand_or_product                   No emotion toward brand or product\n",
       "Name: 70, dtype: object"
      ]
     },
     "metadata": {},
     "output_type": "display_data"
    },
    {
     "data": {
      "text/plain": [
       "'Check! RT @mention giving added value to location based services needs to battle check-in fatigue #google #pnid #sxsw'"
      ]
     },
     "metadata": {},
     "output_type": "display_data"
    },
    {
     "name": "stdout",
     "output_type": "stream",
     "text": [
      "\n",
      " \n",
      " \n",
      "\n"
     ]
    },
    {
     "data": {
      "text/plain": [
       "tweet_text                                            Chilcott: @mention #SXSW stand talking with Bl...\n",
       "emotion_in_tweet_is_directed_at                                                                     NaN\n",
       "is_there_an_emotion_directed_at_a_brand_or_product                   No emotion toward brand or product\n",
       "Name: 71, dtype: object"
      ]
     },
     "metadata": {},
     "output_type": "display_data"
    },
    {
     "data": {
      "text/plain": [
       "'Chilcott: @mention #SXSW stand talking with Blogger staff. Too late to win competition for best tweet mentioning @mention So no t-shirt.'"
      ]
     },
     "metadata": {},
     "output_type": "display_data"
    },
    {
     "name": "stdout",
     "output_type": "stream",
     "text": [
      "\n",
      " \n",
      " \n",
      "\n"
     ]
    },
    {
     "data": {
      "text/plain": [
       "tweet_text                                            Gowalla's @mention promises to launch Foursqua...\n",
       "emotion_in_tweet_is_directed_at                                                                     NaN\n",
       "is_there_an_emotion_directed_at_a_brand_or_product                   No emotion toward brand or product\n",
       "Name: 73, dtype: object"
      ]
     },
     "metadata": {},
     "output_type": "display_data"
    },
    {
     "data": {
      "text/plain": [
       "\"Gowalla's @mention promises to launch Foursquare check-in + Groupon rewards-type service at #SXSW. Finger's crossed. {link}\""
      ]
     },
     "metadata": {},
     "output_type": "display_data"
    },
    {
     "name": "stdout",
     "output_type": "stream",
     "text": [
      "\n",
      " \n",
      " \n",
      "\n"
     ]
    },
    {
     "data": {
      "text/plain": [
       "tweet_text                                            Ha.ha. RT @mention #SXSW News: Yahoo.com is lo...\n",
       "emotion_in_tweet_is_directed_at                                                                     NaN\n",
       "is_there_an_emotion_directed_at_a_brand_or_product                   No emotion toward brand or product\n",
       "Name: 74, dtype: object"
      ]
     },
     "metadata": {},
     "output_type": "display_data"
    },
    {
     "data": {
      "text/plain": [
       "'Ha.ha. RT @mention #SXSW News: Yahoo.com is loosing search traffic to new site, Google.com. Doubt it will last tho w/ that weird name.'"
      ]
     },
     "metadata": {},
     "output_type": "display_data"
    },
    {
     "name": "stdout",
     "output_type": "stream",
     "text": [
      "\n",
      " \n",
      " \n",
      "\n"
     ]
    },
    {
     "data": {
      "text/plain": [
       "tweet_text                                               I worship @mention {link} #SXSW\n",
       "emotion_in_tweet_is_directed_at                                                      NaN\n",
       "is_there_an_emotion_directed_at_a_brand_or_product    No emotion toward brand or product\n",
       "Name: 77, dtype: object"
      ]
     },
     "metadata": {},
     "output_type": "display_data"
    },
    {
     "data": {
      "text/plain": [
       "'I worship @mention {link} #SXSW'"
      ]
     },
     "metadata": {},
     "output_type": "display_data"
    },
    {
     "name": "stdout",
     "output_type": "stream",
     "text": [
      "\n",
      " \n",
      " \n",
      "\n"
     ]
    },
    {
     "data": {
      "text/plain": [
       "tweet_text                                            iPad2? RT @mention Droid &amp; Mac here :) RT ...\n",
       "emotion_in_tweet_is_directed_at                                                                     NaN\n",
       "is_there_an_emotion_directed_at_a_brand_or_product                   No emotion toward brand or product\n",
       "Name: 78, dtype: object"
      ]
     },
     "metadata": {},
     "output_type": "display_data"
    },
    {
     "data": {
      "text/plain": [
       "'iPad2? RT @mention Droid &amp; Mac here :) RT @mention My #agnerd confession, using laptop, iPad &amp; blackberry to follow #SXSW'"
      ]
     },
     "metadata": {},
     "output_type": "display_data"
    },
    {
     "name": "stdout",
     "output_type": "stream",
     "text": [
      "\n",
      " \n",
      " \n",
      "\n"
     ]
    },
    {
     "data": {
      "text/plain": [
       "tweet_text                                            Launching @mention #SxSW? RT @mention @mention...\n",
       "emotion_in_tweet_is_directed_at                                                                     NaN\n",
       "is_there_an_emotion_directed_at_a_brand_or_product                   No emotion toward brand or product\n",
       "Name: 79, dtype: object"
      ]
     },
     "metadata": {},
     "output_type": "display_data"
    },
    {
     "data": {
      "text/plain": [
       "'Launching @mention #SxSW? RT @mention @mention Denies Social Network Called Circles Will Debut Today, Despite Report {link}'"
      ]
     },
     "metadata": {},
     "output_type": "display_data"
    },
    {
     "name": "stdout",
     "output_type": "stream",
     "text": [
      "\n",
      " \n",
      " \n",
      "\n"
     ]
    },
    {
     "data": {
      "text/plain": [
       "tweet_text                                            Nice!  RT @mention Apple opening popup store f...\n",
       "emotion_in_tweet_is_directed_at                                                                     NaN\n",
       "is_there_an_emotion_directed_at_a_brand_or_product                   No emotion toward brand or product\n",
       "Name: 82, dtype: object"
      ]
     },
     "metadata": {},
     "output_type": "display_data"
    },
    {
     "data": {
      "text/plain": [
       "'Nice!  RT @mention Apple opening popup store for iPad launch in downtown Austin during #SXSW {link} via @mention'"
      ]
     },
     "metadata": {},
     "output_type": "display_data"
    },
    {
     "name": "stdout",
     "output_type": "stream",
     "text": [
      "\n",
      " \n",
      " \n",
      "\n"
     ]
    },
    {
     "data": {
      "text/plain": [
       "tweet_text                                            Stay tune @mention showcase #H4ckers {link} #SXSW\n",
       "emotion_in_tweet_is_directed_at                                                                     NaN\n",
       "is_there_an_emotion_directed_at_a_brand_or_product                   No emotion toward brand or product\n",
       "Name: 85, dtype: object"
      ]
     },
     "metadata": {},
     "output_type": "display_data"
    },
    {
     "data": {
      "text/plain": [
       "'Stay tune @mention showcase #H4ckers {link} #SXSW'"
      ]
     },
     "metadata": {},
     "output_type": "display_data"
    },
    {
     "name": "stdout",
     "output_type": "stream",
     "text": [
      "\n",
      " \n",
      " \n",
      "\n"
     ]
    },
    {
     "data": {
      "text/plain": [
       "tweet_text                                            Thank you @mention @mention for the #touchings...\n",
       "emotion_in_tweet_is_directed_at                                                                     NaN\n",
       "is_there_an_emotion_directed_at_a_brand_or_product                   No emotion toward brand or product\n",
       "Name: 86, dtype: object"
      ]
     },
     "metadata": {},
     "output_type": "display_data"
    },
    {
     "data": {
      "text/plain": [
       "\"Thank you @mention @mention for the #touchingstories preso #SXSW . Here's their deck {link}\""
      ]
     },
     "metadata": {},
     "output_type": "display_data"
    },
    {
     "name": "stdout",
     "output_type": "stream",
     "text": [
      "\n",
      " \n",
      " \n",
      "\n"
     ]
    },
    {
     "data": {
      "text/plain": [
       "tweet_text                                            Thank you @mention for an awesome #sxsw party!...\n",
       "emotion_in_tweet_is_directed_at                                                                     NaN\n",
       "is_there_an_emotion_directed_at_a_brand_or_product                   No emotion toward brand or product\n",
       "Name: 87, dtype: object"
      ]
     },
     "metadata": {},
     "output_type": "display_data"
    },
    {
     "data": {
      "text/plain": [
       "'Thank you @mention for an awesome #sxsw party! {link}'"
      ]
     },
     "metadata": {},
     "output_type": "display_data"
    },
    {
     "name": "stdout",
     "output_type": "stream",
     "text": [
      "\n",
      " \n",
      " \n",
      "\n"
     ]
    }
   ],
   "source": [
    "for i in range(40) :\n",
    "    display(df_product_none.iloc[i])\n",
    "    display(df_product_none['tweet_text'].iloc[i]) \n",
    "    print('\\n', '\\n', '\\n')"
   ]
  },
  {
   "cell_type": "code",
   "execution_count": 63,
   "metadata": {},
   "outputs": [
    {
     "name": "stdout",
     "output_type": "stream",
     "text": [
      "tweet_text                                            @teachntech00 New iPad Apps For #SpeechTherapy...\n",
      "emotion_in_tweet_is_directed_at                                                                     NaN\n",
      "is_there_an_emotion_directed_at_a_brand_or_product                   No emotion toward brand or product\n",
      "Name: 5, dtype: object\n",
      "'@teachntech00 New iPad Apps For #SpeechTherapy And Communication Are Showcased At The #SXSW Conference http://ht.ly/49n4M #iear #edchat #asd'\n",
      "\n",
      " \n",
      " \n",
      "\n",
      "tweet_text                                                                           NaN\n",
      "emotion_in_tweet_is_directed_at                                                      NaN\n",
      "is_there_an_emotion_directed_at_a_brand_or_product    No emotion toward brand or product\n",
      "Name: 6, dtype: object\n",
      "nan\n",
      "\n",
      " \n",
      " \n",
      "\n",
      "tweet_text                                            Holler Gram for iPad on the iTunes App Store -...\n",
      "emotion_in_tweet_is_directed_at                                                                     NaN\n",
      "is_there_an_emotion_directed_at_a_brand_or_product                   No emotion toward brand or product\n",
      "Name: 16, dtype: object\n",
      "'Holler Gram for iPad on the iTunes App Store -  http://t.co/kfN3f5Q (via @marc_is_ken) #sxsw'\n",
      "\n",
      " \n",
      " \n",
      "\n",
      "tweet_text                                            Attn: All  #SXSW frineds, @mention Register fo...\n",
      "emotion_in_tweet_is_directed_at                                                                     NaN\n",
      "is_there_an_emotion_directed_at_a_brand_or_product                   No emotion toward brand or product\n",
      "Name: 32, dtype: object\n",
      "'Attn: All  #SXSW frineds, @mention Register for #GDGTLive  and see Cobra iRadar for Android. {link}'\n",
      "\n",
      " \n",
      " \n",
      "\n",
      "tweet_text                                            Anyone at  #sxsw want to sell their old iPad?\n",
      "emotion_in_tweet_is_directed_at                                                                 NaN\n",
      "is_there_an_emotion_directed_at_a_brand_or_product               No emotion toward brand or product\n",
      "Name: 33, dtype: object\n",
      "'Anyone at  #sxsw want to sell their old iPad?'\n",
      "\n",
      " \n",
      " \n",
      "\n",
      "tweet_text                                            Anyone at  #SXSW who bought the new iPad want ...\n",
      "emotion_in_tweet_is_directed_at                                                                     NaN\n",
      "is_there_an_emotion_directed_at_a_brand_or_product                   No emotion toward brand or product\n",
      "Name: 34, dtype: object\n",
      "'Anyone at  #SXSW who bought the new iPad want to sell their older iPad to me?'\n",
      "\n",
      " \n",
      " \n",
      "\n",
      "tweet_text                                            At #sxsw.  Oooh. RT @mention Google to Launch ...\n",
      "emotion_in_tweet_is_directed_at                                                                     NaN\n",
      "is_there_an_emotion_directed_at_a_brand_or_product                   No emotion toward brand or product\n",
      "Name: 35, dtype: object\n",
      "'At #sxsw.  Oooh. RT @mention Google to Launch Major New Social Network Called Circles, Possibly Today {link}'\n",
      "\n",
      " \n",
      " \n",
      "\n",
      "tweet_text                                            SPIN Play - a new concept in music discovery f...\n",
      "emotion_in_tweet_is_directed_at                                                                     NaN\n",
      "is_there_an_emotion_directed_at_a_brand_or_product                   No emotion toward brand or product\n",
      "Name: 37, dtype: object\n",
      "'SPIN Play - a new concept in music discovery for your iPad from @mention &amp; spin.com {link} #iTunes #sxsw @mention'\n",
      "\n",
      " \n",
      " \n",
      "\n",
      "tweet_text                                            VatorNews - Google And Apple Force Print Media...\n",
      "emotion_in_tweet_is_directed_at                                                                     NaN\n",
      "is_there_an_emotion_directed_at_a_brand_or_product                   No emotion toward brand or product\n",
      "Name: 39, dtype: object\n",
      "'VatorNews - Google And Apple Force Print Media to Evolve? {link} #sxsw'\n",
      "\n",
      " \n",
      " \n",
      "\n",
      "tweet_text                                            HootSuite - HootSuite Mobile for #SXSW ~ Updat...\n",
      "emotion_in_tweet_is_directed_at                                                                     NaN\n",
      "is_there_an_emotion_directed_at_a_brand_or_product                   No emotion toward brand or product\n",
      "Name: 41, dtype: object\n",
      "'HootSuite - HootSuite Mobile for #SXSW ~ Updates for iPhone, BlackBerry &amp; Android: Whether you\\x89Ûªre getting friend... {link}'\n",
      "\n",
      " \n",
      " \n",
      "\n",
      "tweet_text                                            Hey #SXSW - How long do you think it takes us ...\n",
      "emotion_in_tweet_is_directed_at                                                                     NaN\n",
      "is_there_an_emotion_directed_at_a_brand_or_product                   No emotion toward brand or product\n",
      "Name: 42, dtype: object\n",
      "'Hey #SXSW - How long do you think it takes us to make an iPhone case? answer @mention using #zazzlesxsw and we\\x89Ûªll make you one!'\n",
      "\n",
      " \n",
      " \n",
      "\n",
      "tweet_text                                            Mashable! - The iPad 2 Takes Over SXSW [VIDEO]...\n",
      "emotion_in_tweet_is_directed_at                                                                     NaN\n",
      "is_there_an_emotion_directed_at_a_brand_or_product                   No emotion toward brand or product\n",
      "Name: 43, dtype: object\n",
      "'Mashable! - The iPad 2 Takes Over SXSW [VIDEO] #ipad #sxsw #gadgets {link}'\n",
      "\n",
      " \n",
      " \n",
      "\n",
      "tweet_text                                            For I-Pad ?RT @mention New #UberSocial for #iP...\n",
      "emotion_in_tweet_is_directed_at                                                                     NaN\n",
      "is_there_an_emotion_directed_at_a_brand_or_product                   No emotion toward brand or product\n",
      "Name: 44, dtype: object\n",
      "'For I-Pad ?RT @mention New #UberSocial for #iPhone now in the App Store includes UberGuide to #SXSW sponsored by ... {link}'\n",
      "\n",
      " \n",
      " \n",
      "\n",
      "tweet_text                                            Hand-Held Û÷HoboÛª: Drafthouse launches Û÷H...\n",
      "emotion_in_tweet_is_directed_at                                                                     NaN\n",
      "is_there_an_emotion_directed_at_a_brand_or_product                                     Positive emotion\n",
      "Name: 46, dtype: object\n",
      "'Hand-Held \\x89Û÷Hobo\\x89Ûª: Drafthouse launches \\x89Û÷Hobo With a Shotgun\\x89Ûª iPhone app #SXSW {link}'\n",
      "\n",
      " \n",
      " \n",
      "\n",
      "tweet_text                                            Orly....? ÛÏ@mention Google set to launch new...\n",
      "emotion_in_tweet_is_directed_at                                                                     NaN\n",
      "is_there_an_emotion_directed_at_a_brand_or_product                   No emotion toward brand or product\n",
      "Name: 48, dtype: object\n",
      "'Orly....? \\x89ÛÏ@mention Google set to launch new social network #Circles today at #sxsw\\x89Û\\x9d'\n",
      "\n",
      " \n",
      " \n",
      "\n",
      "tweet_text                                            Khoi Vinh (@mention says Conde Nast's headlong...\n",
      "emotion_in_tweet_is_directed_at                                                                     NaN\n",
      "is_there_an_emotion_directed_at_a_brand_or_product                   No emotion toward brand or product\n",
      "Name: 50, dtype: object\n",
      "\"Khoi Vinh (@mention says Conde Nast's headlong rush into iPad publishing was a &quot;fundamental misunderstanding&quot; of the platform #sxsw\"\n",
      "\n",
      " \n",
      " \n",
      "\n",
      "tweet_text                                            ÛÏ@mention {link} &lt;-- HELP ME FORWARD THIS...\n",
      "emotion_in_tweet_is_directed_at                                                                     NaN\n",
      "is_there_an_emotion_directed_at_a_brand_or_product                   No emotion toward brand or product\n",
      "Name: 51, dtype: object\n",
      "'\\x89ÛÏ@mention {link} &lt;-- HELP ME FORWARD THIS DOC to all Anonymous accounts, techies,&amp; ppl who can help us JAM #libya #SXSW'\n",
      "\n",
      " \n",
      " \n",
      "\n",
      "tweet_text                                            ÷¼ WHAT? ÷_ {link} ã_ #edchat #musedchat #s...\n",
      "emotion_in_tweet_is_directed_at                                                                     NaN\n",
      "is_there_an_emotion_directed_at_a_brand_or_product                   No emotion toward brand or product\n",
      "Name: 52, dtype: object\n",
      "'\\x89÷¼ WHAT? \\x89÷_ {link} \\x89ã_ #edchat #musedchat #sxsw #sxswi #classical #newTwitter'\n",
      "\n",
      " \n",
      " \n",
      "\n",
      "tweet_text                                            .@mention @mention on the location-based 'fast...\n",
      "emotion_in_tweet_is_directed_at                                                                     NaN\n",
      "is_there_an_emotion_directed_at_a_brand_or_product                   No emotion toward brand or product\n",
      "Name: 53, dtype: object\n",
      "\".@mention @mention on the location-based 'fast, fun and future' - {link} (via @mention #sxsw\"\n",
      "\n",
      " \n",
      " \n",
      "\n",
      "tweet_text                                            ÛÏ@mention @mention #Google Will Connect the ...\n",
      "emotion_in_tweet_is_directed_at                                                                     NaN\n",
      "is_there_an_emotion_directed_at_a_brand_or_product                   No emotion toward brand or product\n",
      "Name: 54, dtype: object\n",
      "'\\x89ÛÏ@mention @mention #Google Will Connect the Digital &amp; Physical Worlds Through Mobile - {link} #sxsw\\x89Û\\x9d @mention'\n",
      "\n",
      " \n",
      " \n",
      "\n"
     ]
    }
   ],
   "source": [
    "for i in range(20) :\n",
    "    pp.pprint(df_product_none.iloc[i])\n",
    "    pp.pprint(df_product_none['tweet_text'].iloc[i]) \n",
    "    print('\\n', '\\n', '\\n')"
   ]
  },
  {
   "cell_type": "markdown",
   "metadata": {},
   "source": [
    "## Apple related"
   ]
  },
  {
   "cell_type": "code",
   "execution_count": 70,
   "metadata": {},
   "outputs": [],
   "source": [
    "apple_related = 'iPad|Apple|iPad or iPhone App|iPhone'"
   ]
  },
  {
   "cell_type": "code",
   "execution_count": 76,
   "metadata": {},
   "outputs": [],
   "source": [
    "df_missingdrop = df.dropna(subset = 'emotion_in_tweet_is_directed_at')"
   ]
  },
  {
   "cell_type": "code",
   "execution_count": 77,
   "metadata": {},
   "outputs": [
    {
     "name": "stdout",
     "output_type": "stream",
     "text": [
      "<class 'pandas.core.frame.DataFrame'>\n",
      "Index: 3291 entries, 0 to 9088\n",
      "Data columns (total 3 columns):\n",
      " #   Column                                              Non-Null Count  Dtype \n",
      "---  ------                                              --------------  ----- \n",
      " 0   tweet_text                                          3291 non-null   object\n",
      " 1   emotion_in_tweet_is_directed_at                     3291 non-null   object\n",
      " 2   is_there_an_emotion_directed_at_a_brand_or_product  3291 non-null   object\n",
      "dtypes: object(3)\n",
      "memory usage: 102.8+ KB\n"
     ]
    }
   ],
   "source": [
    "df_missingdrop.info()"
   ]
  },
  {
   "cell_type": "code",
   "execution_count": 79,
   "metadata": {},
   "outputs": [],
   "source": [
    "apple_df = df_missingdrop[df_missingdrop['emotion_in_tweet_is_directed_at'].str.contains(apple_related)]"
   ]
  },
  {
   "cell_type": "code",
   "execution_count": 80,
   "metadata": {},
   "outputs": [
    {
     "name": "stdout",
     "output_type": "stream",
     "text": [
      "<class 'pandas.core.frame.DataFrame'>\n",
      "Index: 2409 entries, 0 to 9088\n",
      "Data columns (total 3 columns):\n",
      " #   Column                                              Non-Null Count  Dtype \n",
      "---  ------                                              --------------  ----- \n",
      " 0   tweet_text                                          2409 non-null   object\n",
      " 1   emotion_in_tweet_is_directed_at                     2409 non-null   object\n",
      " 2   is_there_an_emotion_directed_at_a_brand_or_product  2409 non-null   object\n",
      "dtypes: object(3)\n",
      "memory usage: 75.3+ KB\n"
     ]
    }
   ],
   "source": [
    "apple_df.info()"
   ]
  },
  {
   "cell_type": "code",
   "execution_count": 81,
   "metadata": {},
   "outputs": [
    {
     "data": {
      "text/plain": [
       "emotion_in_tweet_is_directed_at\n",
       "iPad                              946\n",
       "Apple                             661\n",
       "iPad or iPhone App                470\n",
       "iPhone                            297\n",
       "Other Apple product or service     35\n",
       "Name: count, dtype: int64"
      ]
     },
     "execution_count": 81,
     "metadata": {},
     "output_type": "execute_result"
    }
   ],
   "source": [
    "apple_df['emotion_in_tweet_is_directed_at'].value_counts()"
   ]
  },
  {
   "cell_type": "code",
   "execution_count": 82,
   "metadata": {},
   "outputs": [
    {
     "data": {
      "text/plain": [
       "is_there_an_emotion_directed_at_a_brand_or_product\n",
       "Positive emotion                      1949\n",
       "Negative emotion                       388\n",
       "No emotion toward brand or product      65\n",
       "I can't tell                             7\n",
       "Name: count, dtype: int64"
      ]
     },
     "execution_count": 82,
     "metadata": {},
     "output_type": "execute_result"
    }
   ],
   "source": [
    "apple_df['is_there_an_emotion_directed_at_a_brand_or_product'].value_counts()"
   ]
  },
  {
   "cell_type": "markdown",
   "metadata": {},
   "source": [
    "## Google related"
   ]
  },
  {
   "cell_type": "code",
   "execution_count": 83,
   "metadata": {},
   "outputs": [],
   "source": [
    "google_df = df_missingdrop[~df_missingdrop['emotion_in_tweet_is_directed_at'].str.contains(apple_related)]"
   ]
  },
  {
   "cell_type": "code",
   "execution_count": 84,
   "metadata": {},
   "outputs": [
    {
     "name": "stdout",
     "output_type": "stream",
     "text": [
      "<class 'pandas.core.frame.DataFrame'>\n",
      "Index: 882 entries, 4 to 9080\n",
      "Data columns (total 3 columns):\n",
      " #   Column                                              Non-Null Count  Dtype \n",
      "---  ------                                              --------------  ----- \n",
      " 0   tweet_text                                          882 non-null    object\n",
      " 1   emotion_in_tweet_is_directed_at                     882 non-null    object\n",
      " 2   is_there_an_emotion_directed_at_a_brand_or_product  882 non-null    object\n",
      "dtypes: object(3)\n",
      "memory usage: 27.6+ KB\n"
     ]
    }
   ],
   "source": [
    "google_df.info()"
   ]
  },
  {
   "cell_type": "code",
   "execution_count": 85,
   "metadata": {},
   "outputs": [
    {
     "data": {
      "text/plain": [
       "emotion_in_tweet_is_directed_at\n",
       "Google                             430\n",
       "Other Google product or service    293\n",
       "Android App                         81\n",
       "Android                             78\n",
       "Name: count, dtype: int64"
      ]
     },
     "execution_count": 85,
     "metadata": {},
     "output_type": "execute_result"
    }
   ],
   "source": [
    "google_df['emotion_in_tweet_is_directed_at'].value_counts()"
   ]
  },
  {
   "cell_type": "code",
   "execution_count": 86,
   "metadata": {},
   "outputs": [
    {
     "data": {
      "text/plain": [
       "is_there_an_emotion_directed_at_a_brand_or_product\n",
       "Positive emotion                      723\n",
       "Negative emotion                      131\n",
       "No emotion toward brand or product     26\n",
       "I can't tell                            2\n",
       "Name: count, dtype: int64"
      ]
     },
     "execution_count": 86,
     "metadata": {},
     "output_type": "execute_result"
    }
   ],
   "source": [
    "google_df['is_there_an_emotion_directed_at_a_brand_or_product'].value_counts()"
   ]
  },
  {
   "cell_type": "markdown",
   "metadata": {},
   "source": [
    "## Processing text"
   ]
  },
  {
   "cell_type": "markdown",
   "metadata": {},
   "source": [
    "### Lower 'tweet_text'"
   ]
  },
  {
   "cell_type": "code",
   "execution_count": 89,
   "metadata": {},
   "outputs": [],
   "source": [
    "df['tweet_text_low'] = df['tweet_text'].str.lower()"
   ]
  },
  {
   "cell_type": "code",
   "execution_count": 90,
   "metadata": {},
   "outputs": [
    {
     "data": {
      "text/html": [
       "<div>\n",
       "<style scoped>\n",
       "    .dataframe tbody tr th:only-of-type {\n",
       "        vertical-align: middle;\n",
       "    }\n",
       "\n",
       "    .dataframe tbody tr th {\n",
       "        vertical-align: top;\n",
       "    }\n",
       "\n",
       "    .dataframe thead th {\n",
       "        text-align: right;\n",
       "    }\n",
       "</style>\n",
       "<table border=\"1\" class=\"dataframe\">\n",
       "  <thead>\n",
       "    <tr style=\"text-align: right;\">\n",
       "      <th></th>\n",
       "      <th>tweet_text</th>\n",
       "      <th>tweet_text_low</th>\n",
       "    </tr>\n",
       "  </thead>\n",
       "  <tbody>\n",
       "    <tr>\n",
       "      <th>0</th>\n",
       "      <td>.@wesley83 I have a 3G iPhone. After 3 hrs twe...</td>\n",
       "      <td>.@wesley83 i have a 3g iphone. after 3 hrs twe...</td>\n",
       "    </tr>\n",
       "    <tr>\n",
       "      <th>1</th>\n",
       "      <td>@jessedee Know about @fludapp ? Awesome iPad/i...</td>\n",
       "      <td>@jessedee know about @fludapp ? awesome ipad/i...</td>\n",
       "    </tr>\n",
       "    <tr>\n",
       "      <th>2</th>\n",
       "      <td>@swonderlin Can not wait for #iPad 2 also. The...</td>\n",
       "      <td>@swonderlin can not wait for #ipad 2 also. the...</td>\n",
       "    </tr>\n",
       "    <tr>\n",
       "      <th>3</th>\n",
       "      <td>@sxsw I hope this year's festival isn't as cra...</td>\n",
       "      <td>@sxsw i hope this year's festival isn't as cra...</td>\n",
       "    </tr>\n",
       "    <tr>\n",
       "      <th>4</th>\n",
       "      <td>@sxtxstate great stuff on Fri #SXSW: Marissa M...</td>\n",
       "      <td>@sxtxstate great stuff on fri #sxsw: marissa m...</td>\n",
       "    </tr>\n",
       "  </tbody>\n",
       "</table>\n",
       "</div>"
      ],
      "text/plain": [
       "                                          tweet_text  \\\n",
       "0  .@wesley83 I have a 3G iPhone. After 3 hrs twe...   \n",
       "1  @jessedee Know about @fludapp ? Awesome iPad/i...   \n",
       "2  @swonderlin Can not wait for #iPad 2 also. The...   \n",
       "3  @sxsw I hope this year's festival isn't as cra...   \n",
       "4  @sxtxstate great stuff on Fri #SXSW: Marissa M...   \n",
       "\n",
       "                                      tweet_text_low  \n",
       "0  .@wesley83 i have a 3g iphone. after 3 hrs twe...  \n",
       "1  @jessedee know about @fludapp ? awesome ipad/i...  \n",
       "2  @swonderlin can not wait for #ipad 2 also. the...  \n",
       "3  @sxsw i hope this year's festival isn't as cra...  \n",
       "4  @sxtxstate great stuff on fri #sxsw: marissa m...  "
      ]
     },
     "execution_count": 90,
     "metadata": {},
     "output_type": "execute_result"
    }
   ],
   "source": [
    "df[['tweet_text','tweet_text_low']].head()"
   ]
  },
  {
   "cell_type": "markdown",
   "metadata": {},
   "source": [
    "### Making apple column if tweet_text_low contains apple_related then 1 "
   ]
  },
  {
   "cell_type": "code",
   "execution_count": 91,
   "metadata": {},
   "outputs": [],
   "source": [
    "apple_related_low = 'ipad|apple|iphone|itunes'"
   ]
  },
  {
   "cell_type": "code",
   "execution_count": 92,
   "metadata": {},
   "outputs": [
    {
     "data": {
      "text/plain": [
       "5525"
      ]
     },
     "execution_count": 92,
     "metadata": {},
     "output_type": "execute_result"
    }
   ],
   "source": [
    "df['tweet_text_low'].str.contains(apple_related_low).sum()"
   ]
  },
  {
   "cell_type": "code",
   "execution_count": 96,
   "metadata": {},
   "outputs": [
    {
     "data": {
      "text/plain": [
       "(9093, 4)"
      ]
     },
     "execution_count": 96,
     "metadata": {},
     "output_type": "execute_result"
    }
   ],
   "source": [
    "df.shape"
   ]
  },
  {
   "cell_type": "code",
   "execution_count": 97,
   "metadata": {},
   "outputs": [],
   "source": [
    "df_missingdeleted = df.dropna(subset = 'tweet_text_low')"
   ]
  },
  {
   "cell_type": "code",
   "execution_count": 98,
   "metadata": {},
   "outputs": [
    {
     "data": {
      "text/plain": [
       "(9092, 4)"
      ]
     },
     "execution_count": 98,
     "metadata": {},
     "output_type": "execute_result"
    }
   ],
   "source": [
    "df_missingdeleted.shape"
   ]
  },
  {
   "cell_type": "code",
   "execution_count": 99,
   "metadata": {},
   "outputs": [],
   "source": [
    "apple_df_2 = df_missingdeleted[df_missingdeleted['tweet_text_low'].str.contains(apple_related_low)]"
   ]
  },
  {
   "cell_type": "code",
   "execution_count": 100,
   "metadata": {},
   "outputs": [
    {
     "name": "stdout",
     "output_type": "stream",
     "text": [
      "<class 'pandas.core.frame.DataFrame'>\n",
      "Index: 5525 entries, 0 to 9091\n",
      "Data columns (total 4 columns):\n",
      " #   Column                                              Non-Null Count  Dtype \n",
      "---  ------                                              --------------  ----- \n",
      " 0   tweet_text                                          5525 non-null   object\n",
      " 1   emotion_in_tweet_is_directed_at                     2407 non-null   object\n",
      " 2   is_there_an_emotion_directed_at_a_brand_or_product  5525 non-null   object\n",
      " 3   tweet_text_low                                      5525 non-null   object\n",
      "dtypes: object(4)\n",
      "memory usage: 215.8+ KB\n"
     ]
    }
   ],
   "source": [
    "apple_df_2.info()"
   ]
  },
  {
   "cell_type": "code",
   "execution_count": 101,
   "metadata": {},
   "outputs": [
    {
     "data": {
      "text/plain": [
       "is_there_an_emotion_directed_at_a_brand_or_product\n",
       "No emotion toward brand or product    2875\n",
       "Positive emotion                      2131\n",
       "Negative emotion                       420\n",
       "I can't tell                            99\n",
       "Name: count, dtype: int64"
      ]
     },
     "execution_count": 101,
     "metadata": {},
     "output_type": "execute_result"
    }
   ],
   "source": [
    "apple_df_2['is_there_an_emotion_directed_at_a_brand_or_product'].value_counts()"
   ]
  },
  {
   "cell_type": "markdown",
   "metadata": {},
   "source": [
    "### Making apple column if tweet_text_low contains google_related then 1 "
   ]
  },
  {
   "cell_type": "code",
   "execution_count": 103,
   "metadata": {},
   "outputs": [
    {
     "data": {
      "text/plain": [
       "emotion_in_tweet_is_directed_at\n",
       "iPad                               946\n",
       "Apple                              661\n",
       "iPad or iPhone App                 470\n",
       "Google                             430\n",
       "iPhone                             297\n",
       "Other Google product or service    293\n",
       "Android App                         81\n",
       "Android                             78\n",
       "Other Apple product or service      35\n",
       "Name: count, dtype: int64"
      ]
     },
     "execution_count": 103,
     "metadata": {},
     "output_type": "execute_result"
    }
   ],
   "source": [
    "df['emotion_in_tweet_is_directed_at'].value_counts()"
   ]
  },
  {
   "cell_type": "code",
   "execution_count": 104,
   "metadata": {},
   "outputs": [],
   "source": [
    "google_related_low = 'google|android'"
   ]
  },
  {
   "cell_type": "code",
   "execution_count": 105,
   "metadata": {},
   "outputs": [],
   "source": [
    "google_df = df_missingdeleted[df_missingdeleted['tweet_text_low'].str.contains(google_related_low)]"
   ]
  },
  {
   "cell_type": "code",
   "execution_count": 106,
   "metadata": {
    "scrolled": true
   },
   "outputs": [
    {
     "name": "stdout",
     "output_type": "stream",
     "text": [
      "<class 'pandas.core.frame.DataFrame'>\n",
      "Index: 3031 entries, 4 to 9092\n",
      "Data columns (total 4 columns):\n",
      " #   Column                                              Non-Null Count  Dtype \n",
      "---  ------                                              --------------  ----- \n",
      " 0   tweet_text                                          3031 non-null   object\n",
      " 1   emotion_in_tweet_is_directed_at                     928 non-null    object\n",
      " 2   is_there_an_emotion_directed_at_a_brand_or_product  3031 non-null   object\n",
      " 3   tweet_text_low                                      3031 non-null   object\n",
      "dtypes: object(4)\n",
      "memory usage: 118.4+ KB\n"
     ]
    }
   ],
   "source": [
    "google_df.info()"
   ]
  },
  {
   "cell_type": "code",
   "execution_count": 107,
   "metadata": {},
   "outputs": [
    {
     "data": {
      "text/plain": [
       "is_there_an_emotion_directed_at_a_brand_or_product\n",
       "No emotion toward brand or product    1937\n",
       "Positive emotion                       879\n",
       "Negative emotion                       158\n",
       "I can't tell                            57\n",
       "Name: count, dtype: int64"
      ]
     },
     "execution_count": 107,
     "metadata": {},
     "output_type": "execute_result"
    }
   ],
   "source": [
    "google_df['is_there_an_emotion_directed_at_a_brand_or_product'].value_counts()"
   ]
  },
  {
   "cell_type": "markdown",
   "metadata": {},
   "source": [
    "# Harshitha"
   ]
  },
  {
   "cell_type": "markdown",
   "metadata": {},
   "source": [
    "## EDA"
   ]
  },
  {
   "cell_type": "code",
   "execution_count": null,
   "metadata": {},
   "outputs": [],
   "source": []
  }
 ],
 "metadata": {
  "kernelspec": {
   "display_name": "Python (learn-env)",
   "language": "python",
   "name": "learn-env"
  },
  "language_info": {
   "codemirror_mode": {
    "name": "ipython",
    "version": 3
   },
   "file_extension": ".py",
   "mimetype": "text/x-python",
   "name": "python",
   "nbconvert_exporter": "python",
   "pygments_lexer": "ipython3",
   "version": "3.9.18"
  }
 },
 "nbformat": 4,
 "nbformat_minor": 4
}
