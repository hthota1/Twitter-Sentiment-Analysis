{
 "cells": [
  {
   "cell_type": "markdown",
   "metadata": {},
   "source": [
    "- Summary\n",
    "- Business Understanding\n",
    "- Data Understanding\n"
   ]
  },
  {
   "cell_type": "code",
   "execution_count": 67,
   "metadata": {},
   "outputs": [],
   "source": [
    "import pandas as pd\n",
    "import matplotlib.pyplot as plt\n",
    "import seaborn as sns"
   ]
  },
  {
   "cell_type": "code",
   "execution_count": 68,
   "metadata": {},
   "outputs": [],
   "source": [
    "df = pd.read_csv(\"data/tweet_product_company.csv\", encoding = 'latin-1')"
   ]
  },
  {
   "cell_type": "code",
   "execution_count": 69,
   "metadata": {},
   "outputs": [
    {
     "data": {
      "text/html": [
       "<div>\n",
       "<style scoped>\n",
       "    .dataframe tbody tr th:only-of-type {\n",
       "        vertical-align: middle;\n",
       "    }\n",
       "\n",
       "    .dataframe tbody tr th {\n",
       "        vertical-align: top;\n",
       "    }\n",
       "\n",
       "    .dataframe thead th {\n",
       "        text-align: right;\n",
       "    }\n",
       "</style>\n",
       "<table border=\"1\" class=\"dataframe\">\n",
       "  <thead>\n",
       "    <tr style=\"text-align: right;\">\n",
       "      <th></th>\n",
       "      <th>tweet_text</th>\n",
       "      <th>emotion_in_tweet_is_directed_at</th>\n",
       "      <th>is_there_an_emotion_directed_at_a_brand_or_product</th>\n",
       "    </tr>\n",
       "  </thead>\n",
       "  <tbody>\n",
       "    <tr>\n",
       "      <th>9043</th>\n",
       "      <td>Hey is anyone doing #sxsw signing up for the g...</td>\n",
       "      <td>NaN</td>\n",
       "      <td>Negative emotion</td>\n",
       "    </tr>\n",
       "    <tr>\n",
       "      <th>9044</th>\n",
       "      <td>Look everyone! Zomg @mention got an iPad 2 on ...</td>\n",
       "      <td>iPad</td>\n",
       "      <td>Positive emotion</td>\n",
       "    </tr>\n",
       "    <tr>\n",
       "      <th>9045</th>\n",
       "      <td>@mention you are my favorite-- thanks for comi...</td>\n",
       "      <td>iPhone</td>\n",
       "      <td>Positive emotion</td>\n",
       "    </tr>\n",
       "    <tr>\n",
       "      <th>9046</th>\n",
       "      <td>you know you are on the plane to #SXSW when u ...</td>\n",
       "      <td>NaN</td>\n",
       "      <td>No emotion toward brand or product</td>\n",
       "    </tr>\n",
       "    <tr>\n",
       "      <th>9047</th>\n",
       "      <td>Those of you at #SXSW I need the details on Go...</td>\n",
       "      <td>NaN</td>\n",
       "      <td>No emotion toward brand or product</td>\n",
       "    </tr>\n",
       "    <tr>\n",
       "      <th>9048</th>\n",
       "      <td>@mention You bet man! Kindle and Apple for sur...</td>\n",
       "      <td>Apple</td>\n",
       "      <td>Positive emotion</td>\n",
       "    </tr>\n",
       "    <tr>\n",
       "      <th>9049</th>\n",
       "      <td>@mention you can buy my used iPad and I'll pic...</td>\n",
       "      <td>NaN</td>\n",
       "      <td>Positive emotion</td>\n",
       "    </tr>\n",
       "    <tr>\n",
       "      <th>9050</th>\n",
       "      <td>@mention you can check out {link} for other #S...</td>\n",
       "      <td>NaN</td>\n",
       "      <td>No emotion toward brand or product</td>\n",
       "    </tr>\n",
       "    <tr>\n",
       "      <th>9051</th>\n",
       "      <td>@mention You can get an iPad 1 for under $350 ...</td>\n",
       "      <td>iPad</td>\n",
       "      <td>No emotion toward brand or product</td>\n",
       "    </tr>\n",
       "    <tr>\n",
       "      <th>9052</th>\n",
       "      <td>@mention You could buy a new iPad 2 tmrw at th...</td>\n",
       "      <td>NaN</td>\n",
       "      <td>Positive emotion</td>\n",
       "    </tr>\n",
       "    <tr>\n",
       "      <th>9053</th>\n",
       "      <td>@mention you could win a #sony Xperia play bef...</td>\n",
       "      <td>NaN</td>\n",
       "      <td>No emotion toward brand or product</td>\n",
       "    </tr>\n",
       "    <tr>\n",
       "      <th>9054</th>\n",
       "      <td>Guys, if you ever plan on attending #SXSW, you...</td>\n",
       "      <td>NaN</td>\n",
       "      <td>Positive emotion</td>\n",
       "    </tr>\n",
       "    <tr>\n",
       "      <th>9055</th>\n",
       "      <td>@mention you give away that iPad yet.... ? #sxsw</td>\n",
       "      <td>NaN</td>\n",
       "      <td>No emotion toward brand or product</td>\n",
       "    </tr>\n",
       "    <tr>\n",
       "      <th>9056</th>\n",
       "      <td>@mention you going to #Google announcement @me...</td>\n",
       "      <td>NaN</td>\n",
       "      <td>No emotion toward brand or product</td>\n",
       "    </tr>\n",
       "    <tr>\n",
       "      <th>9057</th>\n",
       "      <td>@mention You guys should do this &amp;amp; give me...</td>\n",
       "      <td>NaN</td>\n",
       "      <td>No emotion toward brand or product</td>\n",
       "    </tr>\n",
       "    <tr>\n",
       "      <th>9058</th>\n",
       "      <td>&amp;quot;Do you know what Apple is really good at...</td>\n",
       "      <td>NaN</td>\n",
       "      <td>I can't tell</td>\n",
       "    </tr>\n",
       "    <tr>\n",
       "      <th>9059</th>\n",
       "      <td>@mention you know...they sell apple products a...</td>\n",
       "      <td>NaN</td>\n",
       "      <td>No emotion toward brand or product</td>\n",
       "    </tr>\n",
       "    <tr>\n",
       "      <th>9060</th>\n",
       "      <td>@mention you might also appreciate new iPhone ...</td>\n",
       "      <td>iPad or iPhone App</td>\n",
       "      <td>Positive emotion</td>\n",
       "    </tr>\n",
       "    <tr>\n",
       "      <th>9061</th>\n",
       "      <td>@mention You realize I'm still padless? I just...</td>\n",
       "      <td>iPad</td>\n",
       "      <td>Positive emotion</td>\n",
       "    </tr>\n",
       "    <tr>\n",
       "      <th>9062</th>\n",
       "      <td>@mention you should find @mention or...you can...</td>\n",
       "      <td>NaN</td>\n",
       "      <td>No emotion toward brand or product</td>\n",
       "    </tr>\n",
       "    <tr>\n",
       "      <th>9063</th>\n",
       "      <td>@mention You should get the iPad 2  to save yo...</td>\n",
       "      <td>iPad</td>\n",
       "      <td>Positive emotion</td>\n",
       "    </tr>\n",
       "    <tr>\n",
       "      <th>9064</th>\n",
       "      <td>@mention you should see the line here at #SXSW...</td>\n",
       "      <td>Apple</td>\n",
       "      <td>Positive emotion</td>\n",
       "    </tr>\n",
       "    <tr>\n",
       "      <th>9065</th>\n",
       "      <td>Soooo do you think Apple will have a mobile st...</td>\n",
       "      <td>NaN</td>\n",
       "      <td>No emotion toward brand or product</td>\n",
       "    </tr>\n",
       "    <tr>\n",
       "      <th>9066</th>\n",
       "      <td>How much you want to bet Apple is disproportio...</td>\n",
       "      <td>Apple</td>\n",
       "      <td>I can't tell</td>\n",
       "    </tr>\n",
       "    <tr>\n",
       "      <th>9067</th>\n",
       "      <td>&amp;quot;If you were able to afford to attend  #s...</td>\n",
       "      <td>NaN</td>\n",
       "      <td>No emotion toward brand or product</td>\n",
       "    </tr>\n",
       "    <tr>\n",
       "      <th>9068</th>\n",
       "      <td>@mention you'll be at the google party tonight...</td>\n",
       "      <td>NaN</td>\n",
       "      <td>No emotion toward brand or product</td>\n",
       "    </tr>\n",
       "    <tr>\n",
       "      <th>9069</th>\n",
       "      <td>@mention You're not sure how many you ate? Tha...</td>\n",
       "      <td>NaN</td>\n",
       "      <td>No emotion toward brand or product</td>\n",
       "    </tr>\n",
       "    <tr>\n",
       "      <th>9070</th>\n",
       "      <td>You know you've made it to #sxsw when you see ...</td>\n",
       "      <td>iPad</td>\n",
       "      <td>Positive emotion</td>\n",
       "    </tr>\n",
       "    <tr>\n",
       "      <th>9071</th>\n",
       "      <td>what are your essentials for #SxSW?  Mine? poc...</td>\n",
       "      <td>iPad</td>\n",
       "      <td>Positive emotion</td>\n",
       "    </tr>\n",
       "    <tr>\n",
       "      <th>9072</th>\n",
       "      <td>@mention your iPhone 4 cases are Rad and Ready...</td>\n",
       "      <td>iPhone</td>\n",
       "      <td>Positive emotion</td>\n",
       "    </tr>\n",
       "    <tr>\n",
       "      <th>9073</th>\n",
       "      <td>At #SXSW your iphone charger is your best friend.</td>\n",
       "      <td>NaN</td>\n",
       "      <td>No emotion toward brand or product</td>\n",
       "    </tr>\n",
       "    <tr>\n",
       "      <th>9074</th>\n",
       "      <td>At &amp;quot;Your Mom Has an iPad: Designing for B...</td>\n",
       "      <td>NaN</td>\n",
       "      <td>No emotion toward brand or product</td>\n",
       "    </tr>\n",
       "    <tr>\n",
       "      <th>9075</th>\n",
       "      <td>At &amp;quot;Your Mom Has an iPad&amp;quot; session #y...</td>\n",
       "      <td>NaN</td>\n",
       "      <td>No emotion toward brand or product</td>\n",
       "    </tr>\n",
       "    <tr>\n",
       "      <th>9076</th>\n",
       "      <td>At &amp;quot;Your Mom Has an iPad&amp;quot; session at...</td>\n",
       "      <td>NaN</td>\n",
       "      <td>No emotion toward brand or product</td>\n",
       "    </tr>\n",
       "    <tr>\n",
       "      <th>9077</th>\n",
       "      <td>@mention your PR guy just convinced me to swit...</td>\n",
       "      <td>iPhone</td>\n",
       "      <td>Positive emotion</td>\n",
       "    </tr>\n",
       "    <tr>\n",
       "      <th>9078</th>\n",
       "      <td>Cue the hype RT @mention We interrupt your reg...</td>\n",
       "      <td>NaN</td>\n",
       "      <td>No emotion toward brand or product</td>\n",
       "    </tr>\n",
       "    <tr>\n",
       "      <th>9079</th>\n",
       "      <td>&amp;quot;papyrus...sort of like the ipad&amp;quot; - ...</td>\n",
       "      <td>iPad</td>\n",
       "      <td>Positive emotion</td>\n",
       "    </tr>\n",
       "    <tr>\n",
       "      <th>9080</th>\n",
       "      <td>Diller says Google TV &amp;quot;might be run over ...</td>\n",
       "      <td>Other Google product or service</td>\n",
       "      <td>Negative emotion</td>\n",
       "    </tr>\n",
       "    <tr>\n",
       "      <th>9081</th>\n",
       "      <td>Google says reports about launch of Circles so...</td>\n",
       "      <td>NaN</td>\n",
       "      <td>No emotion toward brand or product</td>\n",
       "    </tr>\n",
       "    <tr>\n",
       "      <th>9082</th>\n",
       "      <td>#Apple guys screaming and running by line to o...</td>\n",
       "      <td>NaN</td>\n",
       "      <td>No emotion toward brand or product</td>\n",
       "    </tr>\n",
       "    <tr>\n",
       "      <th>9083</th>\n",
       "      <td>Google says the future is all around you! (ie,...</td>\n",
       "      <td>NaN</td>\n",
       "      <td>No emotion toward brand or product</td>\n",
       "    </tr>\n",
       "    <tr>\n",
       "      <th>9084</th>\n",
       "      <td>Google says the future is location, location, ...</td>\n",
       "      <td>NaN</td>\n",
       "      <td>No emotion toward brand or product</td>\n",
       "    </tr>\n",
       "    <tr>\n",
       "      <th>9085</th>\n",
       "      <td>I've always used Camera+ for my iPhone b/c it ...</td>\n",
       "      <td>iPad or iPhone App</td>\n",
       "      <td>Positive emotion</td>\n",
       "    </tr>\n",
       "    <tr>\n",
       "      <th>9086</th>\n",
       "      <td>Google says: want to give a lightning talk to ...</td>\n",
       "      <td>NaN</td>\n",
       "      <td>No emotion toward brand or product</td>\n",
       "    </tr>\n",
       "    <tr>\n",
       "      <th>9087</th>\n",
       "      <td>@mention Yup, but I don't have a third app yet...</td>\n",
       "      <td>NaN</td>\n",
       "      <td>No emotion toward brand or product</td>\n",
       "    </tr>\n",
       "    <tr>\n",
       "      <th>9088</th>\n",
       "      <td>Ipad everywhere. #SXSW {link}</td>\n",
       "      <td>iPad</td>\n",
       "      <td>Positive emotion</td>\n",
       "    </tr>\n",
       "    <tr>\n",
       "      <th>9089</th>\n",
       "      <td>Wave, buzz... RT @mention We interrupt your re...</td>\n",
       "      <td>NaN</td>\n",
       "      <td>No emotion toward brand or product</td>\n",
       "    </tr>\n",
       "    <tr>\n",
       "      <th>9090</th>\n",
       "      <td>Google's Zeiger, a physician never reported po...</td>\n",
       "      <td>NaN</td>\n",
       "      <td>No emotion toward brand or product</td>\n",
       "    </tr>\n",
       "    <tr>\n",
       "      <th>9091</th>\n",
       "      <td>Some Verizon iPhone customers complained their...</td>\n",
       "      <td>NaN</td>\n",
       "      <td>No emotion toward brand or product</td>\n",
       "    </tr>\n",
       "    <tr>\n",
       "      <th>9092</th>\n",
       "      <td>Ï¡Ïàü_ÊÎÒ£Áââ_£â_ÛâRT @...</td>\n",
       "      <td>NaN</td>\n",
       "      <td>No emotion toward brand or product</td>\n",
       "    </tr>\n",
       "  </tbody>\n",
       "</table>\n",
       "</div>"
      ],
      "text/plain": [
       "                                             tweet_text  \\\n",
       "9043  Hey is anyone doing #sxsw signing up for the g...   \n",
       "9044  Look everyone! Zomg @mention got an iPad 2 on ...   \n",
       "9045  @mention you are my favorite-- thanks for comi...   \n",
       "9046  you know you are on the plane to #SXSW when u ...   \n",
       "9047  Those of you at #SXSW I need the details on Go...   \n",
       "9048  @mention You bet man! Kindle and Apple for sur...   \n",
       "9049  @mention you can buy my used iPad and I'll pic...   \n",
       "9050  @mention you can check out {link} for other #S...   \n",
       "9051  @mention You can get an iPad 1 for under $350 ...   \n",
       "9052  @mention You could buy a new iPad 2 tmrw at th...   \n",
       "9053  @mention you could win a #sony Xperia play bef...   \n",
       "9054  Guys, if you ever plan on attending #SXSW, you...   \n",
       "9055   @mention you give away that iPad yet.... ? #sxsw   \n",
       "9056  @mention you going to #Google announcement @me...   \n",
       "9057  @mention You guys should do this &amp; give me...   \n",
       "9058  &quot;Do you know what Apple is really good at...   \n",
       "9059  @mention you know...they sell apple products a...   \n",
       "9060  @mention you might also appreciate new iPhone ...   \n",
       "9061  @mention You realize I'm still padless? I just...   \n",
       "9062  @mention you should find @mention or...you can...   \n",
       "9063  @mention You should get the iPad 2  to save yo...   \n",
       "9064  @mention you should see the line here at #SXSW...   \n",
       "9065  Soooo do you think Apple will have a mobile st...   \n",
       "9066  How much you want to bet Apple is disproportio...   \n",
       "9067  &quot;If you were able to afford to attend  #s...   \n",
       "9068  @mention you'll be at the google party tonight...   \n",
       "9069  @mention You're not sure how many you ate? Tha...   \n",
       "9070  You know you've made it to #sxsw when you see ...   \n",
       "9071  what are your essentials for #SxSW?  Mine? poc...   \n",
       "9072  @mention your iPhone 4 cases are Rad and Ready...   \n",
       "9073  At #SXSW your iphone charger is your best friend.   \n",
       "9074  At &quot;Your Mom Has an iPad: Designing for B...   \n",
       "9075  At &quot;Your Mom Has an iPad&quot; session #y...   \n",
       "9076  At &quot;Your Mom Has an iPad&quot; session at...   \n",
       "9077  @mention your PR guy just convinced me to swit...   \n",
       "9078  Cue the hype RT @mention We interrupt your reg...   \n",
       "9079  &quot;papyrus...sort of like the ipad&quot; - ...   \n",
       "9080  Diller says Google TV &quot;might be run over ...   \n",
       "9081  Google says reports about launch of Circles so...   \n",
       "9082  #Apple guys screaming and running by line to o...   \n",
       "9083  Google says the future is all around you! (ie,...   \n",
       "9084  Google says the future is location, location, ...   \n",
       "9085  I've always used Camera+ for my iPhone b/c it ...   \n",
       "9086  Google says: want to give a lightning talk to ...   \n",
       "9087  @mention Yup, but I don't have a third app yet...   \n",
       "9088                      Ipad everywhere. #SXSW {link}   \n",
       "9089  Wave, buzz... RT @mention We interrupt your re...   \n",
       "9090  Google's Zeiger, a physician never reported po...   \n",
       "9091  Some Verizon iPhone customers complained their...   \n",
       "9092  Ï¡Ïàü_ÊÎÒ£Áââ_£â_ÛâRT @...   \n",
       "\n",
       "      emotion_in_tweet_is_directed_at  \\\n",
       "9043                              NaN   \n",
       "9044                             iPad   \n",
       "9045                           iPhone   \n",
       "9046                              NaN   \n",
       "9047                              NaN   \n",
       "9048                            Apple   \n",
       "9049                              NaN   \n",
       "9050                              NaN   \n",
       "9051                             iPad   \n",
       "9052                              NaN   \n",
       "9053                              NaN   \n",
       "9054                              NaN   \n",
       "9055                              NaN   \n",
       "9056                              NaN   \n",
       "9057                              NaN   \n",
       "9058                              NaN   \n",
       "9059                              NaN   \n",
       "9060               iPad or iPhone App   \n",
       "9061                             iPad   \n",
       "9062                              NaN   \n",
       "9063                             iPad   \n",
       "9064                            Apple   \n",
       "9065                              NaN   \n",
       "9066                            Apple   \n",
       "9067                              NaN   \n",
       "9068                              NaN   \n",
       "9069                              NaN   \n",
       "9070                             iPad   \n",
       "9071                             iPad   \n",
       "9072                           iPhone   \n",
       "9073                              NaN   \n",
       "9074                              NaN   \n",
       "9075                              NaN   \n",
       "9076                              NaN   \n",
       "9077                           iPhone   \n",
       "9078                              NaN   \n",
       "9079                             iPad   \n",
       "9080  Other Google product or service   \n",
       "9081                              NaN   \n",
       "9082                              NaN   \n",
       "9083                              NaN   \n",
       "9084                              NaN   \n",
       "9085               iPad or iPhone App   \n",
       "9086                              NaN   \n",
       "9087                              NaN   \n",
       "9088                             iPad   \n",
       "9089                              NaN   \n",
       "9090                              NaN   \n",
       "9091                              NaN   \n",
       "9092                              NaN   \n",
       "\n",
       "     is_there_an_emotion_directed_at_a_brand_or_product  \n",
       "9043                                   Negative emotion  \n",
       "9044                                   Positive emotion  \n",
       "9045                                   Positive emotion  \n",
       "9046                 No emotion toward brand or product  \n",
       "9047                 No emotion toward brand or product  \n",
       "9048                                   Positive emotion  \n",
       "9049                                   Positive emotion  \n",
       "9050                 No emotion toward brand or product  \n",
       "9051                 No emotion toward brand or product  \n",
       "9052                                   Positive emotion  \n",
       "9053                 No emotion toward brand or product  \n",
       "9054                                   Positive emotion  \n",
       "9055                 No emotion toward brand or product  \n",
       "9056                 No emotion toward brand or product  \n",
       "9057                 No emotion toward brand or product  \n",
       "9058                                       I can't tell  \n",
       "9059                 No emotion toward brand or product  \n",
       "9060                                   Positive emotion  \n",
       "9061                                   Positive emotion  \n",
       "9062                 No emotion toward brand or product  \n",
       "9063                                   Positive emotion  \n",
       "9064                                   Positive emotion  \n",
       "9065                 No emotion toward brand or product  \n",
       "9066                                       I can't tell  \n",
       "9067                 No emotion toward brand or product  \n",
       "9068                 No emotion toward brand or product  \n",
       "9069                 No emotion toward brand or product  \n",
       "9070                                   Positive emotion  \n",
       "9071                                   Positive emotion  \n",
       "9072                                   Positive emotion  \n",
       "9073                 No emotion toward brand or product  \n",
       "9074                 No emotion toward brand or product  \n",
       "9075                 No emotion toward brand or product  \n",
       "9076                 No emotion toward brand or product  \n",
       "9077                                   Positive emotion  \n",
       "9078                 No emotion toward brand or product  \n",
       "9079                                   Positive emotion  \n",
       "9080                                   Negative emotion  \n",
       "9081                 No emotion toward brand or product  \n",
       "9082                 No emotion toward brand or product  \n",
       "9083                 No emotion toward brand or product  \n",
       "9084                 No emotion toward brand or product  \n",
       "9085                                   Positive emotion  \n",
       "9086                 No emotion toward brand or product  \n",
       "9087                 No emotion toward brand or product  \n",
       "9088                                   Positive emotion  \n",
       "9089                 No emotion toward brand or product  \n",
       "9090                 No emotion toward brand or product  \n",
       "9091                 No emotion toward brand or product  \n",
       "9092                 No emotion toward brand or product  "
      ]
     },
     "execution_count": 69,
     "metadata": {},
     "output_type": "execute_result"
    }
   ],
   "source": [
    "df.tail(50)"
   ]
  },
  {
   "cell_type": "code",
   "execution_count": 70,
   "metadata": {},
   "outputs": [
    {
     "data": {
      "text/html": [
       "<div>\n",
       "<style scoped>\n",
       "    .dataframe tbody tr th:only-of-type {\n",
       "        vertical-align: middle;\n",
       "    }\n",
       "\n",
       "    .dataframe tbody tr th {\n",
       "        vertical-align: top;\n",
       "    }\n",
       "\n",
       "    .dataframe thead th {\n",
       "        text-align: right;\n",
       "    }\n",
       "</style>\n",
       "<table border=\"1\" class=\"dataframe\">\n",
       "  <thead>\n",
       "    <tr style=\"text-align: right;\">\n",
       "      <th></th>\n",
       "      <th>tweet_text</th>\n",
       "      <th>emotion_in_tweet_is_directed_at</th>\n",
       "      <th>is_there_an_emotion_directed_at_a_brand_or_product</th>\n",
       "    </tr>\n",
       "  </thead>\n",
       "  <tbody>\n",
       "    <tr>\n",
       "      <th>count</th>\n",
       "      <td>9092</td>\n",
       "      <td>3291</td>\n",
       "      <td>9093</td>\n",
       "    </tr>\n",
       "    <tr>\n",
       "      <th>unique</th>\n",
       "      <td>9065</td>\n",
       "      <td>9</td>\n",
       "      <td>4</td>\n",
       "    </tr>\n",
       "    <tr>\n",
       "      <th>top</th>\n",
       "      <td>RT @mention Marissa Mayer: Google Will Connect...</td>\n",
       "      <td>iPad</td>\n",
       "      <td>No emotion toward brand or product</td>\n",
       "    </tr>\n",
       "    <tr>\n",
       "      <th>freq</th>\n",
       "      <td>5</td>\n",
       "      <td>946</td>\n",
       "      <td>5389</td>\n",
       "    </tr>\n",
       "  </tbody>\n",
       "</table>\n",
       "</div>"
      ],
      "text/plain": [
       "                                               tweet_text  \\\n",
       "count                                                9092   \n",
       "unique                                               9065   \n",
       "top     RT @mention Marissa Mayer: Google Will Connect...   \n",
       "freq                                                    5   \n",
       "\n",
       "       emotion_in_tweet_is_directed_at  \\\n",
       "count                             3291   \n",
       "unique                               9   \n",
       "top                               iPad   \n",
       "freq                               946   \n",
       "\n",
       "       is_there_an_emotion_directed_at_a_brand_or_product  \n",
       "count                                                9093  \n",
       "unique                                                  4  \n",
       "top                    No emotion toward brand or product  \n",
       "freq                                                 5389  "
      ]
     },
     "execution_count": 70,
     "metadata": {},
     "output_type": "execute_result"
    }
   ],
   "source": [
    "df.describe()"
   ]
  },
  {
   "cell_type": "markdown",
   "metadata": {},
   "source": [
    "# Wes"
   ]
  },
  {
   "cell_type": "code",
   "execution_count": 71,
   "metadata": {},
   "outputs": [
    {
     "data": {
      "text/plain": [
       "tweet_text                                               1\n",
       "emotion_in_tweet_is_directed_at                       5802\n",
       "is_there_an_emotion_directed_at_a_brand_or_product       0\n",
       "dtype: int64"
      ]
     },
     "execution_count": 71,
     "metadata": {},
     "output_type": "execute_result"
    }
   ],
   "source": [
    "df.isnull().sum()"
   ]
  },
  {
   "cell_type": "markdown",
   "metadata": {},
   "source": [
    "- Removing one row where tweet_text is not available"
   ]
  },
  {
   "cell_type": "code",
   "execution_count": 72,
   "metadata": {},
   "outputs": [],
   "source": [
    "df.dropna(subset=['tweet_text'], inplace=True)"
   ]
  },
  {
   "cell_type": "code",
   "execution_count": 73,
   "metadata": {},
   "outputs": [
    {
     "data": {
      "text/plain": [
       "tweet_text                                               0\n",
       "emotion_in_tweet_is_directed_at                       5801\n",
       "is_there_an_emotion_directed_at_a_brand_or_product       0\n",
       "dtype: int64"
      ]
     },
     "execution_count": 73,
     "metadata": {},
     "output_type": "execute_result"
    }
   ],
   "source": [
    "df.isnull().sum()"
   ]
  },
  {
   "cell_type": "code",
   "execution_count": 74,
   "metadata": {},
   "outputs": [
    {
     "data": {
      "text/plain": [
       "iPad                               946\n",
       "Apple                              661\n",
       "iPad or iPhone App                 470\n",
       "Google                             430\n",
       "iPhone                             297\n",
       "Other Google product or service    293\n",
       "Android App                         81\n",
       "Android                             78\n",
       "Other Apple product or service      35\n",
       "Name: emotion_in_tweet_is_directed_at, dtype: int64"
      ]
     },
     "execution_count": 74,
     "metadata": {},
     "output_type": "execute_result"
    }
   ],
   "source": [
    "df['emotion_in_tweet_is_directed_at'].value_counts()"
   ]
  },
  {
   "cell_type": "code",
   "execution_count": 75,
   "metadata": {
    "scrolled": true
   },
   "outputs": [
    {
     "data": {
      "text/plain": [
       "No emotion toward brand or product    5388\n",
       "Positive emotion                      2978\n",
       "Negative emotion                       570\n",
       "I can't tell                           156\n",
       "Name: is_there_an_emotion_directed_at_a_brand_or_product, dtype: int64"
      ]
     },
     "execution_count": 75,
     "metadata": {},
     "output_type": "execute_result"
    }
   ],
   "source": [
    "df['is_there_an_emotion_directed_at_a_brand_or_product'].value_counts() "
   ]
  },
  {
   "cell_type": "code",
   "execution_count": 76,
   "metadata": {},
   "outputs": [
    {
     "data": {
      "text/html": [
       "<style  type=\"text/css\" >\n",
       "#T_914be758_92bb_11ee_afce_04ecd81835a7row0_col0,#T_914be758_92bb_11ee_afce_04ecd81835a7row0_col1,#T_914be758_92bb_11ee_afce_04ecd81835a7row0_col2,#T_914be758_92bb_11ee_afce_04ecd81835a7row1_col0,#T_914be758_92bb_11ee_afce_04ecd81835a7row1_col1,#T_914be758_92bb_11ee_afce_04ecd81835a7row1_col2,#T_914be758_92bb_11ee_afce_04ecd81835a7row2_col0,#T_914be758_92bb_11ee_afce_04ecd81835a7row2_col1,#T_914be758_92bb_11ee_afce_04ecd81835a7row2_col2,#T_914be758_92bb_11ee_afce_04ecd81835a7row3_col0,#T_914be758_92bb_11ee_afce_04ecd81835a7row3_col1,#T_914be758_92bb_11ee_afce_04ecd81835a7row3_col2,#T_914be758_92bb_11ee_afce_04ecd81835a7row4_col0,#T_914be758_92bb_11ee_afce_04ecd81835a7row4_col1,#T_914be758_92bb_11ee_afce_04ecd81835a7row4_col2{\n",
       "            text-align:  left;\n",
       "        }</style><table id=\"T_914be758_92bb_11ee_afce_04ecd81835a7\" ><thead>    <tr>        <th class=\"blank level0\" ></th>        <th class=\"col_heading level0 col0\" >tweet_text</th>        <th class=\"col_heading level0 col1\" >emotion_in_tweet_is_directed_at</th>        <th class=\"col_heading level0 col2\" >is_there_an_emotion_directed_at_a_brand_or_product</th>    </tr></thead><tbody>\n",
       "                <tr>\n",
       "                        <th id=\"T_914be758_92bb_11ee_afce_04ecd81835a7level0_row0\" class=\"row_heading level0 row0\" >7169</th>\n",
       "                        <td id=\"T_914be758_92bb_11ee_afce_04ecd81835a7row0_col0\" class=\"data row0 col0\" >Google Close to Launching New Social Network - Circles {link} #google #sxsw</td>\n",
       "                        <td id=\"T_914be758_92bb_11ee_afce_04ecd81835a7row0_col1\" class=\"data row0 col1\" >nan</td>\n",
       "                        <td id=\"T_914be758_92bb_11ee_afce_04ecd81835a7row0_col2\" class=\"data row0 col2\" >No emotion toward brand or product</td>\n",
       "            </tr>\n",
       "            <tr>\n",
       "                        <th id=\"T_914be758_92bb_11ee_afce_04ecd81835a7level0_row1\" class=\"row_heading level0 row1\" >2089</th>\n",
       "                        <td id=\"T_914be758_92bb_11ee_afce_04ecd81835a7row1_col0\" class=\"data row1 col0\" >iPhone charging at #SXSW  {link}</td>\n",
       "                        <td id=\"T_914be758_92bb_11ee_afce_04ecd81835a7row1_col1\" class=\"data row1 col1\" >nan</td>\n",
       "                        <td id=\"T_914be758_92bb_11ee_afce_04ecd81835a7row1_col2\" class=\"data row1 col2\" >No emotion toward brand or product</td>\n",
       "            </tr>\n",
       "            <tr>\n",
       "                        <th id=\"T_914be758_92bb_11ee_afce_04ecd81835a7level0_row2\" class=\"row_heading level0 row2\" >2303</th>\n",
       "                        <td id=\"T_914be758_92bb_11ee_afce_04ecd81835a7row2_col0\" class=\"data row2 col0\" >The walk by Lady Bird Lake was lovely, but Google Maps travel times are not to be trusted. #SXSW</td>\n",
       "                        <td id=\"T_914be758_92bb_11ee_afce_04ecd81835a7row2_col1\" class=\"data row2 col1\" >Other Google product or service</td>\n",
       "                        <td id=\"T_914be758_92bb_11ee_afce_04ecd81835a7row2_col2\" class=\"data row2 col2\" >Negative emotion</td>\n",
       "            </tr>\n",
       "            <tr>\n",
       "                        <th id=\"T_914be758_92bb_11ee_afce_04ecd81835a7level0_row3\" class=\"row_heading level0 row3\" >928</th>\n",
       "                        <td id=\"T_914be758_92bb_11ee_afce_04ecd81835a7row3_col0\" class=\"data row3 col0\" >ÛÏ@mention Not a rumor: Apple doing popup store in downtown Austin for #SXSW &amp; iPad 2 launch {link} Smart move, 1of many #dfcbto</td>\n",
       "                        <td id=\"T_914be758_92bb_11ee_afce_04ecd81835a7row3_col1\" class=\"data row3 col1\" >Apple</td>\n",
       "                        <td id=\"T_914be758_92bb_11ee_afce_04ecd81835a7row3_col2\" class=\"data row3 col2\" >Positive emotion</td>\n",
       "            </tr>\n",
       "            <tr>\n",
       "                        <th id=\"T_914be758_92bb_11ee_afce_04ecd81835a7level0_row4\" class=\"row_heading level0 row4\" >5895</th>\n",
       "                        <td id=\"T_914be758_92bb_11ee_afce_04ecd81835a7row4_col0\" class=\"data row4 col0\" >RT @mention Google to Launch Major New Social Network Called Circles, Possibly Today {link} #sxsw via @mention @mention</td>\n",
       "                        <td id=\"T_914be758_92bb_11ee_afce_04ecd81835a7row4_col1\" class=\"data row4 col1\" >nan</td>\n",
       "                        <td id=\"T_914be758_92bb_11ee_afce_04ecd81835a7row4_col2\" class=\"data row4 col2\" >No emotion toward brand or product</td>\n",
       "            </tr>\n",
       "    </tbody></table>"
      ],
      "text/plain": [
       "<pandas.io.formats.style.Styler at 0x22abe4aad30>"
      ]
     },
     "execution_count": 76,
     "metadata": {},
     "output_type": "execute_result"
    }
   ],
   "source": [
    "sample_tweets = df.sample(5, random_state=42)\n",
    "sample_tweets.style.set_properties(**{'text-align': 'left'})"
   ]
  },
  {
   "cell_type": "markdown",
   "metadata": {},
   "source": [
    "- Labeling target column (is_there_an_emotion_directed_at_a_brand_or_product) 0-2:\n",
    "\n",
    "   -0 = Negative emotion\n",
    "   -1 = Positive emotion\n",
    "   -2 = No emotion AND Can't tell\n",
    "   "
   ]
  },
  {
   "cell_type": "code",
   "execution_count": 77,
   "metadata": {},
   "outputs": [],
   "source": [
    "def custom_encoder(df):\n",
    "    df.replace(to_replace =\"No emotion toward brand or product\", value =2, inplace=True)\n",
    "    df.replace(to_replace =\"Positive emotion\", value =1, inplace=True)\n",
    "    df.replace(to_replace =\"Negative emotion\", value =0, inplace=True)\n",
    "    df.replace(to_replace =\"I can't tell\", value =2, inplace=True)"
   ]
  },
  {
   "cell_type": "code",
   "execution_count": 78,
   "metadata": {},
   "outputs": [],
   "source": [
    "custom_encoder(df['is_there_an_emotion_directed_at_a_brand_or_product'])"
   ]
  },
  {
   "cell_type": "code",
   "execution_count": 79,
   "metadata": {
    "scrolled": true
   },
   "outputs": [
    {
     "data": {
      "text/html": [
       "<div>\n",
       "<style scoped>\n",
       "    .dataframe tbody tr th:only-of-type {\n",
       "        vertical-align: middle;\n",
       "    }\n",
       "\n",
       "    .dataframe tbody tr th {\n",
       "        vertical-align: top;\n",
       "    }\n",
       "\n",
       "    .dataframe thead th {\n",
       "        text-align: right;\n",
       "    }\n",
       "</style>\n",
       "<table border=\"1\" class=\"dataframe\">\n",
       "  <thead>\n",
       "    <tr style=\"text-align: right;\">\n",
       "      <th></th>\n",
       "      <th>tweet_text</th>\n",
       "      <th>emotion_in_tweet_is_directed_at</th>\n",
       "      <th>is_there_an_emotion_directed_at_a_brand_or_product</th>\n",
       "    </tr>\n",
       "  </thead>\n",
       "  <tbody>\n",
       "    <tr>\n",
       "      <th>0</th>\n",
       "      <td>.@wesley83 I have a 3G iPhone. After 3 hrs twe...</td>\n",
       "      <td>iPhone</td>\n",
       "      <td>0</td>\n",
       "    </tr>\n",
       "    <tr>\n",
       "      <th>1</th>\n",
       "      <td>@jessedee Know about @fludapp ? Awesome iPad/i...</td>\n",
       "      <td>iPad or iPhone App</td>\n",
       "      <td>1</td>\n",
       "    </tr>\n",
       "    <tr>\n",
       "      <th>2</th>\n",
       "      <td>@swonderlin Can not wait for #iPad 2 also. The...</td>\n",
       "      <td>iPad</td>\n",
       "      <td>1</td>\n",
       "    </tr>\n",
       "    <tr>\n",
       "      <th>3</th>\n",
       "      <td>@sxsw I hope this year's festival isn't as cra...</td>\n",
       "      <td>iPad or iPhone App</td>\n",
       "      <td>0</td>\n",
       "    </tr>\n",
       "    <tr>\n",
       "      <th>4</th>\n",
       "      <td>@sxtxstate great stuff on Fri #SXSW: Marissa M...</td>\n",
       "      <td>Google</td>\n",
       "      <td>1</td>\n",
       "    </tr>\n",
       "  </tbody>\n",
       "</table>\n",
       "</div>"
      ],
      "text/plain": [
       "                                          tweet_text  \\\n",
       "0  .@wesley83 I have a 3G iPhone. After 3 hrs twe...   \n",
       "1  @jessedee Know about @fludapp ? Awesome iPad/i...   \n",
       "2  @swonderlin Can not wait for #iPad 2 also. The...   \n",
       "3  @sxsw I hope this year's festival isn't as cra...   \n",
       "4  @sxtxstate great stuff on Fri #SXSW: Marissa M...   \n",
       "\n",
       "  emotion_in_tweet_is_directed_at  \\\n",
       "0                          iPhone   \n",
       "1              iPad or iPhone App   \n",
       "2                            iPad   \n",
       "3              iPad or iPhone App   \n",
       "4                          Google   \n",
       "\n",
       "   is_there_an_emotion_directed_at_a_brand_or_product  \n",
       "0                                                  0   \n",
       "1                                                  1   \n",
       "2                                                  1   \n",
       "3                                                  0   \n",
       "4                                                  1   "
      ]
     },
     "execution_count": 79,
     "metadata": {},
     "output_type": "execute_result"
    }
   ],
   "source": [
    "df.head()"
   ]
  },
  {
   "cell_type": "markdown",
   "metadata": {},
   "source": [
    " - Dropping emotion_in_tweet_is_directed_at for now just to analyze tweets and overall sentiment irregardless of brand."
   ]
  },
  {
   "cell_type": "code",
   "execution_count": 80,
   "metadata": {
    "scrolled": true
   },
   "outputs": [],
   "source": [
    "df.drop(columns=['emotion_in_tweet_is_directed_at'], inplace=True)"
   ]
  },
  {
   "cell_type": "code",
   "execution_count": 81,
   "metadata": {
    "scrolled": true
   },
   "outputs": [
    {
     "data": {
      "text/html": [
       "<div>\n",
       "<style scoped>\n",
       "    .dataframe tbody tr th:only-of-type {\n",
       "        vertical-align: middle;\n",
       "    }\n",
       "\n",
       "    .dataframe tbody tr th {\n",
       "        vertical-align: top;\n",
       "    }\n",
       "\n",
       "    .dataframe thead th {\n",
       "        text-align: right;\n",
       "    }\n",
       "</style>\n",
       "<table border=\"1\" class=\"dataframe\">\n",
       "  <thead>\n",
       "    <tr style=\"text-align: right;\">\n",
       "      <th></th>\n",
       "      <th>tweet_text</th>\n",
       "      <th>is_there_an_emotion_directed_at_a_brand_or_product</th>\n",
       "    </tr>\n",
       "  </thead>\n",
       "  <tbody>\n",
       "    <tr>\n",
       "      <th>0</th>\n",
       "      <td>.@wesley83 I have a 3G iPhone. After 3 hrs twe...</td>\n",
       "      <td>0</td>\n",
       "    </tr>\n",
       "    <tr>\n",
       "      <th>1</th>\n",
       "      <td>@jessedee Know about @fludapp ? Awesome iPad/i...</td>\n",
       "      <td>1</td>\n",
       "    </tr>\n",
       "    <tr>\n",
       "      <th>2</th>\n",
       "      <td>@swonderlin Can not wait for #iPad 2 also. The...</td>\n",
       "      <td>1</td>\n",
       "    </tr>\n",
       "    <tr>\n",
       "      <th>3</th>\n",
       "      <td>@sxsw I hope this year's festival isn't as cra...</td>\n",
       "      <td>0</td>\n",
       "    </tr>\n",
       "    <tr>\n",
       "      <th>4</th>\n",
       "      <td>@sxtxstate great stuff on Fri #SXSW: Marissa M...</td>\n",
       "      <td>1</td>\n",
       "    </tr>\n",
       "  </tbody>\n",
       "</table>\n",
       "</div>"
      ],
      "text/plain": [
       "                                          tweet_text  \\\n",
       "0  .@wesley83 I have a 3G iPhone. After 3 hrs twe...   \n",
       "1  @jessedee Know about @fludapp ? Awesome iPad/i...   \n",
       "2  @swonderlin Can not wait for #iPad 2 also. The...   \n",
       "3  @sxsw I hope this year's festival isn't as cra...   \n",
       "4  @sxtxstate great stuff on Fri #SXSW: Marissa M...   \n",
       "\n",
       "   is_there_an_emotion_directed_at_a_brand_or_product  \n",
       "0                                                  0   \n",
       "1                                                  1   \n",
       "2                                                  1   \n",
       "3                                                  0   \n",
       "4                                                  1   "
      ]
     },
     "execution_count": 81,
     "metadata": {},
     "output_type": "execute_result"
    }
   ],
   "source": [
    "df.head()"
   ]
  },
  {
   "cell_type": "code",
   "execution_count": 82,
   "metadata": {
    "scrolled": true
   },
   "outputs": [
    {
     "name": "stderr",
     "output_type": "stream",
     "text": [
      "C:\\Users\\wjsmo\\anaconda3\\envs\\learn-env\\lib\\site-packages\\seaborn\\_decorators.py:36: FutureWarning: Pass the following variable as a keyword arg: x. From version 0.12, the only valid positional argument will be `data`, and passing other arguments without an explicit keyword will result in an error or misinterpretation.\n",
      "  warnings.warn(\n"
     ]
    },
    {
     "data": {
      "image/png": "[encoded data removed]",
      "text/plain": [
       "<Figure size 432x288 with 1 Axes>"
      ]
     },
     "metadata": {
      "needs_background": "light"
     },
     "output_type": "display_data"
    }
   ],
   "source": [
    "sns.countplot(df.is_there_an_emotion_directed_at_a_brand_or_product);"
   ]
  },
  {
   "cell_type": "markdown",
   "metadata": {},
   "source": [
    "# Train test split"
   ]
  },
  {
   "cell_type": "code",
   "execution_count": 86,
   "metadata": {},
   "outputs": [],
   "source": [
    "from sklearn.model_selection import train_test_split\n",
    "\n",
    "X = df.drop(columns=['is_there_an_emotion_directed_at_a_brand_or_product'])\n",
    "y = df['is_there_an_emotion_directed_at_a_brand_or_product']\n",
    "\n",
    "X_train, X_test, y_train, y_test = train_test_split(X, y, random_state=42)"
   ]
  },
  {
   "cell_type": "code",
   "execution_count": 88,
   "metadata": {
    "scrolled": true
   },
   "outputs": [
    {
     "data": {
      "text/html": [
       "<style  type=\"text/css\" >\n",
       "#T_a0b3c68a_92bc_11ee_bc41_04ecd81835a7row0_col0,#T_a0b3c68a_92bc_11ee_bc41_04ecd81835a7row1_col0,#T_a0b3c68a_92bc_11ee_bc41_04ecd81835a7row2_col0,#T_a0b3c68a_92bc_11ee_bc41_04ecd81835a7row3_col0,#T_a0b3c68a_92bc_11ee_bc41_04ecd81835a7row4_col0{\n",
       "            text-align:  left;\n",
       "        }</style><table id=\"T_a0b3c68a_92bc_11ee_bc41_04ecd81835a7\" ><thead>    <tr>        <th class=\"blank level0\" ></th>        <th class=\"col_heading level0 col0\" >tweet_text</th>    </tr></thead><tbody>\n",
       "                <tr>\n",
       "                        <th id=\"T_a0b3c68a_92bc_11ee_bc41_04ecd81835a7level0_row0\" class=\"row_heading level0 row0\" >899</th>\n",
       "                        <td id=\"T_a0b3c68a_92bc_11ee_bc41_04ecd81835a7row0_col0\" class=\"data row0 col0\" >Brilliant move by Apple: before it even begins, Apple wins #SXSW {link}</td>\n",
       "            </tr>\n",
       "            <tr>\n",
       "                        <th id=\"T_a0b3c68a_92bc_11ee_bc41_04ecd81835a7level0_row1\" class=\"row_heading level0 row1\" >7432</th>\n",
       "                        <td id=\"T_a0b3c68a_92bc_11ee_bc41_04ecd81835a7row1_col0\" class=\"data row1 col0\" >{link} Report: Apple to Open Pop-Up Store at #SXSW</td>\n",
       "            </tr>\n",
       "            <tr>\n",
       "                        <th id=\"T_a0b3c68a_92bc_11ee_bc41_04ecd81835a7level0_row2\" class=\"row_heading level0 row2\" >8515</th>\n",
       "                        <td id=\"T_a0b3c68a_92bc_11ee_bc41_04ecd81835a7row2_col0\" class=\"data row2 col0\" >omg ÛÏ@mention It's not a rumor: Apple is opening up a temporary store in downtown Austin for #SXSW and the iPad 2 launch {link}</td>\n",
       "            </tr>\n",
       "            <tr>\n",
       "                        <th id=\"T_a0b3c68a_92bc_11ee_bc41_04ecd81835a7level0_row3\" class=\"row_heading level0 row3\" >2951</th>\n",
       "                        <td id=\"T_a0b3c68a_92bc_11ee_bc41_04ecd81835a7row3_col0\" class=\"data row3 col0\" >#sxsw: @mention intrvw @mention &quot;Govt is not a vending machine [put in $, get svcs], it's a platform; iPhone was a teaching moment&quot;</td>\n",
       "            </tr>\n",
       "            <tr>\n",
       "                        <th id=\"T_a0b3c68a_92bc_11ee_bc41_04ecd81835a7level0_row4\" class=\"row_heading level0 row4\" >8963</th>\n",
       "                        <td id=\"T_a0b3c68a_92bc_11ee_bc41_04ecd81835a7row4_col0\" class=\"data row4 col0\" >Group #Texting War Heats Up: Fast Society Launches New Android App, Updates iPhone App: #SXSWÛ_ {link}</td>\n",
       "            </tr>\n",
       "    </tbody></table>"
      ],
      "text/plain": [
       "<pandas.io.formats.style.Styler at 0x22abe6a7be0>"
      ]
     },
     "execution_count": 88,
     "metadata": {},
     "output_type": "execute_result"
    }
   ],
   "source": [
    "train_sample = X_train.sample(5, random_state=42)\n",
    "train_sample.style.set_properties(**{'text-align': 'left'})"
   ]
  },
  {
   "cell_type": "markdown",
   "metadata": {},
   "source": [
    "# Preprocessing"
   ]
  },
  {
   "cell_type": "code",
   "execution_count": null,
   "metadata": {},
   "outputs": [],
   "source": [
    "regular e"
   ]
  },
  {
   "cell_type": "markdown",
   "metadata": {},
   "source": [
    "# Namsoo"
   ]
  },
  {
   "cell_type": "markdown",
   "metadata": {},
   "source": [
    "# Harshitha"
   ]
  },
  {
   "cell_type": "markdown",
   "metadata": {},
   "source": [
    "## EDA"
   ]
  },
  {
   "cell_type": "code",
   "execution_count": null,
   "metadata": {},
   "outputs": [],
   "source": []
  }
 ],
 "metadata": {
  "kernelspec": {
   "display_name": "Python (learn-env)",
   "language": "python",
   "name": "learn-env"
  },
  "language_info": {
   "codemirror_mode": {
    "name": "ipython",
    "version": 3
   },
   "file_extension": ".py",
   "mimetype": "text/x-python",
   "name": "python",
   "nbconvert_exporter": "python",
   "pygments_lexer": "ipython3",
   "version": "3.8.5"
  }
 },
 "nbformat": 4,
 "nbformat_minor": 4
}
