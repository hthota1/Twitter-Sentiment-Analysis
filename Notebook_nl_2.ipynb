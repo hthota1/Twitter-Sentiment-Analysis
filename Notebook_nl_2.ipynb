{
 "cells": [
  {
   "cell_type": "markdown",
   "metadata": {},
   "source": [
    "- Summary\n",
    "- Business Understanding\\\n",
    "   Apple looking to understand positive and negative sentiment around their products and how to improve. Focusing on neutral \n",
    "   and negative sentiment tweets as demographics to focus on.\n",
    "- Data Understanding\n"
   ]
  },
  {
   "cell_type": "code",
   "execution_count": 83,
   "metadata": {},
   "outputs": [],
   "source": [
    "import pandas as pd\n",
    "import matplotlib.pyplot as plt\n",
    "import seaborn as sns\n",
    "\n",
    "from sklearn.feature_extraction.text import CountVectorizer\n",
    "from sklearn.decomposition import LatentDirichletAllocation"
   ]
  },
  {
   "cell_type": "code",
   "execution_count": 2,
   "metadata": {},
   "outputs": [],
   "source": [
    "# !ls"
   ]
  },
  {
   "cell_type": "code",
   "execution_count": 3,
   "metadata": {},
   "outputs": [],
   "source": [
    "df = pd.read_csv(\"data/tweet_product_company.csv\", encoding = 'latin-1')"
   ]
  },
  {
   "cell_type": "code",
   "execution_count": 4,
   "metadata": {},
   "outputs": [],
   "source": [
    "df['tweet_text_lower'] = df['tweet_text'].str.lower()"
   ]
  },
  {
   "cell_type": "markdown",
   "metadata": {},
   "source": [
    "Checking if any Apple terms are in tweet_text to work with all apple related tweets since there are many missing values in\n",
    "'emotion_in_tweet_is_directed_at'"
   ]
  },
  {
   "cell_type": "code",
   "execution_count": 5,
   "metadata": {},
   "outputs": [],
   "source": [
    "apple_related = 'ipad|apple|iphone|itunes'"
   ]
  },
  {
   "cell_type": "code",
   "execution_count": 6,
   "metadata": {},
   "outputs": [
    {
     "data": {
      "text/plain": [
       "5592"
      ]
     },
     "execution_count": 6,
     "metadata": {},
     "output_type": "execute_result"
    }
   ],
   "source": [
    "df['tweet_text_lower'].str.contains(apple_related).sum()"
   ]
  },
  {
   "cell_type": "code",
   "execution_count": 7,
   "metadata": {},
   "outputs": [
    {
     "data": {
      "text/plain": [
       "(9093, 4)"
      ]
     },
     "execution_count": 7,
     "metadata": {},
     "output_type": "execute_result"
    }
   ],
   "source": [
    "df.shape"
   ]
  },
  {
   "cell_type": "markdown",
   "metadata": {},
   "source": [
    "Dropping the one row with missing tweet_text"
   ]
  },
  {
   "cell_type": "code",
   "execution_count": 8,
   "metadata": {},
   "outputs": [],
   "source": [
    "df.dropna(subset=['tweet_text'], inplace=True)"
   ]
  },
  {
   "cell_type": "code",
   "execution_count": 9,
   "metadata": {},
   "outputs": [],
   "source": [
    "apple_df = df[df['tweet_text_lower'].str.contains(apple_related)].copy()"
   ]
  },
  {
   "cell_type": "code",
   "execution_count": 10,
   "metadata": {},
   "outputs": [
    {
     "name": "stdout",
     "output_type": "stream",
     "text": [
      "<class 'pandas.core.frame.DataFrame'>\n",
      "Index: 5592 entries, 0 to 9091\n",
      "Data columns (total 4 columns):\n",
      " #   Column                                              Non-Null Count  Dtype \n",
      "---  ------                                              --------------  ----- \n",
      " 0   tweet_text                                          5592 non-null   object\n",
      " 1   emotion_in_tweet_is_directed_at                     2417 non-null   object\n",
      " 2   is_there_an_emotion_directed_at_a_brand_or_product  5592 non-null   object\n",
      " 3   tweet_text_lower                                    5592 non-null   object\n",
      "dtypes: object(4)\n",
      "memory usage: 218.4+ KB\n"
     ]
    }
   ],
   "source": [
    "apple_df.info()"
   ]
  },
  {
   "cell_type": "markdown",
   "metadata": {},
   "source": [
    "Dropping Columns 'emotion_in_tweet_is_direct_at' because we have focused on all Apple related tweets already and will analyze sentiment from there."
   ]
  },
  {
   "cell_type": "code",
   "execution_count": 11,
   "metadata": {},
   "outputs": [],
   "source": [
    "# apple_df.drop(columns=['emotion_in_tweet_is_directed_at', 'tweet_text_lower'], axis=1, inplace=True)"
   ]
  },
  {
   "cell_type": "code",
   "execution_count": 12,
   "metadata": {
    "scrolled": true
   },
   "outputs": [
    {
     "name": "stdout",
     "output_type": "stream",
     "text": [
      "<class 'pandas.core.frame.DataFrame'>\n",
      "Index: 5592 entries, 0 to 9091\n",
      "Data columns (total 4 columns):\n",
      " #   Column                                              Non-Null Count  Dtype \n",
      "---  ------                                              --------------  ----- \n",
      " 0   tweet_text                                          5592 non-null   object\n",
      " 1   emotion_in_tweet_is_directed_at                     2417 non-null   object\n",
      " 2   is_there_an_emotion_directed_at_a_brand_or_product  5592 non-null   object\n",
      " 3   tweet_text_lower                                    5592 non-null   object\n",
      "dtypes: object(4)\n",
      "memory usage: 218.4+ KB\n"
     ]
    }
   ],
   "source": [
    "apple_df.info()"
   ]
  },
  {
   "cell_type": "code",
   "execution_count": 13,
   "metadata": {},
   "outputs": [
    {
     "data": {
      "text/plain": [
       "is_there_an_emotion_directed_at_a_brand_or_product\n",
       "No emotion toward brand or product    2929\n",
       "Positive emotion                      2144\n",
       "Negative emotion                       420\n",
       "I can't tell                            99\n",
       "Name: count, dtype: int64"
      ]
     },
     "execution_count": 13,
     "metadata": {},
     "output_type": "execute_result"
    }
   ],
   "source": [
    "apple_df['is_there_an_emotion_directed_at_a_brand_or_product'].value_counts()"
   ]
  },
  {
   "cell_type": "code",
   "execution_count": 14,
   "metadata": {},
   "outputs": [],
   "source": [
    "def custom_encoder(apple_df):\n",
    "    apple_df.replace(to_replace =\"No emotion toward brand or product\", value =2, inplace=True)\n",
    "    apple_df.replace(to_replace =\"Positive emotion\", value =1, inplace=True)\n",
    "    apple_df.replace(to_replace =\"Negative emotion\", value =0, inplace=True)\n",
    "    apple_df.replace(to_replace =\"I can't tell\", value =2, inplace=True)"
   ]
  },
  {
   "cell_type": "code",
   "execution_count": 15,
   "metadata": {},
   "outputs": [],
   "source": [
    "custom_encoder(apple_df['is_there_an_emotion_directed_at_a_brand_or_product'])"
   ]
  },
  {
   "cell_type": "code",
   "execution_count": 16,
   "metadata": {},
   "outputs": [
    {
     "data": {
      "text/html": [
       "<div>\n",
       "<style scoped>\n",
       "    .dataframe tbody tr th:only-of-type {\n",
       "        vertical-align: middle;\n",
       "    }\n",
       "\n",
       "    .dataframe tbody tr th {\n",
       "        vertical-align: top;\n",
       "    }\n",
       "\n",
       "    .dataframe thead th {\n",
       "        text-align: right;\n",
       "    }\n",
       "</style>\n",
       "<table border=\"1\" class=\"dataframe\">\n",
       "  <thead>\n",
       "    <tr style=\"text-align: right;\">\n",
       "      <th></th>\n",
       "      <th>tweet_text</th>\n",
       "      <th>emotion_in_tweet_is_directed_at</th>\n",
       "      <th>is_there_an_emotion_directed_at_a_brand_or_product</th>\n",
       "      <th>tweet_text_lower</th>\n",
       "    </tr>\n",
       "  </thead>\n",
       "  <tbody>\n",
       "    <tr>\n",
       "      <th>0</th>\n",
       "      <td>.@wesley83 I have a 3G iPhone. After 3 hrs twe...</td>\n",
       "      <td>iPhone</td>\n",
       "      <td>0</td>\n",
       "      <td>.@wesley83 i have a 3g iphone. after 3 hrs twe...</td>\n",
       "    </tr>\n",
       "    <tr>\n",
       "      <th>1</th>\n",
       "      <td>@jessedee Know about @fludapp ? Awesome iPad/i...</td>\n",
       "      <td>iPad or iPhone App</td>\n",
       "      <td>1</td>\n",
       "      <td>@jessedee know about @fludapp ? awesome ipad/i...</td>\n",
       "    </tr>\n",
       "    <tr>\n",
       "      <th>2</th>\n",
       "      <td>@swonderlin Can not wait for #iPad 2 also. The...</td>\n",
       "      <td>iPad</td>\n",
       "      <td>1</td>\n",
       "      <td>@swonderlin can not wait for #ipad 2 also. the...</td>\n",
       "    </tr>\n",
       "    <tr>\n",
       "      <th>3</th>\n",
       "      <td>@sxsw I hope this year's festival isn't as cra...</td>\n",
       "      <td>iPad or iPhone App</td>\n",
       "      <td>0</td>\n",
       "      <td>@sxsw i hope this year's festival isn't as cra...</td>\n",
       "    </tr>\n",
       "    <tr>\n",
       "      <th>5</th>\n",
       "      <td>@teachntech00 New iPad Apps For #SpeechTherapy...</td>\n",
       "      <td>NaN</td>\n",
       "      <td>2</td>\n",
       "      <td>@teachntech00 new ipad apps for #speechtherapy...</td>\n",
       "    </tr>\n",
       "  </tbody>\n",
       "</table>\n",
       "</div>"
      ],
      "text/plain": [
       "                                          tweet_text  \\\n",
       "0  .@wesley83 I have a 3G iPhone. After 3 hrs twe...   \n",
       "1  @jessedee Know about @fludapp ? Awesome iPad/i...   \n",
       "2  @swonderlin Can not wait for #iPad 2 also. The...   \n",
       "3  @sxsw I hope this year's festival isn't as cra...   \n",
       "5  @teachntech00 New iPad Apps For #SpeechTherapy...   \n",
       "\n",
       "  emotion_in_tweet_is_directed_at  \\\n",
       "0                          iPhone   \n",
       "1              iPad or iPhone App   \n",
       "2                            iPad   \n",
       "3              iPad or iPhone App   \n",
       "5                             NaN   \n",
       "\n",
       "   is_there_an_emotion_directed_at_a_brand_or_product  \\\n",
       "0                                                  0    \n",
       "1                                                  1    \n",
       "2                                                  1    \n",
       "3                                                  0    \n",
       "5                                                  2    \n",
       "\n",
       "                                    tweet_text_lower  \n",
       "0  .@wesley83 i have a 3g iphone. after 3 hrs twe...  \n",
       "1  @jessedee know about @fludapp ? awesome ipad/i...  \n",
       "2  @swonderlin can not wait for #ipad 2 also. the...  \n",
       "3  @sxsw i hope this year's festival isn't as cra...  \n",
       "5  @teachntech00 new ipad apps for #speechtherapy...  "
      ]
     },
     "execution_count": 16,
     "metadata": {},
     "output_type": "execute_result"
    }
   ],
   "source": [
    "apple_df.head()"
   ]
  },
  {
   "cell_type": "code",
   "execution_count": 17,
   "metadata": {},
   "outputs": [],
   "source": [
    "apple_df.rename(columns={\"is_there_an_emotion_directed_at_a_brand_or_product\": \"emotion\"}, inplace=True)"
   ]
  },
  {
   "cell_type": "code",
   "execution_count": 18,
   "metadata": {},
   "outputs": [
    {
     "data": {
      "text/html": [
       "<div>\n",
       "<style scoped>\n",
       "    .dataframe tbody tr th:only-of-type {\n",
       "        vertical-align: middle;\n",
       "    }\n",
       "\n",
       "    .dataframe tbody tr th {\n",
       "        vertical-align: top;\n",
       "    }\n",
       "\n",
       "    .dataframe thead th {\n",
       "        text-align: right;\n",
       "    }\n",
       "</style>\n",
       "<table border=\"1\" class=\"dataframe\">\n",
       "  <thead>\n",
       "    <tr style=\"text-align: right;\">\n",
       "      <th></th>\n",
       "      <th>tweet_text</th>\n",
       "      <th>emotion_in_tweet_is_directed_at</th>\n",
       "      <th>emotion</th>\n",
       "      <th>tweet_text_lower</th>\n",
       "    </tr>\n",
       "  </thead>\n",
       "  <tbody>\n",
       "    <tr>\n",
       "      <th>0</th>\n",
       "      <td>.@wesley83 I have a 3G iPhone. After 3 hrs twe...</td>\n",
       "      <td>iPhone</td>\n",
       "      <td>0</td>\n",
       "      <td>.@wesley83 i have a 3g iphone. after 3 hrs twe...</td>\n",
       "    </tr>\n",
       "    <tr>\n",
       "      <th>1</th>\n",
       "      <td>@jessedee Know about @fludapp ? Awesome iPad/i...</td>\n",
       "      <td>iPad or iPhone App</td>\n",
       "      <td>1</td>\n",
       "      <td>@jessedee know about @fludapp ? awesome ipad/i...</td>\n",
       "    </tr>\n",
       "    <tr>\n",
       "      <th>2</th>\n",
       "      <td>@swonderlin Can not wait for #iPad 2 also. The...</td>\n",
       "      <td>iPad</td>\n",
       "      <td>1</td>\n",
       "      <td>@swonderlin can not wait for #ipad 2 also. the...</td>\n",
       "    </tr>\n",
       "    <tr>\n",
       "      <th>3</th>\n",
       "      <td>@sxsw I hope this year's festival isn't as cra...</td>\n",
       "      <td>iPad or iPhone App</td>\n",
       "      <td>0</td>\n",
       "      <td>@sxsw i hope this year's festival isn't as cra...</td>\n",
       "    </tr>\n",
       "    <tr>\n",
       "      <th>5</th>\n",
       "      <td>@teachntech00 New iPad Apps For #SpeechTherapy...</td>\n",
       "      <td>NaN</td>\n",
       "      <td>2</td>\n",
       "      <td>@teachntech00 new ipad apps for #speechtherapy...</td>\n",
       "    </tr>\n",
       "  </tbody>\n",
       "</table>\n",
       "</div>"
      ],
      "text/plain": [
       "                                          tweet_text  \\\n",
       "0  .@wesley83 I have a 3G iPhone. After 3 hrs twe...   \n",
       "1  @jessedee Know about @fludapp ? Awesome iPad/i...   \n",
       "2  @swonderlin Can not wait for #iPad 2 also. The...   \n",
       "3  @sxsw I hope this year's festival isn't as cra...   \n",
       "5  @teachntech00 New iPad Apps For #SpeechTherapy...   \n",
       "\n",
       "  emotion_in_tweet_is_directed_at  emotion  \\\n",
       "0                          iPhone        0   \n",
       "1              iPad or iPhone App        1   \n",
       "2                            iPad        1   \n",
       "3              iPad or iPhone App        0   \n",
       "5                             NaN        2   \n",
       "\n",
       "                                    tweet_text_lower  \n",
       "0  .@wesley83 i have a 3g iphone. after 3 hrs twe...  \n",
       "1  @jessedee know about @fludapp ? awesome ipad/i...  \n",
       "2  @swonderlin can not wait for #ipad 2 also. the...  \n",
       "3  @sxsw i hope this year's festival isn't as cra...  \n",
       "5  @teachntech00 new ipad apps for #speechtherapy...  "
      ]
     },
     "execution_count": 18,
     "metadata": {},
     "output_type": "execute_result"
    }
   ],
   "source": [
    "apple_df.head()"
   ]
  },
  {
   "cell_type": "code",
   "execution_count": 19,
   "metadata": {},
   "outputs": [
    {
     "data": {
      "text/plain": [
       "5"
      ]
     },
     "execution_count": 19,
     "metadata": {},
     "output_type": "execute_result"
    }
   ],
   "source": [
    "apple_df.duplicated().sum()"
   ]
  },
  {
   "cell_type": "code",
   "execution_count": 20,
   "metadata": {},
   "outputs": [],
   "source": [
    "apple_df.drop_duplicates(inplace=True)"
   ]
  },
  {
   "cell_type": "code",
   "execution_count": 21,
   "metadata": {
    "scrolled": true
   },
   "outputs": [
    {
     "name": "stdout",
     "output_type": "stream",
     "text": [
      "<class 'pandas.core.frame.DataFrame'>\n",
      "Index: 5587 entries, 0 to 9091\n",
      "Data columns (total 4 columns):\n",
      " #   Column                           Non-Null Count  Dtype \n",
      "---  ------                           --------------  ----- \n",
      " 0   tweet_text                       5587 non-null   object\n",
      " 1   emotion_in_tweet_is_directed_at  2412 non-null   object\n",
      " 2   emotion                          5587 non-null   int64 \n",
      " 3   tweet_text_lower                 5587 non-null   object\n",
      "dtypes: int64(1), object(3)\n",
      "memory usage: 218.2+ KB\n"
     ]
    }
   ],
   "source": [
    "apple_df.info()"
   ]
  },
  {
   "cell_type": "markdown",
   "metadata": {},
   "source": [
    "# Train Test Split"
   ]
  },
  {
   "cell_type": "code",
   "execution_count": 22,
   "metadata": {},
   "outputs": [],
   "source": [
    "from sklearn.model_selection import train_test_split\n",
    "\n",
    "X = apple_df.drop(columns=['emotion'], axis=1)\n",
    "y = apple_df['emotion']\n",
    "\n",
    "X_train, X_test, y_train, y_test = train_test_split(X, y, random_state=42)"
   ]
  },
  {
   "cell_type": "code",
   "execution_count": 23,
   "metadata": {},
   "outputs": [
    {
     "data": {
      "text/html": [
       "<style type=\"text/css\">\n",
       "#T_0f6c7_row0_col0, #T_0f6c7_row0_col1, #T_0f6c7_row0_col2, #T_0f6c7_row1_col0, #T_0f6c7_row1_col1, #T_0f6c7_row1_col2, #T_0f6c7_row2_col0, #T_0f6c7_row2_col1, #T_0f6c7_row2_col2, #T_0f6c7_row3_col0, #T_0f6c7_row3_col1, #T_0f6c7_row3_col2, #T_0f6c7_row4_col0, #T_0f6c7_row4_col1, #T_0f6c7_row4_col2 {\n",
       "  text-align: left;\n",
       "}\n",
       "</style>\n",
       "<table id=\"T_0f6c7\">\n",
       "  <thead>\n",
       "    <tr>\n",
       "      <th class=\"blank level0\" >&nbsp;</th>\n",
       "      <th id=\"T_0f6c7_level0_col0\" class=\"col_heading level0 col0\" >tweet_text</th>\n",
       "      <th id=\"T_0f6c7_level0_col1\" class=\"col_heading level0 col1\" >emotion_in_tweet_is_directed_at</th>\n",
       "      <th id=\"T_0f6c7_level0_col2\" class=\"col_heading level0 col2\" >tweet_text_lower</th>\n",
       "    </tr>\n",
       "  </thead>\n",
       "  <tbody>\n",
       "    <tr>\n",
       "      <th id=\"T_0f6c7_level0_row0\" class=\"row_heading level0 row0\" >7403</th>\n",
       "      <td id=\"T_0f6c7_row0_col0\" class=\"data row0 col0\" >#SXSW -Apple Pop-Up Store being set up right now on 6th St.  My fellow truck driver is delivering the furniture NOW.</td>\n",
       "      <td id=\"T_0f6c7_row0_col1\" class=\"data row0 col1\" >nan</td>\n",
       "      <td id=\"T_0f6c7_row0_col2\" class=\"data row0 col2\" >#sxsw -apple pop-up store being set up right now on 6th st.  my fellow truck driver is delivering the furniture now.</td>\n",
       "    </tr>\n",
       "    <tr>\n",
       "      <th id=\"T_0f6c7_level0_row1\" class=\"row_heading level0 row1\" >5609</th>\n",
       "      <td id=\"T_0f6c7_row1_col0\" class=\"data row1 col0\" >RT @mention Check out the #dokobots game from @mention for iPhone and Android.  Seems pretty cool. #geogames #SXSW #tmsxsw</td>\n",
       "      <td id=\"T_0f6c7_row1_col1\" class=\"data row1 col1\" >iPad or iPhone App</td>\n",
       "      <td id=\"T_0f6c7_row1_col2\" class=\"data row1 col2\" >rt @mention check out the #dokobots game from @mention for iphone and android.  seems pretty cool. #geogames #sxsw #tmsxsw</td>\n",
       "    </tr>\n",
       "    <tr>\n",
       "      <th id=\"T_0f6c7_level0_row2\" class=\"row_heading level0 row2\" >8988</th>\n",
       "      <td id=\"T_0f6c7_row2_col0\" class=\"data row2 col0\" >It's crazy here at #Apple's temporary #Austin store. Post coming up with pics. #SXSW</td>\n",
       "      <td id=\"T_0f6c7_row2_col1\" class=\"data row2 col1\" >nan</td>\n",
       "      <td id=\"T_0f6c7_row2_col2\" class=\"data row2 col2\" >it's crazy here at #apple's temporary #austin store. post coming up with pics. #sxsw</td>\n",
       "    </tr>\n",
       "    <tr>\n",
       "      <th id=\"T_0f6c7_level0_row3\" class=\"row_heading level0 row3\" >2394</th>\n",
       "      <td id=\"T_0f6c7_row3_col0\" class=\"data row3 col0\" >At #SXSW conf and EVERYONE has a Mac or Ipad (including me). What happened to the PC? Is it becoming obsolete?</td>\n",
       "      <td id=\"T_0f6c7_row3_col1\" class=\"data row3 col1\" >iPad</td>\n",
       "      <td id=\"T_0f6c7_row3_col2\" class=\"data row3 col2\" >at #sxsw conf and everyone has a mac or ipad (including me). what happened to the pc? is it becoming obsolete?</td>\n",
       "    </tr>\n",
       "    <tr>\n",
       "      <th id=\"T_0f6c7_level0_row4\" class=\"row_heading level0 row4\" >2461</th>\n",
       "      <td id=\"T_0f6c7_row4_col0\" class=\"data row4 col0\" >free #iPad Lounge open daily for #SXSW serving art made on iPads, and local art, free coffee, @mention Austin Details {link} #photo</td>\n",
       "      <td id=\"T_0f6c7_row4_col1\" class=\"data row4 col1\" >nan</td>\n",
       "      <td id=\"T_0f6c7_row4_col2\" class=\"data row4 col2\" >free #ipad lounge open daily for #sxsw serving art made on ipads, and local art, free coffee, @mention austin details {link} #photo</td>\n",
       "    </tr>\n",
       "  </tbody>\n",
       "</table>\n"
      ],
      "text/plain": [
       "<pandas.io.formats.style.Styler at 0x14fc81b80>"
      ]
     },
     "execution_count": 23,
     "metadata": {},
     "output_type": "execute_result"
    }
   ],
   "source": [
    "train_sample = X_train.sample(5, random_state=42)\n",
    "train_sample.style.set_properties(**{'text-align': 'left'})"
   ]
  },
  {
   "cell_type": "markdown",
   "metadata": {
    "jp-MarkdownHeadingCollapsed": true
   },
   "source": [
    "# Wes"
   ]
  },
  {
   "cell_type": "code",
   "execution_count": 24,
   "metadata": {},
   "outputs": [
    {
     "data": {
      "text/plain": [
       "tweet_text                                               0\n",
       "emotion_in_tweet_is_directed_at                       5801\n",
       "is_there_an_emotion_directed_at_a_brand_or_product       0\n",
       "tweet_text_lower                                         0\n",
       "dtype: int64"
      ]
     },
     "execution_count": 24,
     "metadata": {},
     "output_type": "execute_result"
    }
   ],
   "source": [
    "df.isnull().sum()"
   ]
  },
  {
   "cell_type": "markdown",
   "metadata": {},
   "source": [
    "- Removing one row where tweet_text is not available"
   ]
  },
  {
   "cell_type": "code",
   "execution_count": 25,
   "metadata": {},
   "outputs": [],
   "source": [
    "df.dropna(subset=['tweet_text'], inplace=True)"
   ]
  },
  {
   "cell_type": "code",
   "execution_count": 26,
   "metadata": {},
   "outputs": [
    {
     "data": {
      "text/plain": [
       "tweet_text                                               0\n",
       "emotion_in_tweet_is_directed_at                       5801\n",
       "is_there_an_emotion_directed_at_a_brand_or_product       0\n",
       "tweet_text_lower                                         0\n",
       "dtype: int64"
      ]
     },
     "execution_count": 26,
     "metadata": {},
     "output_type": "execute_result"
    }
   ],
   "source": [
    "df.isnull().sum()"
   ]
  },
  {
   "cell_type": "code",
   "execution_count": 27,
   "metadata": {},
   "outputs": [
    {
     "data": {
      "text/plain": [
       "emotion_in_tweet_is_directed_at\n",
       "iPad                               946\n",
       "Apple                              661\n",
       "iPad or iPhone App                 470\n",
       "Google                             430\n",
       "iPhone                             297\n",
       "Other Google product or service    293\n",
       "Android App                         81\n",
       "Android                             78\n",
       "Other Apple product or service      35\n",
       "Name: count, dtype: int64"
      ]
     },
     "execution_count": 27,
     "metadata": {},
     "output_type": "execute_result"
    }
   ],
   "source": [
    "df['emotion_in_tweet_is_directed_at'].value_counts()"
   ]
  },
  {
   "cell_type": "code",
   "execution_count": 28,
   "metadata": {
    "scrolled": true
   },
   "outputs": [
    {
     "data": {
      "text/plain": [
       "is_there_an_emotion_directed_at_a_brand_or_product\n",
       "No emotion toward brand or product    5388\n",
       "Positive emotion                      2978\n",
       "Negative emotion                       570\n",
       "I can't tell                           156\n",
       "Name: count, dtype: int64"
      ]
     },
     "execution_count": 28,
     "metadata": {},
     "output_type": "execute_result"
    }
   ],
   "source": [
    "df['is_there_an_emotion_directed_at_a_brand_or_product'].value_counts() "
   ]
  },
  {
   "cell_type": "code",
   "execution_count": 29,
   "metadata": {},
   "outputs": [
    {
     "data": {
      "text/html": [
       "<style type=\"text/css\">\n",
       "#T_e5c0e_row0_col0, #T_e5c0e_row0_col1, #T_e5c0e_row0_col2, #T_e5c0e_row0_col3, #T_e5c0e_row1_col0, #T_e5c0e_row1_col1, #T_e5c0e_row1_col2, #T_e5c0e_row1_col3, #T_e5c0e_row2_col0, #T_e5c0e_row2_col1, #T_e5c0e_row2_col2, #T_e5c0e_row2_col3, #T_e5c0e_row3_col0, #T_e5c0e_row3_col1, #T_e5c0e_row3_col2, #T_e5c0e_row3_col3, #T_e5c0e_row4_col0, #T_e5c0e_row4_col1, #T_e5c0e_row4_col2, #T_e5c0e_row4_col3 {\n",
       "  text-align: left;\n",
       "}\n",
       "</style>\n",
       "<table id=\"T_e5c0e\">\n",
       "  <thead>\n",
       "    <tr>\n",
       "      <th class=\"blank level0\" >&nbsp;</th>\n",
       "      <th id=\"T_e5c0e_level0_col0\" class=\"col_heading level0 col0\" >tweet_text</th>\n",
       "      <th id=\"T_e5c0e_level0_col1\" class=\"col_heading level0 col1\" >emotion_in_tweet_is_directed_at</th>\n",
       "      <th id=\"T_e5c0e_level0_col2\" class=\"col_heading level0 col2\" >is_there_an_emotion_directed_at_a_brand_or_product</th>\n",
       "      <th id=\"T_e5c0e_level0_col3\" class=\"col_heading level0 col3\" >tweet_text_lower</th>\n",
       "    </tr>\n",
       "  </thead>\n",
       "  <tbody>\n",
       "    <tr>\n",
       "      <th id=\"T_e5c0e_level0_row0\" class=\"row_heading level0 row0\" >7169</th>\n",
       "      <td id=\"T_e5c0e_row0_col0\" class=\"data row0 col0\" >Google Close to Launching New Social Network - Circles {link} #google #sxsw</td>\n",
       "      <td id=\"T_e5c0e_row0_col1\" class=\"data row0 col1\" >nan</td>\n",
       "      <td id=\"T_e5c0e_row0_col2\" class=\"data row0 col2\" >No emotion toward brand or product</td>\n",
       "      <td id=\"T_e5c0e_row0_col3\" class=\"data row0 col3\" >google close to launching new social network - circles {link} #google #sxsw</td>\n",
       "    </tr>\n",
       "    <tr>\n",
       "      <th id=\"T_e5c0e_level0_row1\" class=\"row_heading level0 row1\" >2089</th>\n",
       "      <td id=\"T_e5c0e_row1_col0\" class=\"data row1 col0\" >iPhone charging at #SXSW  {link}</td>\n",
       "      <td id=\"T_e5c0e_row1_col1\" class=\"data row1 col1\" >nan</td>\n",
       "      <td id=\"T_e5c0e_row1_col2\" class=\"data row1 col2\" >No emotion toward brand or product</td>\n",
       "      <td id=\"T_e5c0e_row1_col3\" class=\"data row1 col3\" >iphone charging at #sxsw  {link}</td>\n",
       "    </tr>\n",
       "    <tr>\n",
       "      <th id=\"T_e5c0e_level0_row2\" class=\"row_heading level0 row2\" >2303</th>\n",
       "      <td id=\"T_e5c0e_row2_col0\" class=\"data row2 col0\" >The walk by Lady Bird Lake was lovely, but Google Maps travel times are not to be trusted. #SXSW</td>\n",
       "      <td id=\"T_e5c0e_row2_col1\" class=\"data row2 col1\" >Other Google product or service</td>\n",
       "      <td id=\"T_e5c0e_row2_col2\" class=\"data row2 col2\" >Negative emotion</td>\n",
       "      <td id=\"T_e5c0e_row2_col3\" class=\"data row2 col3\" >the walk by lady bird lake was lovely, but google maps travel times are not to be trusted. #sxsw</td>\n",
       "    </tr>\n",
       "    <tr>\n",
       "      <th id=\"T_e5c0e_level0_row3\" class=\"row_heading level0 row3\" >928</th>\n",
       "      <td id=\"T_e5c0e_row3_col0\" class=\"data row3 col0\" >ÛÏ@mention Not a rumor: Apple doing popup store in downtown Austin for #SXSW &amp; iPad 2 launch {link} Smart move, 1of many #dfcbto</td>\n",
       "      <td id=\"T_e5c0e_row3_col1\" class=\"data row3 col1\" >Apple</td>\n",
       "      <td id=\"T_e5c0e_row3_col2\" class=\"data row3 col2\" >Positive emotion</td>\n",
       "      <td id=\"T_e5c0e_row3_col3\" class=\"data row3 col3\" >ûï@mention not a rumor: apple doing popup store in downtown austin for #sxsw &amp; ipad 2 launch {link} smart move, 1of many #dfcbto</td>\n",
       "    </tr>\n",
       "    <tr>\n",
       "      <th id=\"T_e5c0e_level0_row4\" class=\"row_heading level0 row4\" >5895</th>\n",
       "      <td id=\"T_e5c0e_row4_col0\" class=\"data row4 col0\" >RT @mention Google to Launch Major New Social Network Called Circles, Possibly Today {link} #sxsw via @mention @mention</td>\n",
       "      <td id=\"T_e5c0e_row4_col1\" class=\"data row4 col1\" >nan</td>\n",
       "      <td id=\"T_e5c0e_row4_col2\" class=\"data row4 col2\" >No emotion toward brand or product</td>\n",
       "      <td id=\"T_e5c0e_row4_col3\" class=\"data row4 col3\" >rt @mention google to launch major new social network called circles, possibly today {link} #sxsw via @mention @mention</td>\n",
       "    </tr>\n",
       "  </tbody>\n",
       "</table>\n"
      ],
      "text/plain": [
       "<pandas.io.formats.style.Styler at 0x15882a160>"
      ]
     },
     "execution_count": 29,
     "metadata": {},
     "output_type": "execute_result"
    }
   ],
   "source": [
    "sample_tweets = df.sample(5, random_state=42)\n",
    "sample_tweets.style.set_properties(**{'text-align': 'left'})"
   ]
  },
  {
   "cell_type": "markdown",
   "metadata": {},
   "source": [
    "- Labeling target column (is_there_an_emotion_directed_at_a_brand_or_product) 0-2:\n",
    "\n",
    "   -0 = Negative emotion\n",
    "   -1 = Positive emotion\n",
    "   -2 = No emotion AND Can't tell\n",
    "   "
   ]
  },
  {
   "cell_type": "code",
   "execution_count": 30,
   "metadata": {},
   "outputs": [],
   "source": [
    "def custom_encoder(df):\n",
    "    df.replace(to_replace =\"No emotion toward brand or product\", value =2, inplace=True)\n",
    "    df.replace(to_replace =\"Positive emotion\", value =1, inplace=True)\n",
    "    df.replace(to_replace =\"Negative emotion\", value =0, inplace=True)\n",
    "    df.replace(to_replace =\"I can't tell\", value =2, inplace=True)"
   ]
  },
  {
   "cell_type": "code",
   "execution_count": 31,
   "metadata": {},
   "outputs": [],
   "source": [
    "custom_encoder(df['is_there_an_emotion_directed_at_a_brand_or_product'])"
   ]
  },
  {
   "cell_type": "code",
   "execution_count": 32,
   "metadata": {
    "scrolled": true
   },
   "outputs": [
    {
     "data": {
      "text/html": [
       "<div>\n",
       "<style scoped>\n",
       "    .dataframe tbody tr th:only-of-type {\n",
       "        vertical-align: middle;\n",
       "    }\n",
       "\n",
       "    .dataframe tbody tr th {\n",
       "        vertical-align: top;\n",
       "    }\n",
       "\n",
       "    .dataframe thead th {\n",
       "        text-align: right;\n",
       "    }\n",
       "</style>\n",
       "<table border=\"1\" class=\"dataframe\">\n",
       "  <thead>\n",
       "    <tr style=\"text-align: right;\">\n",
       "      <th></th>\n",
       "      <th>tweet_text</th>\n",
       "      <th>emotion_in_tweet_is_directed_at</th>\n",
       "      <th>is_there_an_emotion_directed_at_a_brand_or_product</th>\n",
       "      <th>tweet_text_lower</th>\n",
       "    </tr>\n",
       "  </thead>\n",
       "  <tbody>\n",
       "    <tr>\n",
       "      <th>0</th>\n",
       "      <td>.@wesley83 I have a 3G iPhone. After 3 hrs twe...</td>\n",
       "      <td>iPhone</td>\n",
       "      <td>0</td>\n",
       "      <td>.@wesley83 i have a 3g iphone. after 3 hrs twe...</td>\n",
       "    </tr>\n",
       "    <tr>\n",
       "      <th>1</th>\n",
       "      <td>@jessedee Know about @fludapp ? Awesome iPad/i...</td>\n",
       "      <td>iPad or iPhone App</td>\n",
       "      <td>1</td>\n",
       "      <td>@jessedee know about @fludapp ? awesome ipad/i...</td>\n",
       "    </tr>\n",
       "    <tr>\n",
       "      <th>2</th>\n",
       "      <td>@swonderlin Can not wait for #iPad 2 also. The...</td>\n",
       "      <td>iPad</td>\n",
       "      <td>1</td>\n",
       "      <td>@swonderlin can not wait for #ipad 2 also. the...</td>\n",
       "    </tr>\n",
       "    <tr>\n",
       "      <th>3</th>\n",
       "      <td>@sxsw I hope this year's festival isn't as cra...</td>\n",
       "      <td>iPad or iPhone App</td>\n",
       "      <td>0</td>\n",
       "      <td>@sxsw i hope this year's festival isn't as cra...</td>\n",
       "    </tr>\n",
       "    <tr>\n",
       "      <th>4</th>\n",
       "      <td>@sxtxstate great stuff on Fri #SXSW: Marissa M...</td>\n",
       "      <td>Google</td>\n",
       "      <td>1</td>\n",
       "      <td>@sxtxstate great stuff on fri #sxsw: marissa m...</td>\n",
       "    </tr>\n",
       "  </tbody>\n",
       "</table>\n",
       "</div>"
      ],
      "text/plain": [
       "                                          tweet_text  \\\n",
       "0  .@wesley83 I have a 3G iPhone. After 3 hrs twe...   \n",
       "1  @jessedee Know about @fludapp ? Awesome iPad/i...   \n",
       "2  @swonderlin Can not wait for #iPad 2 also. The...   \n",
       "3  @sxsw I hope this year's festival isn't as cra...   \n",
       "4  @sxtxstate great stuff on Fri #SXSW: Marissa M...   \n",
       "\n",
       "  emotion_in_tweet_is_directed_at  \\\n",
       "0                          iPhone   \n",
       "1              iPad or iPhone App   \n",
       "2                            iPad   \n",
       "3              iPad or iPhone App   \n",
       "4                          Google   \n",
       "\n",
       "   is_there_an_emotion_directed_at_a_brand_or_product  \\\n",
       "0                                                  0    \n",
       "1                                                  1    \n",
       "2                                                  1    \n",
       "3                                                  0    \n",
       "4                                                  1    \n",
       "\n",
       "                                    tweet_text_lower  \n",
       "0  .@wesley83 i have a 3g iphone. after 3 hrs twe...  \n",
       "1  @jessedee know about @fludapp ? awesome ipad/i...  \n",
       "2  @swonderlin can not wait for #ipad 2 also. the...  \n",
       "3  @sxsw i hope this year's festival isn't as cra...  \n",
       "4  @sxtxstate great stuff on fri #sxsw: marissa m...  "
      ]
     },
     "execution_count": 32,
     "metadata": {},
     "output_type": "execute_result"
    }
   ],
   "source": [
    "df.head()"
   ]
  },
  {
   "cell_type": "markdown",
   "metadata": {},
   "source": [
    " - Dropping emotion_in_tweet_is_directed_at for now just to analyze tweets and overall sentiment irregardless of brand."
   ]
  },
  {
   "cell_type": "code",
   "execution_count": 33,
   "metadata": {
    "scrolled": true
   },
   "outputs": [],
   "source": [
    "df.drop(columns=['emotion_in_tweet_is_directed_at'], inplace=True)"
   ]
  },
  {
   "cell_type": "code",
   "execution_count": 34,
   "metadata": {
    "scrolled": true
   },
   "outputs": [
    {
     "data": {
      "text/html": [
       "<div>\n",
       "<style scoped>\n",
       "    .dataframe tbody tr th:only-of-type {\n",
       "        vertical-align: middle;\n",
       "    }\n",
       "\n",
       "    .dataframe tbody tr th {\n",
       "        vertical-align: top;\n",
       "    }\n",
       "\n",
       "    .dataframe thead th {\n",
       "        text-align: right;\n",
       "    }\n",
       "</style>\n",
       "<table border=\"1\" class=\"dataframe\">\n",
       "  <thead>\n",
       "    <tr style=\"text-align: right;\">\n",
       "      <th></th>\n",
       "      <th>tweet_text</th>\n",
       "      <th>is_there_an_emotion_directed_at_a_brand_or_product</th>\n",
       "      <th>tweet_text_lower</th>\n",
       "    </tr>\n",
       "  </thead>\n",
       "  <tbody>\n",
       "    <tr>\n",
       "      <th>0</th>\n",
       "      <td>.@wesley83 I have a 3G iPhone. After 3 hrs twe...</td>\n",
       "      <td>0</td>\n",
       "      <td>.@wesley83 i have a 3g iphone. after 3 hrs twe...</td>\n",
       "    </tr>\n",
       "    <tr>\n",
       "      <th>1</th>\n",
       "      <td>@jessedee Know about @fludapp ? Awesome iPad/i...</td>\n",
       "      <td>1</td>\n",
       "      <td>@jessedee know about @fludapp ? awesome ipad/i...</td>\n",
       "    </tr>\n",
       "    <tr>\n",
       "      <th>2</th>\n",
       "      <td>@swonderlin Can not wait for #iPad 2 also. The...</td>\n",
       "      <td>1</td>\n",
       "      <td>@swonderlin can not wait for #ipad 2 also. the...</td>\n",
       "    </tr>\n",
       "    <tr>\n",
       "      <th>3</th>\n",
       "      <td>@sxsw I hope this year's festival isn't as cra...</td>\n",
       "      <td>0</td>\n",
       "      <td>@sxsw i hope this year's festival isn't as cra...</td>\n",
       "    </tr>\n",
       "    <tr>\n",
       "      <th>4</th>\n",
       "      <td>@sxtxstate great stuff on Fri #SXSW: Marissa M...</td>\n",
       "      <td>1</td>\n",
       "      <td>@sxtxstate great stuff on fri #sxsw: marissa m...</td>\n",
       "    </tr>\n",
       "  </tbody>\n",
       "</table>\n",
       "</div>"
      ],
      "text/plain": [
       "                                          tweet_text  \\\n",
       "0  .@wesley83 I have a 3G iPhone. After 3 hrs twe...   \n",
       "1  @jessedee Know about @fludapp ? Awesome iPad/i...   \n",
       "2  @swonderlin Can not wait for #iPad 2 also. The...   \n",
       "3  @sxsw I hope this year's festival isn't as cra...   \n",
       "4  @sxtxstate great stuff on Fri #SXSW: Marissa M...   \n",
       "\n",
       "   is_there_an_emotion_directed_at_a_brand_or_product  \\\n",
       "0                                                  0    \n",
       "1                                                  1    \n",
       "2                                                  1    \n",
       "3                                                  0    \n",
       "4                                                  1    \n",
       "\n",
       "                                    tweet_text_lower  \n",
       "0  .@wesley83 i have a 3g iphone. after 3 hrs twe...  \n",
       "1  @jessedee know about @fludapp ? awesome ipad/i...  \n",
       "2  @swonderlin can not wait for #ipad 2 also. the...  \n",
       "3  @sxsw i hope this year's festival isn't as cra...  \n",
       "4  @sxtxstate great stuff on fri #sxsw: marissa m...  "
      ]
     },
     "execution_count": 34,
     "metadata": {},
     "output_type": "execute_result"
    }
   ],
   "source": [
    "df.head()"
   ]
  },
  {
   "cell_type": "code",
   "execution_count": 35,
   "metadata": {
    "scrolled": true
   },
   "outputs": [
    {
     "data": {
      "image/png": "[encoded data removed]",
      "text/plain": [
       "<Figure size 640x480 with 1 Axes>"
      ]
     },
     "metadata": {},
     "output_type": "display_data"
    }
   ],
   "source": [
    "sns.countplot(df.is_there_an_emotion_directed_at_a_brand_or_product);"
   ]
  },
  {
   "cell_type": "markdown",
   "metadata": {
    "jp-MarkdownHeadingCollapsed": true
   },
   "source": [
    "# Train test split"
   ]
  },
  {
   "cell_type": "code",
   "execution_count": 36,
   "metadata": {},
   "outputs": [],
   "source": [
    "from sklearn.model_selection import train_test_split\n",
    "\n",
    "X = df.drop(columns=['is_there_an_emotion_directed_at_a_brand_or_product'])\n",
    "y = df['is_there_an_emotion_directed_at_a_brand_or_product']\n",
    "\n",
    "X_train, X_test, y_train, y_test = train_test_split(X, y, random_state=42)"
   ]
  },
  {
   "cell_type": "code",
   "execution_count": 37,
   "metadata": {
    "scrolled": true
   },
   "outputs": [
    {
     "data": {
      "text/html": [
       "<style type=\"text/css\">\n",
       "#T_8aa82_row0_col0, #T_8aa82_row0_col1, #T_8aa82_row1_col0, #T_8aa82_row1_col1, #T_8aa82_row2_col0, #T_8aa82_row2_col1, #T_8aa82_row3_col0, #T_8aa82_row3_col1, #T_8aa82_row4_col0, #T_8aa82_row4_col1 {\n",
       "  text-align: left;\n",
       "}\n",
       "</style>\n",
       "<table id=\"T_8aa82\">\n",
       "  <thead>\n",
       "    <tr>\n",
       "      <th class=\"blank level0\" >&nbsp;</th>\n",
       "      <th id=\"T_8aa82_level0_col0\" class=\"col_heading level0 col0\" >tweet_text</th>\n",
       "      <th id=\"T_8aa82_level0_col1\" class=\"col_heading level0 col1\" >tweet_text_lower</th>\n",
       "    </tr>\n",
       "  </thead>\n",
       "  <tbody>\n",
       "    <tr>\n",
       "      <th id=\"T_8aa82_level0_row0\" class=\"row_heading level0 row0\" >899</th>\n",
       "      <td id=\"T_8aa82_row0_col0\" class=\"data row0 col0\" >Brilliant move by Apple: before it even begins, Apple wins #SXSW {link}</td>\n",
       "      <td id=\"T_8aa82_row0_col1\" class=\"data row0 col1\" >brilliant move by apple: before it even begins, apple wins #sxsw {link}</td>\n",
       "    </tr>\n",
       "    <tr>\n",
       "      <th id=\"T_8aa82_level0_row1\" class=\"row_heading level0 row1\" >7432</th>\n",
       "      <td id=\"T_8aa82_row1_col0\" class=\"data row1 col0\" >{link} Report: Apple to Open Pop-Up Store at #SXSW</td>\n",
       "      <td id=\"T_8aa82_row1_col1\" class=\"data row1 col1\" >{link} report: apple to open pop-up store at #sxsw</td>\n",
       "    </tr>\n",
       "    <tr>\n",
       "      <th id=\"T_8aa82_level0_row2\" class=\"row_heading level0 row2\" >8515</th>\n",
       "      <td id=\"T_8aa82_row2_col0\" class=\"data row2 col0\" >omg ÛÏ@mention It's not a rumor: Apple is opening up a temporary store in downtown Austin for #SXSW and the iPad 2 launch {link}</td>\n",
       "      <td id=\"T_8aa82_row2_col1\" class=\"data row2 col1\" >omg ûï@mention it's not a rumor: apple is opening up a temporary store in downtown austin for #sxsw and the ipad 2 launch {link}</td>\n",
       "    </tr>\n",
       "    <tr>\n",
       "      <th id=\"T_8aa82_level0_row3\" class=\"row_heading level0 row3\" >2951</th>\n",
       "      <td id=\"T_8aa82_row3_col0\" class=\"data row3 col0\" >#sxsw: @mention intrvw @mention &quot;Govt is not a vending machine [put in $, get svcs], it's a platform; iPhone was a teaching moment&quot;</td>\n",
       "      <td id=\"T_8aa82_row3_col1\" class=\"data row3 col1\" >#sxsw: @mention intrvw @mention &quot;govt is not a vending machine [put in $, get svcs], it's a platform; iphone was a teaching moment&quot;</td>\n",
       "    </tr>\n",
       "    <tr>\n",
       "      <th id=\"T_8aa82_level0_row4\" class=\"row_heading level0 row4\" >8963</th>\n",
       "      <td id=\"T_8aa82_row4_col0\" class=\"data row4 col0\" >Group #Texting War Heats Up: Fast Society Launches New Android App, Updates iPhone App: #SXSWÛ_ {link}</td>\n",
       "      <td id=\"T_8aa82_row4_col1\" class=\"data row4 col1\" >group #texting war heats up: fast society launches new android app, updates iphone app: #sxswû_ {link}</td>\n",
       "    </tr>\n",
       "  </tbody>\n",
       "</table>\n"
      ],
      "text/plain": [
       "<pandas.io.formats.style.Styler at 0x15862df10>"
      ]
     },
     "execution_count": 37,
     "metadata": {},
     "output_type": "execute_result"
    }
   ],
   "source": [
    "train_sample = X_train.sample(5, random_state=42)\n",
    "train_sample.style.set_properties(**{'text-align': 'left'})"
   ]
  },
  {
   "cell_type": "markdown",
   "metadata": {},
   "source": [
    "# Preprocessing"
   ]
  },
  {
   "cell_type": "markdown",
   "metadata": {
    "jp-MarkdownHeadingCollapsed": true
   },
   "source": [
    "# Namsoo"
   ]
  },
  {
   "cell_type": "markdown",
   "metadata": {
    "jp-MarkdownHeadingCollapsed": true
   },
   "source": [
    "## Practice : tokenization, lemmatization, word frequency"
   ]
  },
  {
   "cell_type": "code",
   "execution_count": 38,
   "metadata": {},
   "outputs": [],
   "source": [
    "import pandas as pd\n",
    "import nltk\n",
    "from nltk.corpus import stopwords\n",
    "from nltk.tokenize import word_tokenize\n",
    "from nltk.stem import WordNetLemmatizer"
   ]
  },
  {
   "cell_type": "code",
   "execution_count": 39,
   "metadata": {},
   "outputs": [
    {
     "name": "stdout",
     "output_type": "stream",
     "text": [
      "<class 'pandas.core.frame.DataFrame'>\n",
      "Index: 5587 entries, 0 to 9091\n",
      "Data columns (total 4 columns):\n",
      " #   Column                           Non-Null Count  Dtype \n",
      "---  ------                           --------------  ----- \n",
      " 0   tweet_text                       5587 non-null   object\n",
      " 1   emotion_in_tweet_is_directed_at  2412 non-null   object\n",
      " 2   emotion                          5587 non-null   int64 \n",
      " 3   tweet_text_lower                 5587 non-null   object\n",
      "dtypes: int64(1), object(3)\n",
      "memory usage: 218.2+ KB\n"
     ]
    }
   ],
   "source": [
    "apple_df.info()"
   ]
  },
  {
   "cell_type": "code",
   "execution_count": 40,
   "metadata": {},
   "outputs": [],
   "source": [
    "apple_df['tokens'] = df['tweet_text'].apply(word_tokenize)"
   ]
  },
  {
   "cell_type": "code",
   "execution_count": 41,
   "metadata": {},
   "outputs": [
    {
     "data": {
      "text/html": [
       "<div>\n",
       "<style scoped>\n",
       "    .dataframe tbody tr th:only-of-type {\n",
       "        vertical-align: middle;\n",
       "    }\n",
       "\n",
       "    .dataframe tbody tr th {\n",
       "        vertical-align: top;\n",
       "    }\n",
       "\n",
       "    .dataframe thead th {\n",
       "        text-align: right;\n",
       "    }\n",
       "</style>\n",
       "<table border=\"1\" class=\"dataframe\">\n",
       "  <thead>\n",
       "    <tr style=\"text-align: right;\">\n",
       "      <th></th>\n",
       "      <th>tweet_text</th>\n",
       "      <th>emotion_in_tweet_is_directed_at</th>\n",
       "      <th>emotion</th>\n",
       "      <th>tweet_text_lower</th>\n",
       "      <th>tokens</th>\n",
       "    </tr>\n",
       "  </thead>\n",
       "  <tbody>\n",
       "    <tr>\n",
       "      <th>0</th>\n",
       "      <td>.@wesley83 I have a 3G iPhone. After 3 hrs twe...</td>\n",
       "      <td>iPhone</td>\n",
       "      <td>0</td>\n",
       "      <td>.@wesley83 i have a 3g iphone. after 3 hrs twe...</td>\n",
       "      <td>[., @, wesley83, I, have, a, 3G, iPhone, ., Af...</td>\n",
       "    </tr>\n",
       "    <tr>\n",
       "      <th>1</th>\n",
       "      <td>@jessedee Know about @fludapp ? Awesome iPad/i...</td>\n",
       "      <td>iPad or iPhone App</td>\n",
       "      <td>1</td>\n",
       "      <td>@jessedee know about @fludapp ? awesome ipad/i...</td>\n",
       "      <td>[@, jessedee, Know, about, @, fludapp, ?, Awes...</td>\n",
       "    </tr>\n",
       "    <tr>\n",
       "      <th>2</th>\n",
       "      <td>@swonderlin Can not wait for #iPad 2 also. The...</td>\n",
       "      <td>iPad</td>\n",
       "      <td>1</td>\n",
       "      <td>@swonderlin can not wait for #ipad 2 also. the...</td>\n",
       "      <td>[@, swonderlin, Can, not, wait, for, #, iPad, ...</td>\n",
       "    </tr>\n",
       "    <tr>\n",
       "      <th>3</th>\n",
       "      <td>@sxsw I hope this year's festival isn't as cra...</td>\n",
       "      <td>iPad or iPhone App</td>\n",
       "      <td>0</td>\n",
       "      <td>@sxsw i hope this year's festival isn't as cra...</td>\n",
       "      <td>[@, sxsw, I, hope, this, year, 's, festival, i...</td>\n",
       "    </tr>\n",
       "    <tr>\n",
       "      <th>5</th>\n",
       "      <td>@teachntech00 New iPad Apps For #SpeechTherapy...</td>\n",
       "      <td>NaN</td>\n",
       "      <td>2</td>\n",
       "      <td>@teachntech00 new ipad apps for #speechtherapy...</td>\n",
       "      <td>[@, teachntech00, New, iPad, Apps, For, #, Spe...</td>\n",
       "    </tr>\n",
       "  </tbody>\n",
       "</table>\n",
       "</div>"
      ],
      "text/plain": [
       "                                          tweet_text  \\\n",
       "0  .@wesley83 I have a 3G iPhone. After 3 hrs twe...   \n",
       "1  @jessedee Know about @fludapp ? Awesome iPad/i...   \n",
       "2  @swonderlin Can not wait for #iPad 2 also. The...   \n",
       "3  @sxsw I hope this year's festival isn't as cra...   \n",
       "5  @teachntech00 New iPad Apps For #SpeechTherapy...   \n",
       "\n",
       "  emotion_in_tweet_is_directed_at  emotion  \\\n",
       "0                          iPhone        0   \n",
       "1              iPad or iPhone App        1   \n",
       "2                            iPad        1   \n",
       "3              iPad or iPhone App        0   \n",
       "5                             NaN        2   \n",
       "\n",
       "                                    tweet_text_lower  \\\n",
       "0  .@wesley83 i have a 3g iphone. after 3 hrs twe...   \n",
       "1  @jessedee know about @fludapp ? awesome ipad/i...   \n",
       "2  @swonderlin can not wait for #ipad 2 also. the...   \n",
       "3  @sxsw i hope this year's festival isn't as cra...   \n",
       "5  @teachntech00 new ipad apps for #speechtherapy...   \n",
       "\n",
       "                                              tokens  \n",
       "0  [., @, wesley83, I, have, a, 3G, iPhone, ., Af...  \n",
       "1  [@, jessedee, Know, about, @, fludapp, ?, Awes...  \n",
       "2  [@, swonderlin, Can, not, wait, for, #, iPad, ...  \n",
       "3  [@, sxsw, I, hope, this, year, 's, festival, i...  \n",
       "5  [@, teachntech00, New, iPad, Apps, For, #, Spe...  "
      ]
     },
     "execution_count": 41,
     "metadata": {},
     "output_type": "execute_result"
    }
   ],
   "source": [
    "apple_df.head()"
   ]
  },
  {
   "cell_type": "code",
   "execution_count": 42,
   "metadata": {},
   "outputs": [],
   "source": [
    "apple_df['tokens'] = apple_df['tokens'].apply(lambda x: [word.lower() for word in x])"
   ]
  },
  {
   "cell_type": "code",
   "execution_count": 43,
   "metadata": {},
   "outputs": [
    {
     "data": {
      "text/html": [
       "<div>\n",
       "<style scoped>\n",
       "    .dataframe tbody tr th:only-of-type {\n",
       "        vertical-align: middle;\n",
       "    }\n",
       "\n",
       "    .dataframe tbody tr th {\n",
       "        vertical-align: top;\n",
       "    }\n",
       "\n",
       "    .dataframe thead th {\n",
       "        text-align: right;\n",
       "    }\n",
       "</style>\n",
       "<table border=\"1\" class=\"dataframe\">\n",
       "  <thead>\n",
       "    <tr style=\"text-align: right;\">\n",
       "      <th></th>\n",
       "      <th>tweet_text</th>\n",
       "      <th>emotion_in_tweet_is_directed_at</th>\n",
       "      <th>emotion</th>\n",
       "      <th>tweet_text_lower</th>\n",
       "      <th>tokens</th>\n",
       "    </tr>\n",
       "  </thead>\n",
       "  <tbody>\n",
       "    <tr>\n",
       "      <th>0</th>\n",
       "      <td>.@wesley83 I have a 3G iPhone. After 3 hrs twe...</td>\n",
       "      <td>iPhone</td>\n",
       "      <td>0</td>\n",
       "      <td>.@wesley83 i have a 3g iphone. after 3 hrs twe...</td>\n",
       "      <td>[., @, wesley83, i, have, a, 3g, iphone, ., af...</td>\n",
       "    </tr>\n",
       "    <tr>\n",
       "      <th>1</th>\n",
       "      <td>@jessedee Know about @fludapp ? Awesome iPad/i...</td>\n",
       "      <td>iPad or iPhone App</td>\n",
       "      <td>1</td>\n",
       "      <td>@jessedee know about @fludapp ? awesome ipad/i...</td>\n",
       "      <td>[@, jessedee, know, about, @, fludapp, ?, awes...</td>\n",
       "    </tr>\n",
       "    <tr>\n",
       "      <th>2</th>\n",
       "      <td>@swonderlin Can not wait for #iPad 2 also. The...</td>\n",
       "      <td>iPad</td>\n",
       "      <td>1</td>\n",
       "      <td>@swonderlin can not wait for #ipad 2 also. the...</td>\n",
       "      <td>[@, swonderlin, can, not, wait, for, #, ipad, ...</td>\n",
       "    </tr>\n",
       "    <tr>\n",
       "      <th>3</th>\n",
       "      <td>@sxsw I hope this year's festival isn't as cra...</td>\n",
       "      <td>iPad or iPhone App</td>\n",
       "      <td>0</td>\n",
       "      <td>@sxsw i hope this year's festival isn't as cra...</td>\n",
       "      <td>[@, sxsw, i, hope, this, year, 's, festival, i...</td>\n",
       "    </tr>\n",
       "    <tr>\n",
       "      <th>5</th>\n",
       "      <td>@teachntech00 New iPad Apps For #SpeechTherapy...</td>\n",
       "      <td>NaN</td>\n",
       "      <td>2</td>\n",
       "      <td>@teachntech00 new ipad apps for #speechtherapy...</td>\n",
       "      <td>[@, teachntech00, new, ipad, apps, for, #, spe...</td>\n",
       "    </tr>\n",
       "  </tbody>\n",
       "</table>\n",
       "</div>"
      ],
      "text/plain": [
       "                                          tweet_text  \\\n",
       "0  .@wesley83 I have a 3G iPhone. After 3 hrs twe...   \n",
       "1  @jessedee Know about @fludapp ? Awesome iPad/i...   \n",
       "2  @swonderlin Can not wait for #iPad 2 also. The...   \n",
       "3  @sxsw I hope this year's festival isn't as cra...   \n",
       "5  @teachntech00 New iPad Apps For #SpeechTherapy...   \n",
       "\n",
       "  emotion_in_tweet_is_directed_at  emotion  \\\n",
       "0                          iPhone        0   \n",
       "1              iPad or iPhone App        1   \n",
       "2                            iPad        1   \n",
       "3              iPad or iPhone App        0   \n",
       "5                             NaN        2   \n",
       "\n",
       "                                    tweet_text_lower  \\\n",
       "0  .@wesley83 i have a 3g iphone. after 3 hrs twe...   \n",
       "1  @jessedee know about @fludapp ? awesome ipad/i...   \n",
       "2  @swonderlin can not wait for #ipad 2 also. the...   \n",
       "3  @sxsw i hope this year's festival isn't as cra...   \n",
       "5  @teachntech00 new ipad apps for #speechtherapy...   \n",
       "\n",
       "                                              tokens  \n",
       "0  [., @, wesley83, i, have, a, 3g, iphone, ., af...  \n",
       "1  [@, jessedee, know, about, @, fludapp, ?, awes...  \n",
       "2  [@, swonderlin, can, not, wait, for, #, ipad, ...  \n",
       "3  [@, sxsw, i, hope, this, year, 's, festival, i...  \n",
       "5  [@, teachntech00, new, ipad, apps, for, #, spe...  "
      ]
     },
     "execution_count": 43,
     "metadata": {},
     "output_type": "execute_result"
    }
   ],
   "source": [
    "apple_df.head()"
   ]
  },
  {
   "cell_type": "code",
   "execution_count": 44,
   "metadata": {},
   "outputs": [],
   "source": [
    "import string\n",
    "apple_df['tokens'] = apple_df['tokens'].apply(lambda x: \n",
    "                                              [word.translate(str.maketrans('', '', string.punctuation)) \n",
    "                                               for word in x])"
   ]
  },
  {
   "cell_type": "code",
   "execution_count": 45,
   "metadata": {},
   "outputs": [
    {
     "data": {
      "text/html": [
       "<div>\n",
       "<style scoped>\n",
       "    .dataframe tbody tr th:only-of-type {\n",
       "        vertical-align: middle;\n",
       "    }\n",
       "\n",
       "    .dataframe tbody tr th {\n",
       "        vertical-align: top;\n",
       "    }\n",
       "\n",
       "    .dataframe thead th {\n",
       "        text-align: right;\n",
       "    }\n",
       "</style>\n",
       "<table border=\"1\" class=\"dataframe\">\n",
       "  <thead>\n",
       "    <tr style=\"text-align: right;\">\n",
       "      <th></th>\n",
       "      <th>tweet_text</th>\n",
       "      <th>emotion_in_tweet_is_directed_at</th>\n",
       "      <th>emotion</th>\n",
       "      <th>tweet_text_lower</th>\n",
       "      <th>tokens</th>\n",
       "    </tr>\n",
       "  </thead>\n",
       "  <tbody>\n",
       "    <tr>\n",
       "      <th>0</th>\n",
       "      <td>.@wesley83 I have a 3G iPhone. After 3 hrs twe...</td>\n",
       "      <td>iPhone</td>\n",
       "      <td>0</td>\n",
       "      <td>.@wesley83 i have a 3g iphone. after 3 hrs twe...</td>\n",
       "      <td>[, , wesley83, i, have, a, 3g, iphone, , after...</td>\n",
       "    </tr>\n",
       "    <tr>\n",
       "      <th>1</th>\n",
       "      <td>@jessedee Know about @fludapp ? Awesome iPad/i...</td>\n",
       "      <td>iPad or iPhone App</td>\n",
       "      <td>1</td>\n",
       "      <td>@jessedee know about @fludapp ? awesome ipad/i...</td>\n",
       "      <td>[, jessedee, know, about, , fludapp, , awesome...</td>\n",
       "    </tr>\n",
       "    <tr>\n",
       "      <th>2</th>\n",
       "      <td>@swonderlin Can not wait for #iPad 2 also. The...</td>\n",
       "      <td>iPad</td>\n",
       "      <td>1</td>\n",
       "      <td>@swonderlin can not wait for #ipad 2 also. the...</td>\n",
       "      <td>[, swonderlin, can, not, wait, for, , ipad, 2,...</td>\n",
       "    </tr>\n",
       "    <tr>\n",
       "      <th>3</th>\n",
       "      <td>@sxsw I hope this year's festival isn't as cra...</td>\n",
       "      <td>iPad or iPhone App</td>\n",
       "      <td>0</td>\n",
       "      <td>@sxsw i hope this year's festival isn't as cra...</td>\n",
       "      <td>[, sxsw, i, hope, this, year, s, festival, is,...</td>\n",
       "    </tr>\n",
       "    <tr>\n",
       "      <th>5</th>\n",
       "      <td>@teachntech00 New iPad Apps For #SpeechTherapy...</td>\n",
       "      <td>NaN</td>\n",
       "      <td>2</td>\n",
       "      <td>@teachntech00 new ipad apps for #speechtherapy...</td>\n",
       "      <td>[, teachntech00, new, ipad, apps, for, , speec...</td>\n",
       "    </tr>\n",
       "  </tbody>\n",
       "</table>\n",
       "</div>"
      ],
      "text/plain": [
       "                                          tweet_text  \\\n",
       "0  .@wesley83 I have a 3G iPhone. After 3 hrs twe...   \n",
       "1  @jessedee Know about @fludapp ? Awesome iPad/i...   \n",
       "2  @swonderlin Can not wait for #iPad 2 also. The...   \n",
       "3  @sxsw I hope this year's festival isn't as cra...   \n",
       "5  @teachntech00 New iPad Apps For #SpeechTherapy...   \n",
       "\n",
       "  emotion_in_tweet_is_directed_at  emotion  \\\n",
       "0                          iPhone        0   \n",
       "1              iPad or iPhone App        1   \n",
       "2                            iPad        1   \n",
       "3              iPad or iPhone App        0   \n",
       "5                             NaN        2   \n",
       "\n",
       "                                    tweet_text_lower  \\\n",
       "0  .@wesley83 i have a 3g iphone. after 3 hrs twe...   \n",
       "1  @jessedee know about @fludapp ? awesome ipad/i...   \n",
       "2  @swonderlin can not wait for #ipad 2 also. the...   \n",
       "3  @sxsw i hope this year's festival isn't as cra...   \n",
       "5  @teachntech00 new ipad apps for #speechtherapy...   \n",
       "\n",
       "                                              tokens  \n",
       "0  [, , wesley83, i, have, a, 3g, iphone, , after...  \n",
       "1  [, jessedee, know, about, , fludapp, , awesome...  \n",
       "2  [, swonderlin, can, not, wait, for, , ipad, 2,...  \n",
       "3  [, sxsw, i, hope, this, year, s, festival, is,...  \n",
       "5  [, teachntech00, new, ipad, apps, for, , speec...  "
      ]
     },
     "execution_count": 45,
     "metadata": {},
     "output_type": "execute_result"
    }
   ],
   "source": [
    "apple_df.head()"
   ]
  },
  {
   "cell_type": "code",
   "execution_count": null,
   "metadata": {},
   "outputs": [],
   "source": []
  },
  {
   "cell_type": "code",
   "execution_count": null,
   "metadata": {},
   "outputs": [],
   "source": []
  },
  {
   "cell_type": "code",
   "execution_count": 46,
   "metadata": {},
   "outputs": [],
   "source": [
    "stop_words = set(stopwords.words('english'))\n",
    "stop_words.update(['sxsw','iphone','ipad','apple','','mention','link','rt','austin'])\n",
    "apple_df['tokens'] = apple_df['tokens'].apply(lambda x : [word for word in x if word.lower() not in stop_words])"
   ]
  },
  {
   "cell_type": "code",
   "execution_count": 47,
   "metadata": {},
   "outputs": [],
   "source": [
    "stop_words = set(stopwords.words('english'))"
   ]
  },
  {
   "cell_type": "code",
   "execution_count": 48,
   "metadata": {},
   "outputs": [
    {
     "data": {
      "text/plain": [
       "set"
      ]
     },
     "execution_count": 48,
     "metadata": {},
     "output_type": "execute_result"
    }
   ],
   "source": [
    "type(stop_words)"
   ]
  },
  {
   "cell_type": "code",
   "execution_count": 49,
   "metadata": {},
   "outputs": [],
   "source": [
    "\n",
    "stop_words.update(['sxsw','iphone','ipad','apple','','mention','link','rt','austin'])"
   ]
  },
  {
   "cell_type": "code",
   "execution_count": 50,
   "metadata": {},
   "outputs": [],
   "source": [
    "# stop_words.add('link')"
   ]
  },
  {
   "cell_type": "code",
   "execution_count": 51,
   "metadata": {},
   "outputs": [],
   "source": [
    "# stop_words = stop_words.append('sxsw','iphone','ipad','apple')"
   ]
  },
  {
   "cell_type": "code",
   "execution_count": 52,
   "metadata": {},
   "outputs": [],
   "source": [
    "apple_df['tokens'] = apple_df['tokens'].apply(lambda x : [word for word in x if word.lower() not in stop_words])"
   ]
  },
  {
   "cell_type": "code",
   "execution_count": 53,
   "metadata": {},
   "outputs": [
    {
     "data": {
      "text/html": [
       "<div>\n",
       "<style scoped>\n",
       "    .dataframe tbody tr th:only-of-type {\n",
       "        vertical-align: middle;\n",
       "    }\n",
       "\n",
       "    .dataframe tbody tr th {\n",
       "        vertical-align: top;\n",
       "    }\n",
       "\n",
       "    .dataframe thead th {\n",
       "        text-align: right;\n",
       "    }\n",
       "</style>\n",
       "<table border=\"1\" class=\"dataframe\">\n",
       "  <thead>\n",
       "    <tr style=\"text-align: right;\">\n",
       "      <th></th>\n",
       "      <th>tweet_text</th>\n",
       "      <th>emotion_in_tweet_is_directed_at</th>\n",
       "      <th>emotion</th>\n",
       "      <th>tweet_text_lower</th>\n",
       "      <th>tokens</th>\n",
       "    </tr>\n",
       "  </thead>\n",
       "  <tbody>\n",
       "    <tr>\n",
       "      <th>0</th>\n",
       "      <td>.@wesley83 I have a 3G iPhone. After 3 hrs twe...</td>\n",
       "      <td>iPhone</td>\n",
       "      <td>0</td>\n",
       "      <td>.@wesley83 i have a 3g iphone. after 3 hrs twe...</td>\n",
       "      <td>[wesley83, 3g, 3, hrs, tweeting, riseaustin, d...</td>\n",
       "    </tr>\n",
       "    <tr>\n",
       "      <th>1</th>\n",
       "      <td>@jessedee Know about @fludapp ? Awesome iPad/i...</td>\n",
       "      <td>iPad or iPhone App</td>\n",
       "      <td>1</td>\n",
       "      <td>@jessedee know about @fludapp ? awesome ipad/i...</td>\n",
       "      <td>[jessedee, know, fludapp, awesome, ipadiphone,...</td>\n",
       "    </tr>\n",
       "    <tr>\n",
       "      <th>2</th>\n",
       "      <td>@swonderlin Can not wait for #iPad 2 also. The...</td>\n",
       "      <td>iPad</td>\n",
       "      <td>1</td>\n",
       "      <td>@swonderlin can not wait for #ipad 2 also. the...</td>\n",
       "      <td>[swonderlin, wait, 2, also, sale]</td>\n",
       "    </tr>\n",
       "    <tr>\n",
       "      <th>3</th>\n",
       "      <td>@sxsw I hope this year's festival isn't as cra...</td>\n",
       "      <td>iPad or iPhone App</td>\n",
       "      <td>0</td>\n",
       "      <td>@sxsw i hope this year's festival isn't as cra...</td>\n",
       "      <td>[hope, year, festival, nt, crashy, year, app]</td>\n",
       "    </tr>\n",
       "    <tr>\n",
       "      <th>5</th>\n",
       "      <td>@teachntech00 New iPad Apps For #SpeechTherapy...</td>\n",
       "      <td>NaN</td>\n",
       "      <td>2</td>\n",
       "      <td>@teachntech00 new ipad apps for #speechtherapy...</td>\n",
       "      <td>[teachntech00, new, apps, speechtherapy, commu...</td>\n",
       "    </tr>\n",
       "  </tbody>\n",
       "</table>\n",
       "</div>"
      ],
      "text/plain": [
       "                                          tweet_text  \\\n",
       "0  .@wesley83 I have a 3G iPhone. After 3 hrs twe...   \n",
       "1  @jessedee Know about @fludapp ? Awesome iPad/i...   \n",
       "2  @swonderlin Can not wait for #iPad 2 also. The...   \n",
       "3  @sxsw I hope this year's festival isn't as cra...   \n",
       "5  @teachntech00 New iPad Apps For #SpeechTherapy...   \n",
       "\n",
       "  emotion_in_tweet_is_directed_at  emotion  \\\n",
       "0                          iPhone        0   \n",
       "1              iPad or iPhone App        1   \n",
       "2                            iPad        1   \n",
       "3              iPad or iPhone App        0   \n",
       "5                             NaN        2   \n",
       "\n",
       "                                    tweet_text_lower  \\\n",
       "0  .@wesley83 i have a 3g iphone. after 3 hrs twe...   \n",
       "1  @jessedee know about @fludapp ? awesome ipad/i...   \n",
       "2  @swonderlin can not wait for #ipad 2 also. the...   \n",
       "3  @sxsw i hope this year's festival isn't as cra...   \n",
       "5  @teachntech00 new ipad apps for #speechtherapy...   \n",
       "\n",
       "                                              tokens  \n",
       "0  [wesley83, 3g, 3, hrs, tweeting, riseaustin, d...  \n",
       "1  [jessedee, know, fludapp, awesome, ipadiphone,...  \n",
       "2                  [swonderlin, wait, 2, also, sale]  \n",
       "3      [hope, year, festival, nt, crashy, year, app]  \n",
       "5  [teachntech00, new, apps, speechtherapy, commu...  "
      ]
     },
     "execution_count": 53,
     "metadata": {},
     "output_type": "execute_result"
    }
   ],
   "source": [
    "apple_df.head()"
   ]
  },
  {
   "cell_type": "code",
   "execution_count": 54,
   "metadata": {},
   "outputs": [],
   "source": [
    "# nltk.download('wordnet')"
   ]
  },
  {
   "cell_type": "code",
   "execution_count": 55,
   "metadata": {},
   "outputs": [],
   "source": [
    "lemmatizer = WordNetLemmatizer()"
   ]
  },
  {
   "cell_type": "code",
   "execution_count": 56,
   "metadata": {},
   "outputs": [],
   "source": [
    "apple_df['tokens'] = apple_df['tokens'].apply(lambda x : [lemmatizer.lemmatize(word) for word in x])"
   ]
  },
  {
   "cell_type": "code",
   "execution_count": 57,
   "metadata": {},
   "outputs": [
    {
     "data": {
      "text/plain": [
       "0    [wesley83, 3g, 3, hr, tweeting, riseaustin, de...\n",
       "1    [jessedee, know, fludapp, awesome, ipadiphone,...\n",
       "2                    [swonderlin, wait, 2, also, sale]\n",
       "3        [hope, year, festival, nt, crashy, year, app]\n",
       "5    [teachntech00, new, apps, speechtherapy, commu...\n",
       "Name: tokens, dtype: object"
      ]
     },
     "execution_count": 57,
     "metadata": {},
     "output_type": "execute_result"
    }
   ],
   "source": [
    "apple_df['tokens'].head()"
   ]
  },
  {
   "cell_type": "code",
   "execution_count": 58,
   "metadata": {},
   "outputs": [
    {
     "name": "stdout",
     "output_type": "stream",
     "text": [
      "<class 'pandas.core.frame.DataFrame'>\n",
      "Index: 5587 entries, 0 to 9091\n",
      "Data columns (total 5 columns):\n",
      " #   Column                           Non-Null Count  Dtype \n",
      "---  ------                           --------------  ----- \n",
      " 0   tweet_text                       5587 non-null   object\n",
      " 1   emotion_in_tweet_is_directed_at  2412 non-null   object\n",
      " 2   emotion                          5587 non-null   int64 \n",
      " 3   tweet_text_lower                 5587 non-null   object\n",
      " 4   tokens                           5587 non-null   object\n",
      "dtypes: int64(1), object(4)\n",
      "memory usage: 261.9+ KB\n"
     ]
    }
   ],
   "source": [
    "apple_df.info()"
   ]
  },
  {
   "cell_type": "markdown",
   "metadata": {
    "jp-MarkdownHeadingCollapsed": true
   },
   "source": [
    "### Sentiment TextBlob vs VADER"
   ]
  },
  {
   "cell_type": "code",
   "execution_count": 59,
   "metadata": {},
   "outputs": [],
   "source": [
    "# pip install textblob\n",
    "from textblob import TextBlob\n",
    "apple_df['sentiment'] = apple_df['tweet_text'].apply(lambda x : TextBlob(x).sentiment.polarity)"
   ]
  },
  {
   "cell_type": "code",
   "execution_count": 60,
   "metadata": {},
   "outputs": [
    {
     "data": {
      "text/plain": [
       "0   -0.250000\n",
       "1    0.466667\n",
       "2   -0.155556\n",
       "3    0.000000\n",
       "5    0.136364\n",
       "Name: sentiment, dtype: float64"
      ]
     },
     "execution_count": 60,
     "metadata": {},
     "output_type": "execute_result"
    }
   ],
   "source": [
    "apple_df['sentiment'].head()"
   ]
  },
  {
   "cell_type": "markdown",
   "metadata": {
    "jp-MarkdownHeadingCollapsed": true
   },
   "source": [
    "### To control words in dataframes"
   ]
  },
  {
   "cell_type": "code",
   "execution_count": 152,
   "metadata": {},
   "outputs": [],
   "source": [
    "# Load csv file to a DataFrame\n",
    "df = pd.read_csv(\"data/tweet_product_company.csv\", encoding = 'latin-1')\n",
    "# To filter in tweets mentioning apple related products\n",
    "df['tweet_text_lower'] = df['tweet_text'].str.lower()\n",
    "apple_related = 'ipad|apple|iphone|itunes' # filter condition\n",
    "df.dropna(subset=['tweet_text'], inplace=True) # droping out na\n",
    "apple_df = df[df['tweet_text_lower'].str.contains(apple_related)].copy() # filtered\n",
    "apple_df.drop_duplicates(inplace=True) # remove duplicated\n",
    "\n",
    "# Sentiment analysis by TextBlob\n",
    "# pip install textblob\n",
    "from textblob import TextBlob\n",
    "apple_df['sentiment'] = apple_df['tweet_text'].apply(lambda x : TextBlob(x).sentiment.polarity)\n",
    "\n",
    "# Rename a column\n",
    "apple_df.rename(columns={\"is_there_an_emotion_directed_at_a_brand_or_product\": \"emotion\"}, inplace=True)\n",
    "\n",
    "import pandas as pd\n",
    "import nltk\n",
    "from nltk.corpus import stopwords\n",
    "from nltk.tokenize import word_tokenize\n",
    "from nltk.stem import WordNetLemmatizer\n",
    "\n",
    "# tokenize\n",
    "apple_df['tokens'] = df['tweet_text'].apply(word_tokenize)\n",
    "# lowring case\n",
    "apple_df['tokens'] = apple_df['tokens'].apply(lambda x: [word.lower() for word in x])\n",
    "# remove punctuation\n",
    "import string\n",
    "apple_df['tokens'] = apple_df['tokens'].apply(lambda x: \n",
    "                                              [word.translate(str.maketrans('', '', string.punctuation)) \n",
    "                                               for word in x])\n",
    "\n",
    "\n",
    "\n",
    "\n",
    "### stop words\n",
    "stop_words = set(stopwords.words('english'))\n",
    "stop_words.update(['sxsw','iphone','ipad','apple','','mention','link','rt','austin','store','2','quot','popup'])\n",
    "apple_df['tokens'] = apple_df['tokens'].apply(lambda x : [word for word in x if word.lower() not in stop_words])\n",
    "\n",
    "# lemmy\n",
    "lemmatizer = WordNetLemmatizer()\n",
    "apple_df['tokens'] = apple_df['tokens'].apply(lambda x : [lemmatizer.lemmatize(word) for word in x])\n"
   ]
  },
  {
   "cell_type": "code",
   "execution_count": 153,
   "metadata": {},
   "outputs": [],
   "source": [
    "df_pos = apple_df[apple_df['sentiment'] > 0]\n",
    "df_neg = apple_df[apple_df['sentiment'] < 0]\n",
    "df_neut = apple_df[apple_df['sentiment'] == 0]"
   ]
  },
  {
   "cell_type": "markdown",
   "metadata": {
    "jp-MarkdownHeadingCollapsed": true
   },
   "source": [
    "### FreqDist plots"
   ]
  },
  {
   "cell_type": "code",
   "execution_count": 154,
   "metadata": {},
   "outputs": [],
   "source": [
    "df_pos = apple_df[apple_df['sentiment'] > 0]\n",
    "df_neg = apple_df[apple_df['sentiment'] < 0]\n",
    "df_neut = apple_df[apple_df['sentiment'] == 0]"
   ]
  },
  {
   "cell_type": "code",
   "execution_count": 155,
   "metadata": {},
   "outputs": [],
   "source": [
    "word_pos = nltk.FreqDist([word for tokens in df_pos['tokens'] for word in tokens])\n",
    "word_neg = nltk.FreqDist([word for tokens in df_neg['tokens'] for word in tokens])\n",
    "word_neut = nltk.FreqDist([word for tokens in df_neut['tokens'] for word in tokens])"
   ]
  },
  {
   "cell_type": "code",
   "execution_count": 157,
   "metadata": {},
   "outputs": [
    {
     "data": {
      "image/png": "[encoded data removed]",
      "text/plain": [
       "<Figure size 1200x600 with 3 Axes>"
      ]
     },
     "metadata": {},
     "output_type": "display_data"
    }
   ],
   "source": [
    "import matplotlib.pyplot as plt\n",
    "\n",
    "# Assuming you have already calculated the word frequencies using nltk.FreqDist\n",
    "# word_pos, word_neg, word_neut are the FreqDist objects\n",
    "\n",
    "# Get the top N words from each FreqDist object\n",
    "top_n = 20  # Number of top words to display\n",
    "top_words_pos = word_pos.most_common(top_n)\n",
    "top_words_neg = word_neg.most_common(top_n)\n",
    "top_words_neut = word_neut.most_common(top_n)\n",
    "\n",
    "# Extract the words and frequencies from the top word lists, and reverse the order\n",
    "words_pos, freqs_pos = zip(*reversed(top_words_pos))\n",
    "words_neg, freqs_neg = zip(*reversed(top_words_neg))\n",
    "words_neut, freqs_neut = zip(*reversed(top_words_neut))\n",
    "\n",
    "# Plotting the word frequencies side by side\n",
    "plt.figure(figsize=(12, 6))\n",
    "\n",
    "# Plot for positive sentiment\n",
    "plt.subplot(1, 3, 1)\n",
    "plt.barh(range(len(words_pos)), freqs_pos, align='center')\n",
    "plt.yticks(range(len(words_pos)), words_pos)\n",
    "plt.xlabel('Frequency')\n",
    "plt.title('Top Words - Positive Sentiment')\n",
    "\n",
    "# Plot for negative sentiment\n",
    "plt.subplot(1, 3, 2)\n",
    "plt.barh(range(len(words_neg)), freqs_neg, align='center')\n",
    "plt.yticks(range(len(words_neg)), words_neg)\n",
    "plt.xlabel('Frequency')\n",
    "plt.title('Top Words - Negative Sentiment')\n",
    "\n",
    "# Plot for neutral sentiment\n",
    "plt.subplot(1, 3, 3)\n",
    "plt.barh(range(len(words_neut)), freqs_neut, align='center')\n",
    "plt.yticks(range(len(words_neut)), words_neut)\n",
    "plt.xlabel('Frequency')\n",
    "plt.title('Top Words - Neutral Sentiment')\n",
    "\n",
    "plt.tight_layout()\n",
    "plt.show()"
   ]
  },
  {
   "cell_type": "markdown",
   "metadata": {
    "jp-MarkdownHeadingCollapsed": true
   },
   "source": [
    "### Topic Modeling with Latent Dirichlet Allocation"
   ]
  },
  {
   "cell_type": "markdown",
   "metadata": {},
   "source": [
    "#### comparing number of rows of pos, neg, neut"
   ]
  },
  {
   "cell_type": "code",
   "execution_count": 76,
   "metadata": {},
   "outputs": [
    {
     "name": "stdout",
     "output_type": "stream",
     "text": [
      "<class 'pandas.core.frame.DataFrame'>\n",
      "Index: 793 entries, 0 to 9091\n",
      "Data columns (total 6 columns):\n",
      " #   Column                           Non-Null Count  Dtype  \n",
      "---  ------                           --------------  -----  \n",
      " 0   tweet_text                       793 non-null    object \n",
      " 1   emotion_in_tweet_is_directed_at  338 non-null    object \n",
      " 2   emotion                          793 non-null    int64  \n",
      " 3   tweet_text_lower                 793 non-null    object \n",
      " 4   tokens                           793 non-null    object \n",
      " 5   sentiment                        793 non-null    float64\n",
      "dtypes: float64(1), int64(1), object(4)\n",
      "memory usage: 43.4+ KB\n"
     ]
    }
   ],
   "source": [
    "df_neg.info()"
   ]
  },
  {
   "cell_type": "code",
   "execution_count": 84,
   "metadata": {},
   "outputs": [
    {
     "data": {
      "text/plain": [
       "793"
      ]
     },
     "execution_count": 84,
     "metadata": {},
     "output_type": "execute_result"
    }
   ],
   "source": [
    "len(df_neg)"
   ]
  },
  {
   "cell_type": "code",
   "execution_count": 93,
   "metadata": {},
   "outputs": [
    {
     "data": {
      "image/png": "[encoded data removed]",
      "text/plain": [
       "<Figure size 640x480 with 1 Axes>"
      ]
     },
     "metadata": {},
     "output_type": "display_data"
    }
   ],
   "source": [
    "# Compare number of rows of each dataframes\n",
    "sns.set_context('talk')\n",
    "num_rows_neg = len(df_neg)\n",
    "num_rows_pos = len(df_pos)\n",
    "num_rows_neut = len(df_neut)\n",
    "\n",
    "dataframe_names = ['Negative', 'Positive', 'Neutral']\n",
    "row_counts = [num_rows_neg, num_rows_pos, num_rows_neut]\n",
    "\n",
    "plt.bar(dataframe_names, row_counts)\n",
    "plt.xlabel('Dataframe')\n",
    "plt.ylabel('Number of Rows')\n",
    "plt.title('Number of Rows in Each Dataframe')\n",
    "\n",
    "# Add counts on top of each bar\n",
    "# for i, count in enumerate(row_counts):\n",
    "    # plt.text(i, count, str(count), ha='center', va='bottom')\n",
    "\n",
    "# Add counts on top of each bar\n",
    "plt.bar_label(plt.bar(dataframe_names, row_counts), fmt='%d', label_type='center')\n",
    "\n",
    "plt.show()"
   ]
  },
  {
   "cell_type": "code",
   "execution_count": 158,
   "metadata": {},
   "outputs": [
    {
     "data": {
      "text/plain": [
       "0.14193663862538033"
      ]
     },
     "execution_count": 158,
     "metadata": {},
     "output_type": "execute_result"
    }
   ],
   "source": [
    "793/(793+2685+2109)"
   ]
  },
  {
   "cell_type": "code",
   "execution_count": 159,
   "metadata": {},
   "outputs": [
    {
     "data": {
      "text/plain": [
       "0.4812958654018257"
      ]
     },
     "execution_count": 159,
     "metadata": {},
     "output_type": "execute_result"
    }
   ],
   "source": [
    "2689/(793+2685+2109)"
   ]
  },
  {
   "cell_type": "code",
   "execution_count": 160,
   "metadata": {},
   "outputs": [
    {
     "data": {
      "text/plain": [
       "0.37748344370860926"
      ]
     },
     "execution_count": 160,
     "metadata": {},
     "output_type": "execute_result"
    }
   ],
   "source": [
    "2109/(793+2685+2109)"
   ]
  },
  {
   "cell_type": "markdown",
   "metadata": {},
   "source": [
    "#### train test split and vectorizaion"
   ]
  },
  {
   "cell_type": "code",
   "execution_count": 94,
   "metadata": {},
   "outputs": [],
   "source": [
    "import pandas as pd\n",
    "from sklearn.model_selection import train_test_split\n",
    "from sklearn.feature_extraction.text import CountVectorizer\n",
    "from sklearn.decomposition import LatentDirichletAllocation"
   ]
  },
  {
   "cell_type": "code",
   "execution_count": 109,
   "metadata": {},
   "outputs": [],
   "source": [
    "# Load csv file to a DataFrame\n",
    "df = pd.read_csv(\"data/tweet_product_company.csv\", encoding = 'latin-1')\n",
    "# To filter in tweets mentioning apple related products\n",
    "df['tweet_text_lower'] = df['tweet_text'].str.lower()\n",
    "apple_related = 'ipad|apple|iphone|itunes' # filter condition\n",
    "df.dropna(subset=['tweet_text'], inplace=True) # droping out na\n",
    "apple_df = df[df['tweet_text_lower'].str.contains(apple_related)].copy() # filtered\n",
    "apple_df.drop_duplicates(inplace=True) # remove duplicated\n",
    "\n",
    "# Sentiment analysis by TextBlob\n",
    "# pip install textblob\n",
    "from textblob import TextBlob\n",
    "apple_df['sentiment'] = apple_df['tweet_text'].apply(lambda x : TextBlob(x).sentiment.polarity)\n",
    "\n",
    "# Rename a column\n",
    "apple_df.rename(columns={\"is_there_an_emotion_directed_at_a_brand_or_product\": \"emotion\"}, inplace=True)\n",
    "\n",
    "import pandas as pd\n",
    "import nltk\n",
    "from nltk.corpus import stopwords\n",
    "from nltk.tokenize import word_tokenize\n",
    "from nltk.stem import WordNetLemmatizer\n",
    "\n",
    "# tokenize\n",
    "apple_df['tokens'] = df['tweet_text'].apply(word_tokenize)\n",
    "# lowring case\n",
    "apple_df['tokens'] = apple_df['tokens'].apply(lambda x: [word.lower() for word in x])\n",
    "# remove punctuation\n",
    "import string\n",
    "apple_df['tokens'] = apple_df['tokens'].apply(lambda x: \n",
    "                                              [word.translate(str.maketrans('', '', string.punctuation)) \n",
    "                                               for word in x])\n",
    "\n",
    "\n",
    "\n",
    "\n",
    "### stop words\n",
    "stop_words = set(stopwords.words('english'))\n",
    "# stop_words.update(['sxsw','iphone','ipad','apple','','mention','link','rt','austin'])\n",
    "apple_df['tokens'] = apple_df['tokens'].apply(lambda x : [word for word in x if word.lower() not in stop_words])\n",
    "\n",
    "# lemmy\n",
    "lemmatizer = WordNetLemmatizer()\n",
    "apple_df['tokens'] = apple_df['tokens'].apply(lambda x : [lemmatizer.lemmatize(word) for word in x])\n"
   ]
  },
  {
   "cell_type": "code",
   "execution_count": 111,
   "metadata": {},
   "outputs": [
    {
     "name": "stdout",
     "output_type": "stream",
     "text": [
      "Log-Likelihood: -49400.66571647136\n",
      "Perplexity: 2370.997109579918\n",
      "Topic 1: eventseekr maven seriousness cap cheese prob technopriest irl first forbes\n",
      "Topic 2: eventseekr irl maven seriousness spring tweetcaster drawing except teo wearing\n",
      "Topic 3: eventseekr maven irl seriousness cheese except prob somebody loose technopriest\n",
      "Topic 4: eventseekr seriousness cheese tvontheradio hmmm prob maven irl live except\n",
      "Topic 5: eventseekr seriousness hmmm prob maven cheese cap irl bd technopriest\n"
     ]
    }
   ],
   "source": [
    "train_df, test_df = train_test_split(df_pos, test_size=0.2, random_state=42)\n",
    "\n",
    "train_data = train_df['tokens'].apply(lambda tokens: ' '.join(tokens))\n",
    "test_data = test_df['tokens'].apply(lambda tokens: ' '.join(tokens))\n",
    "\n",
    "vectorizer = CountVectorizer()\n",
    "train_vectorized = vectorizer.fit_transform(train_data)\n",
    "test_vectorized = vectorizer.transform(test_data)\n",
    "\n",
    "num_topics = 5  # Specify the desired number of topics\n",
    "lda = LatentDirichletAllocation(n_components=num_topics, random_state=42)\n",
    "lda.fit(train_vectorized)\n",
    "\n",
    "log_likelihood = lda.score(test_vectorized)\n",
    "perplexity = lda.perplexity(test_vectorized)\n",
    "print(f'Log-Likelihood: {log_likelihood}')\n",
    "print(f'Perplexity: {perplexity}')\n",
    "\n",
    "feature_names = list(vectorizer.vocabulary_.keys())\n",
    "top_words = 10  # Specify the number of top words to display for each topic\n",
    "\n",
    "for topic_idx, topic in enumerate(lda.components_):\n",
    "    top_words_indices = topic.argsort()[:-top_words - 1:-1]\n",
    "    top_words_list = [feature_names[i] for i in top_words_indices]\n",
    "    print(f'Topic {topic_idx + 1}: {\" \".join(top_words_list)}')"
   ]
  },
  {
   "cell_type": "markdown",
   "metadata": {},
   "source": [
    "#### After updating stopwords"
   ]
  },
  {
   "cell_type": "code",
   "execution_count": 112,
   "metadata": {},
   "outputs": [],
   "source": [
    "# Load csv file to a DataFrame\n",
    "df = pd.read_csv(\"data/tweet_product_company.csv\", encoding = 'latin-1')\n",
    "# To filter in tweets mentioning apple related products\n",
    "df['tweet_text_lower'] = df['tweet_text'].str.lower()\n",
    "apple_related = 'ipad|apple|iphone|itunes' # filter condition\n",
    "df.dropna(subset=['tweet_text'], inplace=True) # droping out na\n",
    "apple_df = df[df['tweet_text_lower'].str.contains(apple_related)].copy() # filtered\n",
    "apple_df.drop_duplicates(inplace=True) # remove duplicated\n",
    "\n",
    "# Sentiment analysis by TextBlob\n",
    "# pip install textblob\n",
    "from textblob import TextBlob\n",
    "apple_df['sentiment'] = apple_df['tweet_text'].apply(lambda x : TextBlob(x).sentiment.polarity)\n",
    "\n",
    "# Rename a column\n",
    "apple_df.rename(columns={\"is_there_an_emotion_directed_at_a_brand_or_product\": \"emotion\"}, inplace=True)\n",
    "\n",
    "import pandas as pd\n",
    "import nltk\n",
    "from nltk.corpus import stopwords\n",
    "from nltk.tokenize import word_tokenize\n",
    "from nltk.stem import WordNetLemmatizer\n",
    "\n",
    "# tokenize\n",
    "apple_df['tokens'] = df['tweet_text'].apply(word_tokenize)\n",
    "# lowring case\n",
    "apple_df['tokens'] = apple_df['tokens'].apply(lambda x: [word.lower() for word in x])\n",
    "# remove punctuation\n",
    "import string\n",
    "apple_df['tokens'] = apple_df['tokens'].apply(lambda x: \n",
    "                                              [word.translate(str.maketrans('', '', string.punctuation)) \n",
    "                                               for word in x])\n",
    "\n",
    "\n",
    "\n",
    "\n",
    "### stop words\n",
    "stop_words = set(stopwords.words('english'))\n",
    "stop_words.update(['sxsw','iphone','ipad','apple','','mention','link','rt','austin'])\n",
    "apple_df['tokens'] = apple_df['tokens'].apply(lambda x : [word for word in x if word.lower() not in stop_words])\n",
    "\n",
    "# lemmy\n",
    "lemmatizer = WordNetLemmatizer()\n",
    "apple_df['tokens'] = apple_df['tokens'].apply(lambda x : [lemmatizer.lemmatize(word) for word in x])\n"
   ]
  },
  {
   "cell_type": "code",
   "execution_count": 113,
   "metadata": {},
   "outputs": [],
   "source": [
    "df_pos = apple_df[apple_df['sentiment'] > 0]\n",
    "df_neg = apple_df[apple_df['sentiment'] < 0]\n",
    "df_neut = apple_df[apple_df['sentiment'] == 0]"
   ]
  },
  {
   "cell_type": "code",
   "execution_count": 114,
   "metadata": {},
   "outputs": [
    {
     "name": "stdout",
     "output_type": "stream",
     "text": [
      "Log-Likelihood: -40836.364206959704\n",
      "Perplexity: 11812.24395703759\n",
      "Topic 1: mktg uberguide teletubbie tvontheradio go2 yay bob fix immersive career\n",
      "Topic 2: bd nexus yay career bob cheese mktg an asd uberguide\n",
      "Topic 3: yay uberguide tvontheradio wp7dev kudos loathe agreed serve retweet nexus\n",
      "Topic 4: bob noniphone resource asd uberguide clean tvontheradio yay favorited mindshare\n",
      "Topic 5: tvontheradio noniphone mommy yay uberguide bob diller cheese syncs announced\n"
     ]
    }
   ],
   "source": [
    "train_df, test_df = train_test_split(df_pos, test_size=0.2, random_state=42)\n",
    "\n",
    "train_data = train_df['tokens'].apply(lambda tokens: ' '.join(tokens))\n",
    "test_data = test_df['tokens'].apply(lambda tokens: ' '.join(tokens))\n",
    "\n",
    "vectorizer = CountVectorizer()\n",
    "train_vectorized = vectorizer.fit_transform(train_data)\n",
    "test_vectorized = vectorizer.transform(test_data)\n",
    "\n",
    "num_topics = 5  # Specify the desired number of topics\n",
    "lda = LatentDirichletAllocation(n_components=num_topics, random_state=42)\n",
    "lda.fit(train_vectorized)\n",
    "\n",
    "log_likelihood = lda.score(test_vectorized)\n",
    "perplexity = lda.perplexity(test_vectorized)\n",
    "print(f'Log-Likelihood: {log_likelihood}')\n",
    "print(f'Perplexity: {perplexity}')\n",
    "\n",
    "feature_names = list(vectorizer.vocabulary_.keys())\n",
    "top_words = 10  # Specify the number of top words to display for each topic\n",
    "\n",
    "for topic_idx, topic in enumerate(lda.components_):\n",
    "    top_words_indices = topic.argsort()[:-top_words - 1:-1]\n",
    "    top_words_list = [feature_names[i] for i in top_words_indices]\n",
    "    print(f'Topic {topic_idx + 1}: {\" \".join(top_words_list)}')"
   ]
  },
  {
   "cell_type": "markdown",
   "metadata": {},
   "source": [
    "#### df_neg"
   ]
  },
  {
   "cell_type": "code",
   "execution_count": 118,
   "metadata": {},
   "outputs": [],
   "source": [
    "# Load csv file to a DataFrame\n",
    "df = pd.read_csv(\"data/tweet_product_company.csv\", encoding = 'latin-1')\n",
    "# To filter in tweets mentioning apple related products\n",
    "df['tweet_text_lower'] = df['tweet_text'].str.lower()\n",
    "apple_related = 'ipad|apple|iphone|itunes' # filter condition\n",
    "df.dropna(subset=['tweet_text'], inplace=True) # droping out na\n",
    "apple_df = df[df['tweet_text_lower'].str.contains(apple_related)].copy() # filtered\n",
    "apple_df.drop_duplicates(inplace=True) # remove duplicated\n",
    "\n",
    "# Sentiment analysis by TextBlob\n",
    "# pip install textblob\n",
    "from textblob import TextBlob\n",
    "apple_df['sentiment'] = apple_df['tweet_text'].apply(lambda x : TextBlob(x).sentiment.polarity)\n",
    "\n",
    "# Rename a column\n",
    "apple_df.rename(columns={\"is_there_an_emotion_directed_at_a_brand_or_product\": \"emotion\"}, inplace=True)\n",
    "\n",
    "import pandas as pd\n",
    "import nltk\n",
    "from nltk.corpus import stopwords\n",
    "from nltk.tokenize import word_tokenize\n",
    "from nltk.stem import WordNetLemmatizer\n",
    "\n",
    "# tokenize\n",
    "apple_df['tokens'] = df['tweet_text'].apply(word_tokenize)\n",
    "# lowring case\n",
    "apple_df['tokens'] = apple_df['tokens'].apply(lambda x: [word.lower() for word in x])\n",
    "# remove punctuation\n",
    "import string\n",
    "apple_df['tokens'] = apple_df['tokens'].apply(lambda x: \n",
    "                                              [word.translate(str.maketrans('', '', string.punctuation)) \n",
    "                                               for word in x])\n",
    "\n",
    "\n",
    "\n",
    "\n",
    "### stop words\n",
    "stop_words = set(stopwords.words('english'))\n",
    "stop_words.update(['sxsw','iphone','ipad','apple','','mention','link','rt','austin'])\n",
    "apple_df['tokens'] = apple_df['tokens'].apply(lambda x : [word for word in x if word.lower() not in stop_words])\n",
    "\n",
    "# lemmy\n",
    "lemmatizer = WordNetLemmatizer()\n",
    "apple_df['tokens'] = apple_df['tokens'].apply(lambda x : [lemmatizer.lemmatize(word) for word in x])\n"
   ]
  },
  {
   "cell_type": "code",
   "execution_count": 119,
   "metadata": {},
   "outputs": [],
   "source": [
    "df_pos = apple_df[apple_df['sentiment'] > 0]\n",
    "df_neg = apple_df[apple_df['sentiment'] < 0]\n",
    "df_neut = apple_df[apple_df['sentiment'] == 0]"
   ]
  },
  {
   "cell_type": "code",
   "execution_count": 120,
   "metadata": {},
   "outputs": [
    {
     "name": "stdout",
     "output_type": "stream",
     "text": [
      "Log-Likelihood: -11408.662907833655\n",
      "Perplexity: 26537.289338123177\n",
      "Topic 1: far peeked typing tv left ipad1 congress techcrunch demand iamagameshater\n",
      "Topic 2: group saving io demand people antonio iamagameshater typing consider little\n",
      "Topic 3: large group cart mindjet consider far closer friday peeked flash\n",
      "Topic 4: far tv figured people living left six typing waited deep\n",
      "Topic 5: far tv typing peeked ha mindjet whole left block investor\n"
     ]
    }
   ],
   "source": [
    "train_df, test_df = train_test_split(df_neg, test_size=0.2, random_state=42)\n",
    "\n",
    "train_data = train_df['tokens'].apply(lambda tokens: ' '.join(tokens))\n",
    "test_data = test_df['tokens'].apply(lambda tokens: ' '.join(tokens))\n",
    "\n",
    "vectorizer = CountVectorizer()\n",
    "train_vectorized = vectorizer.fit_transform(train_data)\n",
    "test_vectorized = vectorizer.transform(test_data)\n",
    "\n",
    "num_topics = 5  # Specify the desired number of topics\n",
    "lda = LatentDirichletAllocation(n_components=num_topics, random_state=42)\n",
    "lda.fit(train_vectorized)\n",
    "\n",
    "log_likelihood = lda.score(test_vectorized)\n",
    "perplexity = lda.perplexity(test_vectorized)\n",
    "print(f'Log-Likelihood: {log_likelihood}')\n",
    "print(f'Perplexity: {perplexity}')\n",
    "\n",
    "feature_names = list(vectorizer.vocabulary_.keys())\n",
    "top_words = 10  # Specify the number of top words to display for each topic\n",
    "\n",
    "for topic_idx, topic in enumerate(lda.components_):\n",
    "    top_words_indices = topic.argsort()[:-top_words - 1:-1]\n",
    "    top_words_list = [feature_names[i] for i in top_words_indices]\n",
    "    print(f'Topic {topic_idx + 1}: {\" \".join(top_words_list)}')"
   ]
  },
  {
   "cell_type": "markdown",
   "metadata": {},
   "source": [
    "#### df_neut"
   ]
  },
  {
   "cell_type": "code",
   "execution_count": 121,
   "metadata": {},
   "outputs": [],
   "source": [
    "# Load csv file to a DataFrame\n",
    "df = pd.read_csv(\"data/tweet_product_company.csv\", encoding = 'latin-1')\n",
    "# To filter in tweets mentioning apple related products\n",
    "df['tweet_text_lower'] = df['tweet_text'].str.lower()\n",
    "apple_related = 'ipad|apple|iphone|itunes' # filter condition\n",
    "df.dropna(subset=['tweet_text'], inplace=True) # droping out na\n",
    "apple_df = df[df['tweet_text_lower'].str.contains(apple_related)].copy() # filtered\n",
    "apple_df.drop_duplicates(inplace=True) # remove duplicated\n",
    "\n",
    "# Sentiment analysis by TextBlob\n",
    "# pip install textblob\n",
    "from textblob import TextBlob\n",
    "apple_df['sentiment'] = apple_df['tweet_text'].apply(lambda x : TextBlob(x).sentiment.polarity)\n",
    "\n",
    "# Rename a column\n",
    "apple_df.rename(columns={\"is_there_an_emotion_directed_at_a_brand_or_product\": \"emotion\"}, inplace=True)\n",
    "\n",
    "import pandas as pd\n",
    "import nltk\n",
    "from nltk.corpus import stopwords\n",
    "from nltk.tokenize import word_tokenize\n",
    "from nltk.stem import WordNetLemmatizer\n",
    "\n",
    "# tokenize\n",
    "apple_df['tokens'] = df['tweet_text'].apply(word_tokenize)\n",
    "# lowring case\n",
    "apple_df['tokens'] = apple_df['tokens'].apply(lambda x: [word.lower() for word in x])\n",
    "# remove punctuation\n",
    "import string\n",
    "apple_df['tokens'] = apple_df['tokens'].apply(lambda x: \n",
    "                                              [word.translate(str.maketrans('', '', string.punctuation)) \n",
    "                                               for word in x])\n",
    "\n",
    "\n",
    "\n",
    "\n",
    "### stop words\n",
    "stop_words = set(stopwords.words('english'))\n",
    "stop_words.update(['sxsw','iphone','ipad','apple','','mention','link','rt','austin'])\n",
    "apple_df['tokens'] = apple_df['tokens'].apply(lambda x : [word for word in x if word.lower() not in stop_words])\n",
    "\n",
    "# lemmy\n",
    "lemmatizer = WordNetLemmatizer()\n",
    "apple_df['tokens'] = apple_df['tokens'].apply(lambda x : [lemmatizer.lemmatize(word) for word in x])\n"
   ]
  },
  {
   "cell_type": "code",
   "execution_count": 122,
   "metadata": {},
   "outputs": [],
   "source": [
    "df_pos = apple_df[apple_df['sentiment'] > 0]\n",
    "df_neg = apple_df[apple_df['sentiment'] < 0]\n",
    "df_neut = apple_df[apple_df['sentiment'] == 0]"
   ]
  },
  {
   "cell_type": "code",
   "execution_count": 123,
   "metadata": {},
   "outputs": [
    {
     "name": "stdout",
     "output_type": "stream",
     "text": [
      "Log-Likelihood: -24881.118440237224\n",
      "Perplexity: 11029.316838718316\n",
      "Topic 1: bbc prize coolest opera garage spoke virtual various check solving\n",
      "Topic 2: doingitwrong prize local sunday fighting spoke coolest visa il track\n",
      "Topic 3: doingitwrong prize nelson bruise ridculous coverage forgotten leanstartup mpact garage\n",
      "Topic 4: boom hour check four fire guide tokyo select ubuntu truly\n",
      "Topic 5: specific check served two ala coolest fashion midbattery hooker virtual\n"
     ]
    }
   ],
   "source": [
    "train_df, test_df = train_test_split(df_neut, test_size=0.2, random_state=42)\n",
    "\n",
    "train_data = train_df['tokens'].apply(lambda tokens: ' '.join(tokens))\n",
    "test_data = test_df['tokens'].apply(lambda tokens: ' '.join(tokens))\n",
    "\n",
    "vectorizer = CountVectorizer()\n",
    "train_vectorized = vectorizer.fit_transform(train_data)\n",
    "test_vectorized = vectorizer.transform(test_data)\n",
    "\n",
    "num_topics = 5  # Specify the desired number of topics\n",
    "lda = LatentDirichletAllocation(n_components=num_topics, random_state=42)\n",
    "lda.fit(train_vectorized)\n",
    "\n",
    "log_likelihood = lda.score(test_vectorized)\n",
    "perplexity = lda.perplexity(test_vectorized)\n",
    "print(f'Log-Likelihood: {log_likelihood}')\n",
    "print(f'Perplexity: {perplexity}')\n",
    "\n",
    "feature_names = list(vectorizer.vocabulary_.keys())\n",
    "top_words = 10  # Specify the number of top words to display for each topic\n",
    "\n",
    "for topic_idx, topic in enumerate(lda.components_):\n",
    "    top_words_indices = topic.argsort()[:-top_words - 1:-1]\n",
    "    top_words_list = [feature_names[i] for i in top_words_indices]\n",
    "    print(f'Topic {topic_idx + 1}: {\" \".join(top_words_list)}')"
   ]
  },
  {
   "cell_type": "markdown",
   "metadata": {},
   "source": [
    "# Testing clean data from ht"
   ]
  },
  {
   "cell_type": "code",
   "execution_count": 61,
   "metadata": {},
   "outputs": [],
   "source": [
    "import re\n",
    "import unicodedata\n",
    "from nltk.corpus import stopwords\n",
    "def clean_tweet(text):\n",
    "    # Remove hashtags (words starting with '#')\n",
    "    text = re.sub(r'#\\w+', '', text)\n",
    "    \n",
    "    # Handle RT tags\n",
    "    text = re.sub(r'[Rr][Tt]', '', text)\n",
    "    \n",
    "    # Remove mentions (words starting with '@')\n",
    "    text = re.sub(r'@\\w+', '', text)\n",
    "\n",
    "    # Remove URLs\n",
    "    text = re.sub(r'http\\S+|www\\S+|https\\S+', '', text)\n",
    "\n",
    "    # Remove non-ASCII characters\n",
    "    text = unicodedata.normalize('NFKD', text).encode('ascii', 'ignore').decode('utf-8')\n",
    "        \n",
    "    # Remove special characters and numbers not adjacent to text\n",
    "    text = re.sub(r'\\b\\d+\\b', '', text)\n",
    "\n",
    "    text = re.sub(r'[^\\w\\s]', '', text)  # Remove special characters\n",
    "    text = re.sub(r'\\s+', ' ', text)     # Remove extra spaces\n",
    "    \n",
    "    # Remove stopwords\n",
    "    stop_words = set(stopwords.words('english'))\n",
    "    cleaned_text = [word for word in text.split() if word not in stop_words]\n",
    "\n",
    "    # Unique words to remove, add more as needed\n",
    "    words_to_remove = ['Austin', 'Link', 'Sxsw', 'sxsw']\n",
    "\n",
    "    for word in words_to_remove:\n",
    "        cleaned_text = [w for w in cleaned_text if not re.match(r'\\b{}\\b'.format(word), w, flags=re.IGNORECASE)]\n",
    "\n",
    "    return ' '.join(cleaned_text)"
   ]
  },
  {
   "cell_type": "code",
   "execution_count": 62,
   "metadata": {
    "scrolled": true
   },
   "outputs": [
    {
     "data": {
      "text/html": [
       "<div>\n",
       "<style scoped>\n",
       "    .dataframe tbody tr th:only-of-type {\n",
       "        vertical-align: middle;\n",
       "    }\n",
       "\n",
       "    .dataframe tbody tr th {\n",
       "        vertical-align: top;\n",
       "    }\n",
       "\n",
       "    .dataframe thead th {\n",
       "        text-align: right;\n",
       "    }\n",
       "</style>\n",
       "<table border=\"1\" class=\"dataframe\">\n",
       "  <thead>\n",
       "    <tr style=\"text-align: right;\">\n",
       "      <th></th>\n",
       "      <th>tweet_text</th>\n",
       "      <th>emotion_in_tweet_is_directed_at</th>\n",
       "      <th>emotion</th>\n",
       "      <th>tweet_text_lower</th>\n",
       "      <th>tokens</th>\n",
       "      <th>sentiment</th>\n",
       "      <th>cleaned_tweet</th>\n",
       "    </tr>\n",
       "  </thead>\n",
       "  <tbody>\n",
       "    <tr>\n",
       "      <th>0</th>\n",
       "      <td>.@wesley83 I have a 3G iPhone. After 3 hrs twe...</td>\n",
       "      <td>iPhone</td>\n",
       "      <td>0</td>\n",
       "      <td>.@wesley83 i have a 3g iphone. after 3 hrs twe...</td>\n",
       "      <td>[wesley83, 3g, 3, hr, tweeting, riseaustin, de...</td>\n",
       "      <td>-0.250000</td>\n",
       "      <td>I 3G iPhone After hrs tweeting dead I need upg...</td>\n",
       "    </tr>\n",
       "    <tr>\n",
       "      <th>1</th>\n",
       "      <td>@jessedee Know about @fludapp ? Awesome iPad/i...</td>\n",
       "      <td>iPad or iPhone App</td>\n",
       "      <td>1</td>\n",
       "      <td>@jessedee know about @fludapp ? awesome ipad/i...</td>\n",
       "      <td>[jessedee, know, fludapp, awesome, ipadiphone,...</td>\n",
       "      <td>0.466667</td>\n",
       "      <td>Know Awesome iPadiPhone app youll likely appre...</td>\n",
       "    </tr>\n",
       "    <tr>\n",
       "      <th>2</th>\n",
       "      <td>@swonderlin Can not wait for #iPad 2 also. The...</td>\n",
       "      <td>iPad</td>\n",
       "      <td>1</td>\n",
       "      <td>@swonderlin can not wait for #ipad 2 also. the...</td>\n",
       "      <td>[swonderlin, wait, 2, also, sale]</td>\n",
       "      <td>-0.155556</td>\n",
       "      <td>Can wait also They sale</td>\n",
       "    </tr>\n",
       "    <tr>\n",
       "      <th>3</th>\n",
       "      <td>@sxsw I hope this year's festival isn't as cra...</td>\n",
       "      <td>iPad or iPhone App</td>\n",
       "      <td>0</td>\n",
       "      <td>@sxsw i hope this year's festival isn't as cra...</td>\n",
       "      <td>[hope, year, festival, nt, crashy, year, app]</td>\n",
       "      <td>0.000000</td>\n",
       "      <td>I hope years festival isnt crashy years iPhone...</td>\n",
       "    </tr>\n",
       "    <tr>\n",
       "      <th>5</th>\n",
       "      <td>@teachntech00 New iPad Apps For #SpeechTherapy...</td>\n",
       "      <td>NaN</td>\n",
       "      <td>2</td>\n",
       "      <td>@teachntech00 new ipad apps for #speechtherapy...</td>\n",
       "      <td>[teachntech00, new, apps, speechtherapy, commu...</td>\n",
       "      <td>0.136364</td>\n",
       "      <td>New iPad Apps For And Communication Are Showca...</td>\n",
       "    </tr>\n",
       "  </tbody>\n",
       "</table>\n",
       "</div>"
      ],
      "text/plain": [
       "                                          tweet_text  \\\n",
       "0  .@wesley83 I have a 3G iPhone. After 3 hrs twe...   \n",
       "1  @jessedee Know about @fludapp ? Awesome iPad/i...   \n",
       "2  @swonderlin Can not wait for #iPad 2 also. The...   \n",
       "3  @sxsw I hope this year's festival isn't as cra...   \n",
       "5  @teachntech00 New iPad Apps For #SpeechTherapy...   \n",
       "\n",
       "  emotion_in_tweet_is_directed_at  emotion  \\\n",
       "0                          iPhone        0   \n",
       "1              iPad or iPhone App        1   \n",
       "2                            iPad        1   \n",
       "3              iPad or iPhone App        0   \n",
       "5                             NaN        2   \n",
       "\n",
       "                                    tweet_text_lower  \\\n",
       "0  .@wesley83 i have a 3g iphone. after 3 hrs twe...   \n",
       "1  @jessedee know about @fludapp ? awesome ipad/i...   \n",
       "2  @swonderlin can not wait for #ipad 2 also. the...   \n",
       "3  @sxsw i hope this year's festival isn't as cra...   \n",
       "5  @teachntech00 new ipad apps for #speechtherapy...   \n",
       "\n",
       "                                              tokens  sentiment  \\\n",
       "0  [wesley83, 3g, 3, hr, tweeting, riseaustin, de...  -0.250000   \n",
       "1  [jessedee, know, fludapp, awesome, ipadiphone,...   0.466667   \n",
       "2                  [swonderlin, wait, 2, also, sale]  -0.155556   \n",
       "3      [hope, year, festival, nt, crashy, year, app]   0.000000   \n",
       "5  [teachntech00, new, apps, speechtherapy, commu...   0.136364   \n",
       "\n",
       "                                       cleaned_tweet  \n",
       "0  I 3G iPhone After hrs tweeting dead I need upg...  \n",
       "1  Know Awesome iPadiPhone app youll likely appre...  \n",
       "2                            Can wait also They sale  \n",
       "3  I hope years festival isnt crashy years iPhone...  \n",
       "5  New iPad Apps For And Communication Are Showca...  "
      ]
     },
     "execution_count": 62,
     "metadata": {},
     "output_type": "execute_result"
    }
   ],
   "source": [
    "# Apply the clean_tweet function and see output\n",
    "apple_df['cleaned_tweet'] = apple_df['tweet_text'].apply(clean_tweet)\n",
    "apple_df.head()"
   ]
  },
  {
   "cell_type": "code",
   "execution_count": 87,
   "metadata": {},
   "outputs": [],
   "source": [
    "# Load csv file to a DataFrame\n",
    "df = pd.read_csv(\"data/tweet_product_company.csv\", encoding = 'latin-1')\n",
    "# To filter in tweets mentioning apple related products\n",
    "df['tweet_text_lower'] = df['tweet_text'].str.lower()\n",
    "apple_related = 'ipad|apple|iphone|itunes' # filter condition\n",
    "df.dropna(subset=['tweet_text'], inplace=True) # droping out na\n",
    "apple_df = df[df['tweet_text_lower'].str.contains(apple_related)].copy() # filtered\n",
    "apple_df.drop_duplicates(inplace=True) # remove duplicated\n",
    "\n",
    "apple_df['tweet_text'] = apple_df['tweet_text'].apply(clean_tweet)\n",
    "\n",
    "# Sentiment analysis by TextBlob\n",
    "# pip install textblob\n",
    "from textblob import TextBlob\n",
    "apple_df['sentiment'] = apple_df['tweet_text'].apply(lambda x : TextBlob(x).sentiment.polarity)\n",
    "\n",
    "# Rename a column\n",
    "apple_df.rename(columns={\"is_there_an_emotion_directed_at_a_brand_or_product\": \"emotion\"}, inplace=True)\n",
    "\n",
    "import pandas as pd\n",
    "import nltk\n",
    "from nltk.corpus import stopwords\n",
    "from nltk.tokenize import word_tokenize\n",
    "from nltk.stem import WordNetLemmatizer\n",
    "\n",
    "# tokenize\n",
    "apple_df['tokens'] = df['tweet_text'].apply(word_tokenize)\n",
    "# lowring case\n",
    "apple_df['tokens'] = apple_df['tokens'].apply(lambda x: [word.lower() for word in x])\n",
    "# remove punctuation\n",
    "import string\n",
    "apple_df['tokens'] = apple_df['tokens'].apply(lambda x: \n",
    "                                              [word.translate(str.maketrans('', '', string.punctuation)) \n",
    "                                               for word in x])\n",
    "\n",
    "\n",
    "\n",
    "\n",
    "### stop words\n",
    "stop_words = set(stopwords.words('english'))\n",
    "stop_words.update(['sxsw','iphone','ipad','apple','','mention','link','rt','austin','store','2','quot','popup'])\n",
    "apple_df['tokens'] = apple_df['tokens'].apply(lambda x : [word for word in x if word.lower() not in stop_words])\n",
    "\n",
    "# lemmy\n",
    "lemmatizer = WordNetLemmatizer()\n",
    "apple_df['tokens'] = apple_df['tokens'].apply(lambda x : [lemmatizer.lemmatize(word) for word in x])\n"
   ]
  },
  {
   "cell_type": "code",
   "execution_count": 88,
   "metadata": {},
   "outputs": [],
   "source": [
    "df_pos = apple_df[apple_df['sentiment'] > 0]\n",
    "df_neg = apple_df[apple_df['sentiment'] < 0]\n",
    "df_neut = apple_df[apple_df['sentiment'] == 0]"
   ]
  },
  {
   "cell_type": "code",
   "execution_count": 89,
   "metadata": {},
   "outputs": [],
   "source": [
    "word_pos = nltk.FreqDist([word for tokens in df_pos['tokens'] for word in tokens])\n",
    "word_neg = nltk.FreqDist([word for tokens in df_neg['tokens'] for word in tokens])\n",
    "word_neut = nltk.FreqDist([word for tokens in df_neut['tokens'] for word in tokens])"
   ]
  },
  {
   "cell_type": "code",
   "execution_count": 90,
   "metadata": {
    "scrolled": true
   },
   "outputs": [
    {
     "data": {
      "image/png": "[encoded data removed]",
      "text/plain": [
       "<Figure size 1200x600 with 3 Axes>"
      ]
     },
     "metadata": {},
     "output_type": "display_data"
    }
   ],
   "source": [
    "import matplotlib.pyplot as plt\n",
    "\n",
    "# Assuming you have already calculated the word frequencies using nltk.FreqDist\n",
    "# word_pos, word_neg, word_neut are the FreqDist objects\n",
    "\n",
    "# Get the top N words from each FreqDist object\n",
    "top_n = 20  # Number of top words to display\n",
    "top_words_pos = word_pos.most_common(top_n)\n",
    "top_words_neg = word_neg.most_common(top_n)\n",
    "top_words_neut = word_neut.most_common(top_n)\n",
    "\n",
    "# Extract the words and frequencies from the top word lists, and reverse the order\n",
    "words_pos, freqs_pos = zip(*reversed(top_words_pos))\n",
    "words_neg, freqs_neg = zip(*reversed(top_words_neg))\n",
    "words_neut, freqs_neut = zip(*reversed(top_words_neut))\n",
    "\n",
    "# Plotting the word frequencies side by side\n",
    "plt.figure(figsize=(12, 6))\n",
    "\n",
    "# Plot for positive sentiment\n",
    "plt.subplot(1, 3, 1)\n",
    "plt.barh(range(len(words_pos)), freqs_pos, align='center')\n",
    "plt.yticks(range(len(words_pos)), words_pos)\n",
    "plt.xlabel('Frequency')\n",
    "plt.title('Top Words - Positive Sentiment')\n",
    "\n",
    "# Plot for negative sentiment\n",
    "plt.subplot(1, 3, 2)\n",
    "plt.barh(range(len(words_neg)), freqs_neg, align='center')\n",
    "plt.yticks(range(len(words_neg)), words_neg)\n",
    "plt.xlabel('Frequency')\n",
    "plt.title('Top Words - Negative Sentiment')\n",
    "\n",
    "# Plot for neutral sentiment\n",
    "plt.subplot(1, 3, 3)\n",
    "plt.barh(range(len(words_neut)), freqs_neut, align='center')\n",
    "plt.yticks(range(len(words_neut)), words_neut)\n",
    "plt.xlabel('Frequency')\n",
    "plt.title('Top Words - Neutral Sentiment')\n",
    "\n",
    "plt.tight_layout()\n",
    "plt.show()"
   ]
  },
  {
   "cell_type": "code",
   "execution_count": 91,
   "metadata": {},
   "outputs": [
    {
     "name": "stdout",
     "output_type": "stream",
     "text": [
      "Log-Likelihood: -37476.62478749044\n",
      "Perplexity: 13617.101352545149\n",
      "Topic 1: collective replacement drag everbody tronloungesxsw anything enchanting suicide pcma bubble\n",
      "Topic 2: collective anything bubble mar brightness enchanting suicide vip sit launched\n",
      "Topic 3: carrie mar regretting tweeted club mashabl suicide bynd 4g text\n",
      "Topic 4: 4g mar conferencesevents admits showing tsotchke ui contest carrie purchased\n",
      "Topic 5: mar carrie site anything msft brightness visiting dropping bart presentation\n"
     ]
    }
   ],
   "source": [
    "train_df, test_df = train_test_split(df_pos, test_size=0.2, random_state=42)\n",
    "\n",
    "train_data = train_df['tokens'].apply(lambda tokens: ' '.join(tokens))\n",
    "test_data = test_df['tokens'].apply(lambda tokens: ' '.join(tokens))\n",
    "\n",
    "vectorizer = CountVectorizer()\n",
    "train_vectorized = vectorizer.fit_transform(train_data)\n",
    "test_vectorized = vectorizer.transform(test_data)\n",
    "\n",
    "num_topics = 5  # Specify the desired number of topics\n",
    "lda = LatentDirichletAllocation(n_components=num_topics, random_state=42)\n",
    "lda.fit(train_vectorized)\n",
    "\n",
    "log_likelihood = lda.score(test_vectorized)\n",
    "perplexity = lda.perplexity(test_vectorized)\n",
    "print(f'Log-Likelihood: {log_likelihood}')\n",
    "print(f'Perplexity: {perplexity}')\n",
    "\n",
    "feature_names = list(vectorizer.vocabulary_.keys())\n",
    "top_words = 10  # Specify the number of top words to display for each topic\n",
    "\n",
    "for topic_idx, topic in enumerate(lda.components_):\n",
    "    top_words_indices = topic.argsort()[:-top_words - 1:-1]\n",
    "    top_words_list = [feature_names[i] for i in top_words_indices]\n",
    "    print(f'Topic {topic_idx + 1}: {\" \".join(top_words_list)}')"
   ]
  },
  {
   "cell_type": "code",
   "execution_count": 92,
   "metadata": {},
   "outputs": [
    {
     "name": "stdout",
     "output_type": "stream",
     "text": [
      "Log-Likelihood: -8068.561715112609\n",
      "Perplexity: 67085.37699554468\n",
      "Topic 1: march semi grown stole jesus min seriously handing deadline night\n",
      "Topic 2: wtf lone march worst anymore min upgrade outlet played composed\n",
      "Topic 3: wtf min went deadline mosaicxm tweeting packing rest reply booth\n",
      "Topic 4: outlet 2011 deadline tv niceness happen wtf coming abnormal either\n",
      "Topic 5: jean march outlet grown informed flip reply apple socialmedia night\n"
     ]
    }
   ],
   "source": [
    "train_df, test_df = train_test_split(df_neg, test_size=0.2, random_state=42)\n",
    "\n",
    "train_data = train_df['tokens'].apply(lambda tokens: ' '.join(tokens))\n",
    "test_data = test_df['tokens'].apply(lambda tokens: ' '.join(tokens))\n",
    "\n",
    "vectorizer = CountVectorizer()\n",
    "train_vectorized = vectorizer.fit_transform(train_data)\n",
    "test_vectorized = vectorizer.transform(test_data)\n",
    "\n",
    "num_topics = 5  # Specify the desired number of topics\n",
    "lda = LatentDirichletAllocation(n_components=num_topics, random_state=42)\n",
    "lda.fit(train_vectorized)\n",
    "\n",
    "log_likelihood = lda.score(test_vectorized)\n",
    "perplexity = lda.perplexity(test_vectorized)\n",
    "print(f'Log-Likelihood: {log_likelihood}')\n",
    "print(f'Perplexity: {perplexity}')\n",
    "\n",
    "feature_names = list(vectorizer.vocabulary_.keys())\n",
    "top_words = 10  # Specify the number of top words to display for each topic\n",
    "\n",
    "for topic_idx, topic in enumerate(lda.components_):\n",
    "    top_words_indices = topic.argsort()[:-top_words - 1:-1]\n",
    "    top_words_list = [feature_names[i] for i in top_words_indices]\n",
    "    print(f'Topic {topic_idx + 1}: {\" \".join(top_words_list)}')"
   ]
  },
  {
   "cell_type": "code",
   "execution_count": 93,
   "metadata": {},
   "outputs": [
    {
     "name": "stdout",
     "output_type": "stream",
     "text": [
      "Log-Likelihood: -28188.35337152478\n",
      "Perplexity: 20878.81423906768\n",
      "Topic 1: imac row suitcase tapworthy train purchaser supposedly brought trigger soldout\n",
      "Topic 2: trigger tapworthy uxamandroid tuesday etsy yay fly discriminatory ii wan\n",
      "Topic 3: trigger etsy echonest at038t ii tuesday tapworthy listed 141st greenberg\n",
      "Topic 4: tuesday visa trigger hug twoscreen wan imac note print community\n",
      "Topic 5: hi viral despite visa nutter discriminatory echonest earlier tapworthy mpact\n"
     ]
    }
   ],
   "source": [
    "train_df, test_df = train_test_split(df_neut, test_size=0.2, random_state=42)\n",
    "\n",
    "train_data = train_df['tokens'].apply(lambda tokens: ' '.join(tokens))\n",
    "test_data = test_df['tokens'].apply(lambda tokens: ' '.join(tokens))\n",
    "\n",
    "vectorizer = CountVectorizer()\n",
    "train_vectorized = vectorizer.fit_transform(train_data)\n",
    "test_vectorized = vectorizer.transform(test_data)\n",
    "\n",
    "num_topics = 5  # Specify the desired number of topics\n",
    "lda = LatentDirichletAllocation(n_components=num_topics, random_state=42)\n",
    "lda.fit(train_vectorized)\n",
    "\n",
    "log_likelihood = lda.score(test_vectorized)\n",
    "perplexity = lda.perplexity(test_vectorized)\n",
    "print(f'Log-Likelihood: {log_likelihood}')\n",
    "print(f'Perplexity: {perplexity}')\n",
    "\n",
    "feature_names = list(vectorizer.vocabulary_.keys())\n",
    "top_words = 10  # Specify the number of top words to display for each topic\n",
    "\n",
    "for topic_idx, topic in enumerate(lda.components_):\n",
    "    top_words_indices = topic.argsort()[:-top_words - 1:-1]\n",
    "    top_words_list = [feature_names[i] for i in top_words_indices]\n",
    "    print(f'Topic {topic_idx + 1}: {\" \".join(top_words_list)}')"
   ]
  },
  {
   "cell_type": "markdown",
   "metadata": {
    "jp-MarkdownHeadingCollapsed": true
   },
   "source": [
    "# If I follow previous classification"
   ]
  },
  {
   "cell_type": "code",
   "execution_count": 108,
   "metadata": {
    "scrolled": true
   },
   "outputs": [
    {
     "name": "stderr",
     "output_type": "stream",
     "text": [
      "/var/folders/sf/jkklx58940qbt_9v7c47hrgw0000gp/T/ipykernel_1175/4075198704.py:10: SettingWithCopyWarning: \n",
      "A value is trying to be set on a copy of a slice from a DataFrame\n",
      "\n",
      "See the caveats in the documentation: https://pandas.pydata.org/pandas-docs/stable/user_guide/indexing.html#returning-a-view-versus-a-copy\n",
      "  apple_df.drop_duplicates(inplace=True) # remove duplicated\n",
      "/var/folders/sf/jkklx58940qbt_9v7c47hrgw0000gp/T/ipykernel_1175/4075198704.py:12: SettingWithCopyWarning: \n",
      "A value is trying to be set on a copy of a slice from a DataFrame.\n",
      "Try using .loc[row_indexer,col_indexer] = value instead\n",
      "\n",
      "See the caveats in the documentation: https://pandas.pydata.org/pandas-docs/stable/user_guide/indexing.html#returning-a-view-versus-a-copy\n",
      "  apple_df['tweet_text'] = apple_df['tweet_text'].apply(clean_tweet)\n",
      "/var/folders/sf/jkklx58940qbt_9v7c47hrgw0000gp/T/ipykernel_1175/4075198704.py:17: SettingWithCopyWarning: \n",
      "A value is trying to be set on a copy of a slice from a DataFrame.\n",
      "Try using .loc[row_indexer,col_indexer] = value instead\n",
      "\n",
      "See the caveats in the documentation: https://pandas.pydata.org/pandas-docs/stable/user_guide/indexing.html#returning-a-view-versus-a-copy\n",
      "  apple_df['sentiment'] = apple_df['tweet_text'].apply(lambda x : TextBlob(x).sentiment.polarity)\n",
      "/var/folders/sf/jkklx58940qbt_9v7c47hrgw0000gp/T/ipykernel_1175/4075198704.py:20: SettingWithCopyWarning: \n",
      "A value is trying to be set on a copy of a slice from a DataFrame\n",
      "\n",
      "See the caveats in the documentation: https://pandas.pydata.org/pandas-docs/stable/user_guide/indexing.html#returning-a-view-versus-a-copy\n",
      "  apple_df.rename(columns={\"is_there_an_emotion_directed_at_a_brand_or_product\": \"emotion\"}, inplace=True)\n",
      "/var/folders/sf/jkklx58940qbt_9v7c47hrgw0000gp/T/ipykernel_1175/4075198704.py:29: SettingWithCopyWarning: \n",
      "A value is trying to be set on a copy of a slice from a DataFrame.\n",
      "Try using .loc[row_indexer,col_indexer] = value instead\n",
      "\n",
      "See the caveats in the documentation: https://pandas.pydata.org/pandas-docs/stable/user_guide/indexing.html#returning-a-view-versus-a-copy\n",
      "  apple_df['tokens'] = df['tweet_text'].apply(word_tokenize)\n",
      "/var/folders/sf/jkklx58940qbt_9v7c47hrgw0000gp/T/ipykernel_1175/4075198704.py:31: SettingWithCopyWarning: \n",
      "A value is trying to be set on a copy of a slice from a DataFrame.\n",
      "Try using .loc[row_indexer,col_indexer] = value instead\n",
      "\n",
      "See the caveats in the documentation: https://pandas.pydata.org/pandas-docs/stable/user_guide/indexing.html#returning-a-view-versus-a-copy\n",
      "  apple_df['tokens'] = apple_df['tokens'].apply(lambda x: [word.lower() for word in x])\n",
      "/var/folders/sf/jkklx58940qbt_9v7c47hrgw0000gp/T/ipykernel_1175/4075198704.py:34: SettingWithCopyWarning: \n",
      "A value is trying to be set on a copy of a slice from a DataFrame.\n",
      "Try using .loc[row_indexer,col_indexer] = value instead\n",
      "\n",
      "See the caveats in the documentation: https://pandas.pydata.org/pandas-docs/stable/user_guide/indexing.html#returning-a-view-versus-a-copy\n",
      "  apple_df['tokens'] = apple_df['tokens'].apply(lambda x:\n",
      "/var/folders/sf/jkklx58940qbt_9v7c47hrgw0000gp/T/ipykernel_1175/4075198704.py:46: SettingWithCopyWarning: \n",
      "A value is trying to be set on a copy of a slice from a DataFrame.\n",
      "Try using .loc[row_indexer,col_indexer] = value instead\n",
      "\n",
      "See the caveats in the documentation: https://pandas.pydata.org/pandas-docs/stable/user_guide/indexing.html#returning-a-view-versus-a-copy\n",
      "  apple_df['tokens'] = apple_df['tokens'].apply(lambda x : [word for word in x if word.lower() not in stop_words])\n",
      "/var/folders/sf/jkklx58940qbt_9v7c47hrgw0000gp/T/ipykernel_1175/4075198704.py:50: SettingWithCopyWarning: \n",
      "A value is trying to be set on a copy of a slice from a DataFrame.\n",
      "Try using .loc[row_indexer,col_indexer] = value instead\n",
      "\n",
      "See the caveats in the documentation: https://pandas.pydata.org/pandas-docs/stable/user_guide/indexing.html#returning-a-view-versus-a-copy\n",
      "  apple_df['tokens'] = apple_df['tokens'].apply(lambda x : [lemmatizer.lemmatize(word) for word in x])\n"
     ]
    }
   ],
   "source": [
    "# Load csv file to a DataFrame\n",
    "df = pd.read_csv(\"data/tweet_product_company.csv\", encoding = 'latin-1')\n",
    "# To filter in tweets mentioning apple related products\n",
    "# df['tweet_text_lower'] = df['tweet_text'].str.lower()\n",
    "# apple_related = 'ipad|apple|iphone|itunes' # filter condition\n",
    "apple_related = 'iPad|Apple|iPad or iPhone App|iPhone'\n",
    "df.dropna(subset=['emotion_in_tweet_is_directed_at'], inplace=True) # droping out na\n",
    "# apple_df = df[df['tweet_text_lower'].str.contains(apple_related)].copy() # filtered\n",
    "apple_df = df[df['emotion_in_tweet_is_directed_at'].str.contains(apple_related)]\n",
    "apple_df.drop_duplicates(inplace=True) # remove duplicated\n",
    "\n",
    "apple_df['tweet_text'] = apple_df['tweet_text'].apply(clean_tweet)\n",
    "\n",
    "# Sentiment analysis by TextBlob\n",
    "# pip install textblob\n",
    "from textblob import TextBlob\n",
    "apple_df['sentiment'] = apple_df['tweet_text'].apply(lambda x : TextBlob(x).sentiment.polarity)\n",
    "\n",
    "# Rename a column\n",
    "apple_df.rename(columns={\"is_there_an_emotion_directed_at_a_brand_or_product\": \"emotion\"}, inplace=True)\n",
    "\n",
    "import pandas as pd\n",
    "import nltk\n",
    "from nltk.corpus import stopwords\n",
    "from nltk.tokenize import word_tokenize\n",
    "from nltk.stem import WordNetLemmatizer\n",
    "\n",
    "# tokenize\n",
    "apple_df['tokens'] = df['tweet_text'].apply(word_tokenize)\n",
    "# lowring case\n",
    "apple_df['tokens'] = apple_df['tokens'].apply(lambda x: [word.lower() for word in x])\n",
    "# remove punctuation\n",
    "import string\n",
    "apple_df['tokens'] = apple_df['tokens'].apply(lambda x: \n",
    "                                              [word.translate(str.maketrans('', '', string.punctuation)) \n",
    "                                               for word in x])\n",
    "\n",
    "\n",
    "\n",
    "\n",
    "### stop words\n",
    "stop_words = set(stopwords.words('english'))\n",
    "# stop_words.update(['sxsw','iphone','ipad','apple','','mention','link','rt','austin','store','2','quot','popup'])\n",
    "stop_words.update(['sxsw','','mention','link','rt','austin','store','2','quot'])\n",
    "\n",
    "apple_df['tokens'] = apple_df['tokens'].apply(lambda x : [word for word in x if word.lower() not in stop_words])\n",
    "\n",
    "# lemmy\n",
    "lemmatizer = WordNetLemmatizer()\n",
    "apple_df['tokens'] = apple_df['tokens'].apply(lambda x : [lemmatizer.lemmatize(word) for word in x])\n"
   ]
  },
  {
   "cell_type": "code",
   "execution_count": 109,
   "metadata": {},
   "outputs": [
    {
     "data": {
      "text/plain": [
       "emotion\n",
       "Positive emotion                      1945\n",
       "Negative emotion                       387\n",
       "No emotion toward brand or product      65\n",
       "I can't tell                             7\n",
       "Name: count, dtype: int64"
      ]
     },
     "execution_count": 109,
     "metadata": {},
     "output_type": "execute_result"
    }
   ],
   "source": [
    "apple_df['emotion'].value_counts()"
   ]
  },
  {
   "cell_type": "code",
   "execution_count": 110,
   "metadata": {},
   "outputs": [],
   "source": [
    "def custom_encoder(apple_df):\n",
    "    apple_df.replace(to_replace =\"No emotion toward brand or product\", value =2, inplace=True)\n",
    "    apple_df.replace(to_replace =\"Positive emotion\", value =1, inplace=True)\n",
    "    apple_df.replace(to_replace =\"Negative emotion\", value =0, inplace=True)\n",
    "    apple_df.replace(to_replace =\"I can't tell\", value =2, inplace=True)"
   ]
  },
  {
   "cell_type": "code",
   "execution_count": 111,
   "metadata": {
    "scrolled": true
   },
   "outputs": [
    {
     "name": "stderr",
     "output_type": "stream",
     "text": [
      "/var/folders/sf/jkklx58940qbt_9v7c47hrgw0000gp/T/ipykernel_1175/644760998.py:2: SettingWithCopyWarning: \n",
      "A value is trying to be set on a copy of a slice from a DataFrame\n",
      "\n",
      "See the caveats in the documentation: https://pandas.pydata.org/pandas-docs/stable/user_guide/indexing.html#returning-a-view-versus-a-copy\n",
      "  apple_df.replace(to_replace =\"No emotion toward brand or product\", value =2, inplace=True)\n",
      "/var/folders/sf/jkklx58940qbt_9v7c47hrgw0000gp/T/ipykernel_1175/644760998.py:3: SettingWithCopyWarning: \n",
      "A value is trying to be set on a copy of a slice from a DataFrame\n",
      "\n",
      "See the caveats in the documentation: https://pandas.pydata.org/pandas-docs/stable/user_guide/indexing.html#returning-a-view-versus-a-copy\n",
      "  apple_df.replace(to_replace =\"Positive emotion\", value =1, inplace=True)\n",
      "/var/folders/sf/jkklx58940qbt_9v7c47hrgw0000gp/T/ipykernel_1175/644760998.py:4: SettingWithCopyWarning: \n",
      "A value is trying to be set on a copy of a slice from a DataFrame\n",
      "\n",
      "See the caveats in the documentation: https://pandas.pydata.org/pandas-docs/stable/user_guide/indexing.html#returning-a-view-versus-a-copy\n",
      "  apple_df.replace(to_replace =\"Negative emotion\", value =0, inplace=True)\n",
      "/var/folders/sf/jkklx58940qbt_9v7c47hrgw0000gp/T/ipykernel_1175/644760998.py:5: SettingWithCopyWarning: \n",
      "A value is trying to be set on a copy of a slice from a DataFrame\n",
      "\n",
      "See the caveats in the documentation: https://pandas.pydata.org/pandas-docs/stable/user_guide/indexing.html#returning-a-view-versus-a-copy\n",
      "  apple_df.replace(to_replace =\"I can't tell\", value =2, inplace=True)\n"
     ]
    }
   ],
   "source": [
    "custom_encoder(apple_df['emotion'])"
   ]
  },
  {
   "cell_type": "code",
   "execution_count": 112,
   "metadata": {},
   "outputs": [],
   "source": [
    "df_pos = apple_df[apple_df['emotion'] == 1]\n",
    "df_neg = apple_df[apple_df['emotion'] == 0]\n",
    "df_neut = apple_df[apple_df['emotion'] == 2]"
   ]
  },
  {
   "cell_type": "code",
   "execution_count": 113,
   "metadata": {},
   "outputs": [],
   "source": [
    "word_pos = nltk.FreqDist([word for tokens in df_pos['tokens'] for word in tokens])\n",
    "word_neg = nltk.FreqDist([word for tokens in df_neg['tokens'] for word in tokens])\n",
    "word_neut = nltk.FreqDist([word for tokens in df_neut['tokens'] for word in tokens])"
   ]
  },
  {
   "cell_type": "code",
   "execution_count": 114,
   "metadata": {},
   "outputs": [
    {
     "data": {
      "image/png": "[encoded data removed]",
      "text/plain": [
       "<Figure size 1200x600 with 3 Axes>"
      ]
     },
     "metadata": {},
     "output_type": "display_data"
    }
   ],
   "source": [
    "import matplotlib.pyplot as plt\n",
    "\n",
    "# Assuming you have already calculated the word frequencies using nltk.FreqDist\n",
    "# word_pos, word_neg, word_neut are the FreqDist objects\n",
    "\n",
    "# Get the top N words from each FreqDist object\n",
    "top_n = 20  # Number of top words to display\n",
    "top_words_pos = word_pos.most_common(top_n)\n",
    "top_words_neg = word_neg.most_common(top_n)\n",
    "top_words_neut = word_neut.most_common(top_n)\n",
    "\n",
    "# Extract the words and frequencies from the top word lists, and reverse the order\n",
    "words_pos, freqs_pos = zip(*reversed(top_words_pos))\n",
    "words_neg, freqs_neg = zip(*reversed(top_words_neg))\n",
    "words_neut, freqs_neut = zip(*reversed(top_words_neut))\n",
    "\n",
    "# Plotting the word frequencies side by side\n",
    "plt.figure(figsize=(12, 6))\n",
    "\n",
    "# Plot for positive sentiment\n",
    "plt.subplot(1, 3, 1)\n",
    "plt.barh(range(len(words_pos)), freqs_pos, align='center')\n",
    "plt.yticks(range(len(words_pos)), words_pos)\n",
    "plt.xlabel('Frequency')\n",
    "plt.title('Top Words - Positive Sentiment')\n",
    "\n",
    "# Plot for negative sentiment\n",
    "plt.subplot(1, 3, 2)\n",
    "plt.barh(range(len(words_neg)), freqs_neg, align='center')\n",
    "plt.yticks(range(len(words_neg)), words_neg)\n",
    "plt.xlabel('Frequency')\n",
    "plt.title('Top Words - Negative Sentiment')\n",
    "\n",
    "# Plot for neutral sentiment\n",
    "plt.subplot(1, 3, 3)\n",
    "plt.barh(range(len(words_neut)), freqs_neut, align='center')\n",
    "plt.yticks(range(len(words_neut)), words_neut)\n",
    "plt.xlabel('Frequency')\n",
    "plt.title('Top Words - Neutral Sentiment')\n",
    "\n",
    "plt.tight_layout()\n",
    "plt.show()"
   ]
  },
  {
   "cell_type": "code",
   "execution_count": 115,
   "metadata": {},
   "outputs": [
    {
     "name": "stdout",
     "output_type": "stream",
     "text": [
      "Log-Likelihood: -28318.672793047408\n",
      "Perplexity: 9871.039434979377\n",
      "Topic 1: built boyfriend wipe cbatsxsw tether seat aquent 106 teach christmas\n",
      "Topic 2: boyfriend tether built copia cut physical cooler lynn heart downloaded\n",
      "Topic 3: boyfriend physical tether iphoneipod built wing fastsociety pump landlord perfect\n",
      "Topic 4: boyfriend built tether physical pump apartment cbatsxsw crazy replacement always\n",
      "Topic 5: built boyfriend tether pump physical seat wipe aquent 2seems cbatsxsw\n"
     ]
    }
   ],
   "source": [
    "train_df, test_df = train_test_split(df_pos, test_size=0.2, random_state=42)\n",
    "\n",
    "train_data = train_df['tokens'].apply(lambda tokens: ' '.join(tokens))\n",
    "test_data = test_df['tokens'].apply(lambda tokens: ' '.join(tokens))\n",
    "\n",
    "vectorizer = CountVectorizer()\n",
    "train_vectorized = vectorizer.fit_transform(train_data)\n",
    "test_vectorized = vectorizer.transform(test_data)\n",
    "\n",
    "num_topics = 5  # Specify the desired number of topics\n",
    "lda = LatentDirichletAllocation(n_components=num_topics, random_state=42)\n",
    "lda.fit(train_vectorized)\n",
    "\n",
    "log_likelihood = lda.score(test_vectorized)\n",
    "perplexity = lda.perplexity(test_vectorized)\n",
    "print(f'Log-Likelihood: {log_likelihood}')\n",
    "print(f'Perplexity: {perplexity}')\n",
    "\n",
    "feature_names = list(vectorizer.vocabulary_.keys())\n",
    "top_words = 10  # Specify the number of top words to display for each topic\n",
    "\n",
    "for topic_idx, topic in enumerate(lda.components_):\n",
    "    top_words_indices = topic.argsort()[:-top_words - 1:-1]\n",
    "    top_words_list = [feature_names[i] for i in top_words_indices]\n",
    "    print(f'Topic {topic_idx + 1}: {\" \".join(top_words_list)}')"
   ]
  },
  {
   "cell_type": "code",
   "execution_count": 116,
   "metadata": {},
   "outputs": [
    {
     "name": "stdout",
     "output_type": "stream",
     "text": [
      "Log-Likelihood: -5878.696100085457\n",
      "Perplexity: 28552.63593152923\n",
      "Topic 1: happen shortening many interesting crapkit unless illmakeitwork haha instagram part\n",
      "Topic 2: many interesting happen part illmakeitwork know geo oldschool saw iphonebroken\n",
      "Topic 3: many happen interesting using expect ridic illmakeitwork foursquaregowalla rest kinda\n",
      "Topic 4: interesting many illmakeitwork shortening part nerd internet insidious want happen\n",
      "Topic 5: happen many interesting struggle part illmakeitwork oldschool getting 45 useful\n"
     ]
    }
   ],
   "source": [
    "train_df, test_df = train_test_split(df_neg, test_size=0.2, random_state=42)\n",
    "\n",
    "train_data = train_df['tokens'].apply(lambda tokens: ' '.join(tokens))\n",
    "test_data = test_df['tokens'].apply(lambda tokens: ' '.join(tokens))\n",
    "\n",
    "vectorizer = CountVectorizer()\n",
    "train_vectorized = vectorizer.fit_transform(train_data)\n",
    "test_vectorized = vectorizer.transform(test_data)\n",
    "\n",
    "num_topics = 5  # Specify the desired number of topics\n",
    "lda = LatentDirichletAllocation(n_components=num_topics, random_state=42)\n",
    "lda.fit(train_vectorized)\n",
    "\n",
    "log_likelihood = lda.score(test_vectorized)\n",
    "perplexity = lda.perplexity(test_vectorized)\n",
    "print(f'Log-Likelihood: {log_likelihood}')\n",
    "print(f'Perplexity: {perplexity}')\n",
    "\n",
    "feature_names = list(vectorizer.vocabulary_.keys())\n",
    "top_words = 10  # Specify the number of top words to display for each topic\n",
    "\n",
    "for topic_idx, topic in enumerate(lda.components_):\n",
    "    top_words_indices = topic.argsort()[:-top_words - 1:-1]\n",
    "    top_words_list = [feature_names[i] for i in top_words_indices]\n",
    "    print(f'Topic {topic_idx + 1}: {\" \".join(top_words_list)}')"
   ]
  },
  {
   "cell_type": "code",
   "execution_count": 117,
   "metadata": {},
   "outputs": [
    {
     "name": "stdout",
     "output_type": "stream",
     "text": [
      "Log-Likelihood: -831.0454525963504\n",
      "Perplexity: 1035875.5232425161\n",
      "Topic 1: changer mscpage btw jealous gadget dying anticipation snarky brian gut\n",
      "Topic 2: changer mscpage 99 gadget akqa could thank front mashable pagemaker\n",
      "Topic 3: changer mscpage anticipation 99 could guy ay comment tshirt 215\n",
      "Topic 4: mscpage genius everyone austinjs geez could changer packed btw disproportionately\n",
      "Topic 5: mscpage could gsdm tshirt nationwide 99 changer money bitlyguardianapp best\n"
     ]
    }
   ],
   "source": [
    "train_df, test_df = train_test_split(df_neut, test_size=0.2, random_state=42)\n",
    "\n",
    "train_data = train_df['tokens'].apply(lambda tokens: ' '.join(tokens))\n",
    "test_data = test_df['tokens'].apply(lambda tokens: ' '.join(tokens))\n",
    "\n",
    "vectorizer = CountVectorizer()\n",
    "train_vectorized = vectorizer.fit_transform(train_data)\n",
    "test_vectorized = vectorizer.transform(test_data)\n",
    "\n",
    "num_topics = 5  # Specify the desired number of topics\n",
    "lda = LatentDirichletAllocation(n_components=num_topics, random_state=42)\n",
    "lda.fit(train_vectorized)\n",
    "\n",
    "log_likelihood = lda.score(test_vectorized)\n",
    "perplexity = lda.perplexity(test_vectorized)\n",
    "print(f'Log-Likelihood: {log_likelihood}')\n",
    "print(f'Perplexity: {perplexity}')\n",
    "\n",
    "feature_names = list(vectorizer.vocabulary_.keys())\n",
    "top_words = 10  # Specify the number of top words to display for each topic\n",
    "\n",
    "for topic_idx, topic in enumerate(lda.components_):\n",
    "    top_words_indices = topic.argsort()[:-top_words - 1:-1]\n",
    "    top_words_list = [feature_names[i] for i in top_words_indices]\n",
    "    print(f'Topic {topic_idx + 1}: {\" \".join(top_words_list)}')"
   ]
  },
  {
   "cell_type": "markdown",
   "metadata": {},
   "source": [
    "# K means clustering"
   ]
  },
  {
   "cell_type": "code",
   "execution_count": 129,
   "metadata": {},
   "outputs": [],
   "source": [
    "# Load csv file to a DataFrame\n",
    "df = pd.read_csv(\"data/tweet_product_company.csv\", encoding = 'latin-1')\n",
    "# To filter in tweets mentioning apple related products\n",
    "df['tweet_text_lower'] = df['tweet_text'].str.lower()\n",
    "apple_related = 'ipad|apple|iphone|itunes' # filter condition\n",
    "df.dropna(subset=['tweet_text'], inplace=True) # droping out na\n",
    "apple_df = df[df['tweet_text_lower'].str.contains(apple_related)].copy() # filtered\n",
    "apple_df.drop_duplicates(inplace=True) # remove duplicated\n",
    "\n",
    "apple_df['tweet_text'] = apple_df['tweet_text'].apply(clean_tweet)\n",
    "\n",
    "# Sentiment analysis by TextBlob\n",
    "# pip install textblob\n",
    "from textblob import TextBlob\n",
    "apple_df['sentiment'] = apple_df['tweet_text'].apply(lambda x : TextBlob(x).sentiment.polarity)\n",
    "\n",
    "# Rename a column\n",
    "apple_df.rename(columns={\"is_there_an_emotion_directed_at_a_brand_or_product\": \"emotion\"}, inplace=True)\n",
    "\n",
    "import pandas as pd\n",
    "import nltk\n",
    "from nltk.corpus import stopwords\n",
    "from nltk.tokenize import word_tokenize\n",
    "from nltk.stem import WordNetLemmatizer\n",
    "\n",
    "# tokenize\n",
    "apple_df['tokens'] = df['tweet_text'].apply(word_tokenize)\n",
    "# lowring case\n",
    "apple_df['tokens'] = apple_df['tokens'].apply(lambda x: [word.lower() for word in x])\n",
    "# remove punctuation\n",
    "import string\n",
    "apple_df['tokens'] = apple_df['tokens'].apply(lambda x: \n",
    "                                              [word.translate(str.maketrans('', '', string.punctuation)) \n",
    "                                               for word in x])\n",
    "\n",
    "\n",
    "\n",
    "\n",
    "### stop words\n",
    "stop_words = set(stopwords.words('english'))\n",
    "stop_words.update(['sxsw','iphone','ipad','apple','','mention','link','rt','austin','store','2','quot','popup'])\n",
    "apple_df['tokens'] = apple_df['tokens'].apply(lambda x : [word for word in x if word.lower() not in stop_words])\n",
    "\n",
    "# lemmy\n",
    "lemmatizer = WordNetLemmatizer()\n",
    "apple_df['tokens'] = apple_df['tokens'].apply(lambda x : [lemmatizer.lemmatize(word) for word in x])\n"
   ]
  },
  {
   "cell_type": "code",
   "execution_count": 130,
   "metadata": {},
   "outputs": [],
   "source": [
    "df_pos = apple_df[apple_df['sentiment'] > 0]\n",
    "df_neg = apple_df[apple_df['sentiment'] < 0]\n",
    "df_neut = apple_df[apple_df['sentiment'] == 0]"
   ]
  },
  {
   "cell_type": "code",
   "execution_count": 131,
   "metadata": {},
   "outputs": [
    {
     "name": "stdout",
     "output_type": "stream",
     "text": [
      "<class 'pandas.core.frame.DataFrame'>\n",
      "Index: 2481 entries, 2 to 9088\n",
      "Data columns (total 6 columns):\n",
      " #   Column                           Non-Null Count  Dtype  \n",
      "---  ------                           --------------  -----  \n",
      " 0   tweet_text                       2481 non-null   object \n",
      " 1   emotion_in_tweet_is_directed_at  837 non-null    object \n",
      " 2   emotion                          2481 non-null   object \n",
      " 3   tweet_text_lower                 2481 non-null   object \n",
      " 4   sentiment                        2481 non-null   float64\n",
      " 5   tokens                           2481 non-null   object \n",
      "dtypes: float64(1), object(5)\n",
      "memory usage: 135.7+ KB\n"
     ]
    }
   ],
   "source": [
    "df_neut.info()"
   ]
  },
  {
   "cell_type": "code",
   "execution_count": 132,
   "metadata": {},
   "outputs": [],
   "source": [
    "import pandas as pd\n",
    "from sklearn.feature_extraction.text import TfidfVectorizer\n",
    "from sklearn.cluster import KMeans\n",
    "from sklearn.preprocessing import StandardScaler"
   ]
  },
  {
   "cell_type": "code",
   "execution_count": 133,
   "metadata": {},
   "outputs": [
    {
     "data": {
      "text/plain": [
       "2                        [swonderlin, wait, also, sale]\n",
       "3         [hope, year, festival, nt, crashy, year, app]\n",
       "16    [holler, gram, itunes, app, http, tcokfn3f5q, ...\n",
       "31    [must, app, going, http, itunesapplecomusappho...\n",
       "39    [vatornews, google, force, print, medium, evolve]\n",
       "Name: tokens, dtype: object"
      ]
     },
     "execution_count": 133,
     "metadata": {},
     "output_type": "execute_result"
    }
   ],
   "source": [
    "df_neut['tokens'].head()"
   ]
  },
  {
   "cell_type": "code",
   "execution_count": 134,
   "metadata": {},
   "outputs": [
    {
     "name": "stderr",
     "output_type": "stream",
     "text": [
      "/var/folders/sf/jkklx58940qbt_9v7c47hrgw0000gp/T/ipykernel_1175/3999146477.py:1: SettingWithCopyWarning: \n",
      "A value is trying to be set on a copy of a slice from a DataFrame.\n",
      "Try using .loc[row_indexer,col_indexer] = value instead\n",
      "\n",
      "See the caveats in the documentation: https://pandas.pydata.org/pandas-docs/stable/user_guide/indexing.html#returning-a-view-versus-a-copy\n",
      "  df_neut['preprocessed_text'] = df_neut['tokens'].apply(lambda tokens: ' '.join(tokens))\n"
     ]
    }
   ],
   "source": [
    "df_neut['preprocessed_text'] = df_neut['tokens'].apply(lambda tokens: ' '.join(tokens))"
   ]
  },
  {
   "cell_type": "code",
   "execution_count": 135,
   "metadata": {},
   "outputs": [],
   "source": [
    "vectorizer = TfidfVectorizer()\n",
    "X = vectorizer.fit_transform(df_neut['preprocessed_text'])"
   ]
  },
  {
   "cell_type": "code",
   "execution_count": 136,
   "metadata": {},
   "outputs": [
    {
     "name": "stderr",
     "output_type": "stream",
     "text": [
      "/Users/Namsoo/anaconda3/envs/learn-env/lib/python3.9/site-packages/sklearn/cluster/_kmeans.py:1412: FutureWarning: The default value of `n_init` will change from 10 to 'auto' in 1.4. Set the value of `n_init` explicitly to suppress the warning\n",
      "  super()._check_params_vs_input(X, default_n_init=10)\n"
     ]
    },
    {
     "name": "stdout",
     "output_type": "stream",
     "text": [
      "Cluster 0:\n",
      "4005    Kenya asked blog I may tomorrow Apple popup st...\n",
      "Name: tweet_text, dtype: object\n",
      "------------------\n",
      "Cluster 1:\n",
      "2                               Can wait also They sale\n",
      "3     I hope years festival isnt crashy years iPhone...\n",
      "16                Holler Gram iPad iTunes App Store via\n",
      "31                              You must app iPad going\n",
      "39    VatorNews Google And Apple Force Print Media E...\n",
      "Name: tweet_text, dtype: object\n",
      "------------------\n",
      "Cluster 2:\n",
      "8340    taking notes Noteshelf iPad recently downloade...\n",
      "Name: tweet_text, dtype: object\n",
      "------------------\n",
      "Cluster 3:\n",
      "4557    Turn iPhone landscape web app details caridge ...\n",
      "Name: tweet_text, dtype: object\n",
      "------------------\n",
      "Cluster 4:\n",
      "7260    It dawned iPad launch timed coincide gain maxi...\n",
      "Name: tweet_text, dtype: object\n",
      "------------------\n"
     ]
    },
    {
     "name": "stderr",
     "output_type": "stream",
     "text": [
      "/var/folders/sf/jkklx58940qbt_9v7c47hrgw0000gp/T/ipykernel_1175/3389727907.py:13: SettingWithCopyWarning: \n",
      "A value is trying to be set on a copy of a slice from a DataFrame.\n",
      "Try using .loc[row_indexer,col_indexer] = value instead\n",
      "\n",
      "See the caveats in the documentation: https://pandas.pydata.org/pandas-docs/stable/user_guide/indexing.html#returning-a-view-versus-a-copy\n",
      "  df_neut['cluster'] = kmeans.labels_\n"
     ]
    }
   ],
   "source": [
    "# Scale the features\n",
    "scaler = StandardScaler()\n",
    "X_scaled = scaler.fit_transform(X.toarray())\n",
    "\n",
    "# Determine the number of clusters\n",
    "num_clusters = 5\n",
    "\n",
    "# Apply K-means clustering\n",
    "kmeans = KMeans(n_clusters=num_clusters, random_state=42)\n",
    "kmeans.fit(X_scaled)\n",
    "\n",
    "# Add cluster labels to the dataframe\n",
    "df_neut['cluster'] = kmeans.labels_\n",
    "\n",
    "# Analyze the clustering results\n",
    "for cluster_id in range(num_clusters):\n",
    "    print(f\"Cluster {cluster_id}:\")\n",
    "    cluster_tweets = df_neut[df_neut['cluster'] == cluster_id]['tweet_text']\n",
    "    print(cluster_tweets.head())\n",
    "    print(\"------------------\")"
   ]
  },
  {
   "cell_type": "code",
   "execution_count": 138,
   "metadata": {},
   "outputs": [
    {
     "data": {
      "text/plain": [
       "cluster\n",
       "1    2477\n",
       "0       1\n",
       "3       1\n",
       "4       1\n",
       "2       1\n",
       "Name: count, dtype: int64"
      ]
     },
     "execution_count": 138,
     "metadata": {},
     "output_type": "execute_result"
    }
   ],
   "source": [
    "df_neut['cluster'].value_counts()"
   ]
  },
  {
   "cell_type": "code",
   "execution_count": null,
   "metadata": {},
   "outputs": [],
   "source": [
    "df_"
   ]
  }
 ],
 "metadata": {
  "kernelspec": {
   "display_name": "Python (learn-env)",
   "language": "python",
   "name": "learn-env"
  },
  "language_info": {
   "codemirror_mode": {
    "name": "ipython",
    "version": 3
   },
   "file_extension": ".py",
   "mimetype": "text/x-python",
   "name": "python",
   "nbconvert_exporter": "python",
   "pygments_lexer": "ipython3",
   "version": "3.9.18"
  }
 },
 "nbformat": 4,
 "nbformat_minor": 4
}
